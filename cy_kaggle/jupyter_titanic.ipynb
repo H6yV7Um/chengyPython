{
 "cells": [
  {
   "cell_type": "code",
   "execution_count": 40,
   "metadata": {
    "collapsed": true
   },
   "outputs": [],
   "source": [
    "import numpy as np\n",
    "from cy_kaggle import cy_titanic\n",
    "\n",
    "\n",
    "features, x_train, y = cy_titanic.load_dataset()\n",
    "\n",
    "remove_features_index = [0, 2, 7, 9]\n",
    "features = np.delete(features, remove_features_index, axis=0)\n",
    "x_train = np.delete(x_train, remove_features_index, axis=1)\n",
    "\n",
    "\n",
    "params = {'male': '1', 'female': '0', 'S': '0', 'Q': '1', 'C': '2'}\n",
    "col_index = [1, -1]\n",
    "fixed_missing_X = cy_titanic.fix_missing(x_train, col_index, params)"
   ]
  },
  {
   "cell_type": "code",
   "execution_count": 56,
   "metadata": {
    "collapsed": false
   },
   "outputs": [
    {
     "name": "stdout",
     "output_type": "stream",
     "text": [
      "[[ 1.          1.          0.27117366 ...,  0.          0.01415106  0.        ]\n [ 0.          0.          0.4722292  ...,  0.          0.13913574  1.        ]\n [ 1.          0.          0.32143755 ...,  0.          0.01546857  0.        ]\n ..., \n [ 1.          0.          0.36792055 ...,  0.33333333  0.04577135  0.        ]\n [ 0.          1.          0.32143755 ...,  0.          0.0585561   1.        ]\n [ 1.          1.          0.39683338 ...,  0.          0.01512699  0.5       ]]\n[   2.        1.       79.58      8.        6.      512.3292    2.    ]\n[ 1.    0.    0.42  0.    0.    0.    0.  ]\n"
     ]
    },
    {
     "data": {
      "text/plain": [
       "(array([[ 1.        ,  1.        ,  0.27117366, ...,  0.        ,\n          0.01415106,  0.        ],\n        [ 0.        ,  0.        ,  0.4722292 , ...,  0.        ,\n          0.13913574,  1.        ],\n        [ 1.        ,  0.        ,  0.32143755, ...,  0.        ,\n          0.01546857,  0.        ],\n        ..., \n        [ 1.        ,  0.        ,  0.36792055, ...,  0.33333333,\n          0.04577135,  0.        ],\n        [ 0.        ,  1.        ,  0.32143755, ...,  0.        ,\n          0.0585561 ,  1.        ],\n        [ 1.        ,  1.        ,  0.39683338, ...,  0.        ,\n          0.01512699,  0.5       ]]),\n array([   2.    ,    1.    ,   79.58  ,    8.    ,    6.    ,  512.3292,\n           2.    ]),\n array([ 1.  ,  0.  ,  0.42,  0.  ,  0.  ,  0.  ,  0.  ]))"
      ]
     },
     "execution_count": 56,
     "metadata": {},
     "output_type": "execute_result"
    }
   ],
   "source": [
    "from imp import reload\n",
    "reload(cy_titanic)\n",
    "cy_titanic.auto_norm(fixed_missing_X)\n"
   ]
  },
  {
   "cell_type": "code",
   "execution_count": null,
   "metadata": {},
   "outputs": [],
   "source": []
  }
 ],
 "metadata": {
  "kernelspec": {
   "display_name": "Python 2",
   "language": "python",
   "name": "python2"
  },
  "language_info": {
   "codemirror_mode": {
    "name": "ipython",
    "version": 2
   },
   "file_extension": ".py",
   "mimetype": "text/x-python",
   "name": "python",
   "nbconvert_exporter": "python",
   "pygments_lexer": "ipython2",
   "version": "2.7.6"
  }
 },
 "nbformat": 4,
 "nbformat_minor": 0
}
