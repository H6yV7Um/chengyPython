{
 "cells": [
  {
   "cell_type": "code",
   "execution_count": 1,
   "metadata": {
    "collapsed": true
   },
   "outputs": [],
   "source": [
    "import numpy as np\n",
    "\n",
    "from cy_kaggle import cy_titanic\n",
    "\n",
    "features, x_train, y = cy_titanic.load_dataset()\n",
    "\n",
    "remove_features_index = [0, 2, 7, 9]\n",
    "features = np.delete(features, remove_features_index, axis=0)\n",
    "x_train = np.delete(x_train, remove_features_index, axis=1)\n",
    "\n",
    "params = {'male': '1', 'female': '0', 'S': '0', 'Q': '1', 'C': '2'}\n",
    "col_index = [1, -1]\n",
    "fixed_missing_X = cy_titanic.fix_missing(x_train, col_index, params)\n",
    "\n",
    "normDataSet, range_val, min_val = cy_titanic.auto_norm(fixed_missing_X)\n"
   ]
  },
  {
   "cell_type": "code",
   "execution_count": 8,
   "metadata": {
    "collapsed": true
   },
   "outputs": [],
   "source": [
    "import matplotlib.pyplot as plt\n",
    "from sklearn.discriminant_analysis import LinearDiscriminantAnalysis\n",
    "\n",
    "lda = LinearDiscriminantAnalysis(n_components=2)\n",
    "y = y.astype(float)\n",
    "X_r2 = lda.fit(fixed_missing_X, y).transform(fixed_missing_X)\n",
    "\n",
    "colors = ['navy', 'turquoise']\n",
    "target_names = ['dead', 'alive']\n",
    "\n",
    "# plt.figure()\n",
    "# for color, i, target_name in zip(colors, [0, 1], target_names):\n",
    "#     plt.scatter(X_r2[y == i, 0], X_r2[y == i, 1], alpha=.8, color=color,\n",
    "#                 label=target_name)\n",
    "# plt.legend(loc='best', shadow=False, scatterpoints=1)\n",
    "# plt.title('LDA of titanic dataset')\n",
    "# plt.show()\n"
   ]
  },
  {
   "cell_type": "code",
   "execution_count": 14,
   "metadata": {},
   "outputs": [],
   "source": [
    "import matplotlib.pyplot as plt\n",
    "from sklearn.discriminant_analysis import LinearDiscriminantAnalysis\n",
    "\n",
    "lda = LinearDiscriminantAnalysis(n_components=2)\n",
    "y = y.astype(float)\n",
    "X_r2 = lda.fit(fixed_missing_X, y).transform(fixed_missing_X)\n",
    "\n",
    "colors = ['navy', 'turquoise']\n",
    "target_names = ['dead', 'alive']\n",
    "\n",
    "X_Zreo = np.zeros(X_r2.shape)\n",
    "\n",
    "plt.figure()\n",
    "for color, i, target_name in zip(colors, [0, 1], target_names):\n",
    "    plt.scatter(X_r2[y == i], X_Zreo[y == i], alpha=.8, color=color,\n",
    "                label=target_name)\n",
    "plt.legend(loc='best', shadow=False, scatterpoints=1)\n",
    "plt.title('LDA of titanic dataset')\n",
    "plt.show()\n"
   ]
  },
  {
   "cell_type": "code",
   "execution_count": 16,
   "metadata": {
    "collapsed": true
   },
   "outputs": [
    {
     "data": {
      "text/plain": [
       "SVC(C=1.0, cache_size=200, class_weight=None, coef0=0.0,\n  decision_function_shape='ovr', degree=3, gamma='auto', kernel='rbf',\n  max_iter=-1, probability=False, random_state=None, shrinking=True,\n  tol=0.001, verbose=False)"
      ]
     },
     "execution_count": 16,
     "metadata": {},
     "output_type": "execute_result"
    }
   ],
   "source": [
    "from sklearn import svm\n",
    "clf=svm.SVC()\n",
    "clf.fit(fixed_missing_X,y)"
   ]
  },
  {
   "cell_type": "code",
   "execution_count": 17,
   "metadata": {
    "collapsed": true
   },
   "outputs": [
    {
     "data": {
      "text/plain": [
       "array([ 0.,  1.,  0.,  1.,  0.,  0.,  0.,  0.,  1.,  1.,  1.,  0.,  0.,\n        0.,  1.,  1.,  0.,  0.,  0.,  1.,  1.,  0.,  1.,  1.,  0.,  0.,\n        0.,  0.,  1.,  0.,  0.,  1.,  1.,  0.,  0.,  1.,  0.,  0.,  0.,\n        1.,  0.,  0.,  0.,  1.,  0.,  0.,  0.,  1.,  1.,  0.,  0.,  0.,\n        1.,  1.,  0.,  1.,  0.,  0.,  1.,  0.,  0.,  1.,  0.,  0.,  0.,\n        0.,  1.,  0.,  1.,  0.,  0.,  0.,  0.,  0.,  1.,  0.,  0.,  0.,\n        1.,  1.,  0.,  0.,  1.,  0.,  1.,  1.,  0.,  0.,  1.,  0.,  0.,\n        0.,  0.,  0.,  0.,  0.,  0.,  1.,  1.,  1.,  1.,  0.,  0.,  0.,\n        0.,  0.,  0.,  0.,  0.,  1.,  1.,  0.,  0.,  0.,  0.,  0.,  0.,\n        0.,  0.,  0.,  0.,  0.,  1.,  1.,  0.,  1.,  0.,  0.,  1.,  0.,\n        0.,  0.,  0.,  1.,  0.,  0.,  1.,  1.,  0.,  0.,  1.,  0.,  0.,\n        0.,  0.,  0.,  0.,  0.,  0.,  1.,  0.,  1.,  0.,  0.,  0.,  0.,\n        1.,  0.,  0.,  0.,  0.,  1.,  0.,  0.,  0.,  1.,  1.,  0.,  0.,\n        1.,  0.,  0.,  1.,  0.,  0.,  0.,  0.,  0.,  0.,  0.,  0.,  0.,\n        0.,  1.,  1.,  0.,  0.,  0.,  0.,  0.,  1.,  0.,  0.,  1.,  1.,\n        1.,  0.,  0.,  1.,  0.,  0.,  0.,  0.,  0.,  0.,  1.,  0.,  1.,\n        1.,  1.,  0.,  1.,  0.,  0.,  0.,  1.,  1.,  0.,  1.,  0.,  0.,\n        0.,  0.,  0.,  1.,  0.,  0.,  0.,  0.,  0.,  1.,  0.,  0.,  0.,\n        0.,  1.,  0.,  1.,  0.,  0.,  0.,  0.,  0.,  0.,  0.,  0.,  0.,\n        1.,  1.,  0.,  0.,  0.,  0.,  0.,  0.,  1.,  1.,  1.,  1.,  1.,\n        0.,  0.,  0.,  0.,  1.,  0.,  0.,  0.,  1.,  1.,  1.,  1.,  1.,\n        0.,  1.,  1.,  0.,  0.,  0.,  1.,  0.,  0.,  0.,  0.,  0.,  0.,\n        0.,  0.,  1.,  0.,  1.,  1.,  0.,  0.,  0.,  0.,  0.,  0.,  1.,\n        1.,  1.,  1.,  0.,  1.,  0.,  1.,  1.,  1.,  0.,  1.,  1.,  1.,\n        1.,  0.,  0.,  0.,  1.,  0.,  1.,  1.,  0.,  0.,  1.,  1.,  0.,\n        1.,  0.,  0.,  0.,  1.,  1.,  0.,  0.,  0.,  1.,  0.,  0.,  1.,\n        0.,  0.,  1.,  1.,  0.,  0.,  0.,  0.,  1.,  1.,  1.,  0.,  0.,\n        1.,  0.,  0.,  0.,  0.,  1.,  0.,  1.,  1.,  0.,  0.,  0.,  0.,\n        0.,  0.,  1.,  1.,  1.,  1.,  1.,  0.,  0.,  0.,  0.,  1.,  0.,\n        0.,  0.,  0.,  1.,  1.,  0.,  1.,  0.,  0.,  0.,  0.,  0.,  1.,\n        1.,  0.,  0.,  1.,  1.,  0.,  1.,  0.,  0.,  1.,  0.,  0.,  0.,\n        0.,  0.,  0.,  0.,  1.,  0.,  0.,  0.,  0.,  1.,  0.,  0.,  1.,\n        1.,  1.,  0.,  0.,  0.,  0.,  0.,  0.,  0.,  0.,  1.,  1.,  0.,\n        0.,  0.,  1.,  0.,  0.,  0.,  1.,  0.,  1.,  0.,  0.,  0.,  0.,\n        0.,  1.,  0.,  1.,  1.,  1.,  1.,  1.,  0.,  0.,  0.,  1.,  0.,\n        0.,  0.,  1.,  1.,  0.,  1.,  0.,  0.,  0.,  0.,  0.,  0.,  0.,\n        0.,  1.,  0.,  0.,  1.,  1.,  0.,  0.,  0.,  0.,  0.,  1.,  0.,\n        0.,  0.,  1.,  1.,  0.,  1.,  0.,  0.,  1.,  0.,  0.,  0.,  0.,\n        0.,  0.,  1.,  0.,  0.,  0.,  0.,  0.,  1.,  0.,  1.,  1.,  1.,\n        0.,  0.,  1.,  0.,  0.,  1.,  1.,  0.,  0.,  0.,  0.,  1.,  0.,\n        1.,  0.,  0.,  1.,  0.,  0.,  1.,  0.,  0.,  0.,  1.,  0.,  0.,\n        1.,  1.,  1.,  0.,  1.,  0.,  1.,  1.,  0.,  0.,  1.,  0.,  0.,\n        1.,  0.,  0.,  1.,  1.,  0.,  0.,  0.,  0.,  0.,  1.,  0.,  1.,\n        1.,  0.,  0.,  0.,  0.,  1.,  0.,  0.,  0.,  0.,  0.,  1.,  1.,\n        1.,  1.,  0.,  0.,  1.,  1.,  0.,  0.,  1.,  1.,  0.,  0.,  0.,\n        1.,  0.,  1.,  0.,  0.,  0.,  1.,  0.,  0.,  0.,  0.,  1.,  0.,\n        0.,  1.,  1.,  0.,  0.,  0.,  1.,  0.,  0.,  1.,  1.,  1.,  0.,\n        0.,  0.,  0.,  0.,  1.,  0.,  0.,  1.,  0.,  0.,  1.,  1.,  0.,\n        0.,  0.,  0.,  1.,  0.,  0.,  1.,  0.,  1.,  0.,  0.,  1.,  0.,\n        0.,  0.,  0.,  0.,  1.,  0.,  1.,  1.,  1.,  0.,  1.,  0.,  0.,\n        0.,  1.,  0.,  1.,  0.,  0.,  0.,  0.,  0.,  0.,  1.,  0.,  0.,\n        0.,  0.,  0.,  0.,  0.,  0.,  1.,  1.,  0.,  0.,  0.,  0.,  0.,\n        0.,  1.,  0.,  1.,  1.,  1.,  0.,  0.,  0.,  0.,  0.,  0.,  0.,\n        1.,  1.,  1.,  1.,  0.,  0.,  0.,  0.,  1.,  0.,  0.,  1.,  1.,\n        0.,  0.,  0.,  0.,  1.,  0.,  1.,  0.,  1.,  0.,  1.,  0.,  0.,\n        0.,  1.,  1.,  0.,  0.,  1.,  0.,  0.,  0.,  1.,  0.,  1.,  1.,\n        0.,  0.,  1.,  0.,  0.,  0.,  0.,  0.,  0.,  1.,  0.,  0.,  1.,\n        0.,  1.,  0.,  0.,  0.,  0.,  1.,  0.,  0.,  1.,  1.,  0.,  0.,\n        1.,  1.,  0.,  0.,  0.,  1.,  0.,  0.,  0.,  1.,  0.,  1.,  0.,\n        1.,  0.,  0.,  0.,  0.,  0.,  0.,  1.,  0.,  0.,  1.,  0.,  1.,\n        1.,  1.,  1.,  0.,  0.,  0.,  0.,  0.,  1.,  0.,  0.,  0.,  0.,\n        1.,  0.,  0.,  1.,  1.,  0.,  0.,  0.,  1.,  1.,  1.,  0.,  0.,\n        0.,  0.,  0.,  1.,  0.,  0.,  0.,  0.,  0.,  0.,  0.,  0.,  0.,\n        0.,  1.,  0.,  0.,  1.,  0.,  0.,  1.,  1.,  0.,  1.,  0.,  1.,\n        0.,  0.,  0.,  1.,  0.,  0.,  1.,  1.,  0.,  0.,  1.,  0.,  0.,\n        0.,  0.,  0.,  0.,  1.,  0.,  0.,  0.,  1.,  0.,  1.,  1.,  1.,\n        1.,  0.,  0.,  0.,  1.,  0.,  0.,  1.,  1.,  0.,  0.,  1.,  0.,\n        1.,  0.,  0.,  1.,  1.,  0.,  0.,  0.,  1.,  1.,  0.,  0.,  0.,\n        0.,  0.,  0.,  1.,  0.,  1.,  0.])"
      ]
     },
     "execution_count": 17,
     "metadata": {},
     "output_type": "execute_result"
    }
   ],
   "source": [
    "predict_y = clf.predict(fixed_missing_X)\n"
   ]
  },
  {
   "cell_type": "code",
   "execution_count": 22,
   "metadata": {},
   "outputs": [
    {
     "name": "stdout",
     "output_type": "stream",
     "text": [
      "error rate is 0.106622 \n"
     ]
    }
   ],
   "source": [
    "predict_y = clf.predict(fixed_missing_X)\n",
    "sum_num = 0\n",
    "error_num = 0\n",
    "for y1, y2 in zip(y, predict_y):\n",
    "    sum_num += 1\n",
    "    if y1 != y2:\n",
    "        error_num += 1\n",
    "print(\"error rate is %f \" % (error_num / sum_num))\n"
   ]
  },
  {
   "cell_type": "code",
   "execution_count": 30,
   "metadata": {
    "collapsed": true
   },
   "outputs": [
    {
     "ename": "FileNotFoundError",
     "evalue": "[Errno 2] No such file or directory: '/Users/nali/IdeaProjects/chengyPython/cy_kaggle/data/test.csv'",
     "traceback": [
      "\u001b[0;31m---------------------------------------------------------------------------\u001b[0m",
      "\u001b[0;31mFileNotFoundError\u001b[0m                         Traceback (most recent call last)",
      "\u001b[0;32m<ipython-input-30-bebce7adde4c>\u001b[0m in \u001b[0;36m<module>\u001b[0;34m()\u001b[0m\n\u001b[1;32m      2\u001b[0m \u001b[0;34m\u001b[0m\u001b[0m\n\u001b[1;32m      3\u001b[0m \u001b[0mreload\u001b[0m\u001b[0;34m(\u001b[0m\u001b[0mcy_titanic\u001b[0m\u001b[0;34m)\u001b[0m\u001b[0;34m\u001b[0m\u001b[0m\n\u001b[0;32m----> 4\u001b[0;31m \u001b[0mtuple_test\u001b[0m\u001b[0;34m=\u001b[0m \u001b[0mcy_titanic\u001b[0m\u001b[0;34m.\u001b[0m\u001b[0mload_testset\u001b[0m\u001b[0;34m(\u001b[0m\u001b[0;34m)\u001b[0m\u001b[0;34m\u001b[0m\u001b[0m\n\u001b[0m",
      "\u001b[0;32m~/IdeaProjects/chengxiaoyPython/cy_kaggle/cy_titanic.py\u001b[0m in \u001b[0;36mload_testset\u001b[0;34m()\u001b[0m\n\u001b[1;32m      7\u001b[0m \u001b[0;32mdef\u001b[0m \u001b[0mload_testset\u001b[0m\u001b[0;34m(\u001b[0m\u001b[0;34m)\u001b[0m\u001b[0;34m:\u001b[0m\u001b[0;34m\u001b[0m\u001b[0m\n\u001b[1;32m      8\u001b[0m     \u001b[0mdataset\u001b[0m \u001b[0;34m=\u001b[0m \u001b[0;34m[\u001b[0m\u001b[0;34m]\u001b[0m\u001b[0;34m\u001b[0m\u001b[0m\n\u001b[0;32m----> 9\u001b[0;31m     \u001b[0;32mwith\u001b[0m \u001b[0mopen\u001b[0m\u001b[0;34m(\u001b[0m\u001b[0;34m'/Users/nali/IdeaProjects/chengyPython/cy_kaggle/data/test.csv'\u001b[0m\u001b[0;34m,\u001b[0m \u001b[0mnewline\u001b[0m\u001b[0;34m=\u001b[0m\u001b[0;34m''\u001b[0m\u001b[0;34m)\u001b[0m \u001b[0;32mas\u001b[0m \u001b[0mcsvfile\u001b[0m\u001b[0;34m:\u001b[0m\u001b[0;34m\u001b[0m\u001b[0m\n\u001b[0m\u001b[1;32m     10\u001b[0m         \u001b[0mreader\u001b[0m \u001b[0;34m=\u001b[0m \u001b[0mcsv\u001b[0m\u001b[0;34m.\u001b[0m\u001b[0mreader\u001b[0m\u001b[0;34m(\u001b[0m\u001b[0mcsvfile\u001b[0m\u001b[0;34m)\u001b[0m\u001b[0;34m\u001b[0m\u001b[0m\n\u001b[1;32m     11\u001b[0m         \u001b[0;32mfor\u001b[0m \u001b[0mrow\u001b[0m \u001b[0;32min\u001b[0m \u001b[0mreader\u001b[0m\u001b[0;34m:\u001b[0m\u001b[0;34m\u001b[0m\u001b[0m\n",
      "\u001b[0;31mFileNotFoundError\u001b[0m: [Errno 2] No such file or directory: '/Users/nali/IdeaProjects/chengyPython/cy_kaggle/data/test.csv'"
     ],
     "output_type": "error"
    }
   ],
   "source": [
    "from imp import reload\n",
    "\n",
    "reload(cy_titanic)\n",
    "tuple_test= cy_titanic.load_testset()\n"
   ]
  },
  {
   "cell_type": "code",
   "execution_count": 25,
   "metadata": {},
   "outputs": [
    {
     "data": {
      "text/plain": [
       "3"
      ]
     },
     "execution_count": 25,
     "metadata": {},
     "output_type": "execute_result"
    }
   ],
   "source": [
    "len(tuple_test)"
   ]
  },
  {
   "cell_type": "code",
   "execution_count": 26,
   "metadata": {},
   "outputs": [
    {
     "data": {
      "text/plain": [
       "array(['PassengerId', 'Pclass', 'Name', 'Sex', 'Age', 'SibSp', 'Parch',\n       'Ticket', 'Fare', 'Cabin', 'Embarked'],\n      dtype='<U82')"
      ]
     },
     "execution_count": 26,
     "metadata": {},
     "output_type": "execute_result"
    }
   ],
   "source": [
    "tuple_test[0]"
   ]
  },
  {
   "cell_type": "code",
   "execution_count": 27,
   "metadata": {
    "collapsed": true
   },
   "outputs": [
    {
     "data": {
      "text/plain": [
       "array(['0', '1', '1', '1', '0', '0', '0', '0', '1', '1', '1', '1', '0',\n       '0', '0', '1', '0', '1', '0', '1', '0', '1', '1', '1', '0', '1',\n       '0', '0', '1', '0', '0', '1', '1', '0', '0', '0', '1', '0', '0',\n       '1', '0', '0', '0', '1', '1', '0', '0', '1', '0', '0', '0', '0',\n       '1', '1', '0', '1', '1', '0', '1', '0', '0', '1', '0', '0', '0',\n       '1', '1', '0', '1', '0', '0', '0', '0', '0', '1', '0', '0', '0',\n       '1', '1', '0', '1', '1', '0', '1', '1', '0', '0', '1', '0', '0',\n       '0', '0', '0', '0', '0', '0', '1', '1', '0', '0', '0', '0', '0',\n       '0', '0', '1', '1', '0', '1', '0', '0', '0', '0', '0', '0', '0',\n       '0', '0', '0', '0', '0', '0', '1', '0', '1', '0', '1', '1', '0',\n       '0', '0', '0', '1', '0', '0', '1', '0', '0', '0', '0', '1', '1',\n       '0', '0', '0', '1', '0', '0', '0', '0', '1', '0', '0', '0', '0',\n       '1', '0', '0', '0', '0', '1', '0', '0', '0', '1', '1', '0', '0',\n       '0', '0', '0', '1', '0', '0', '0', '0', '0', '0', '0', '0', '0',\n       '0', '1', '1', '0', '1', '1', '0', '0', '1', '0', '1', '1', '1',\n       '1', '0', '0', '1', '0', '0', '0', '0', '0', '1', '0', '0', '1',\n       '1', '1', '0', '1', '0', '0', '0', '1', '1', '0', '1', '0', '1',\n       '0', '0', '0', '1', '0', '1', '0', '0', '0', '1', '0', '0', '1',\n       '0', '0', '0', '1', '0', '0', '0', '1', '0', '0', '0', '0', '0',\n       '1', '1', '0', '0', '0', '0', '0', '0', '1', '1', '1', '1', '1',\n       '0', '1', '0', '0', '0', '0', '0', '1', '1', '1', '0', '1', '1',\n       '0', '1', '1', '0', '0', '0', '1', '0', '0', '0', '1', '0', '0',\n       '1', '0', '1', '1', '1', '1', '0', '0', '0', '0', '0', '0', '1',\n       '1', '1', '1', '0', '1', '0', '1', '1', '1', '0', '1', '1', '1',\n       '0', '0', '0', '1', '1', '0', '1', '1', '0', '0', '1', '1', '0',\n       '1', '0', '1', '1', '1', '1', '0', '0', '0', '1', '0', '0', '1',\n       '1', '0', '1', '1', '0', '0', '0', '1', '1', '1', '1', '0', '0',\n       '0', '0', '0', '0', '0', '1', '0', '1', '1', '0', '0', '0', '0',\n       '0', '0', '1', '1', '1', '1', '1', '0', '0', '0', '0', '1', '1',\n       '0', '0', '0', '1', '1', '0', '1', '0', '0', '0', '1', '0', '1',\n       '1', '1', '0', '1', '1', '0', '0', '0', '0', '1', '1', '0', '0',\n       '0', '0', '0', '0', '1', '0', '0', '0', '0', '1', '0', '1', '0',\n       '1', '1', '0', '0', '0', '0', '0', '0', '0', '0', '1', '1', '0',\n       '1', '1', '1', '1', '0', '0', '1', '0', '1', '0', '0', '1', '0',\n       '0', '1', '1', '1', '1', '1', '1', '1', '0', '0', '0', '1', '0',\n       '1', '0', '1', '1', '0', '1', '0', '0', '0', '0', '0', '0', '0',\n       '0', '1', '0', '0', '1', '1', '0', '0', '0', '0', '0', '1', '0',\n       '0', '0', '1', '1', '0', '1', '0', '0', '1', '0', '0', '0', '0',\n       '0', '0', '1', '0', '0', '0', '0', '0', '0', '0', '1', '0', '1',\n       '1', '0', '1', '1', '0', '1', '1', '0', '0', '1', '0', '1', '0',\n       '1', '0', '0', '1', '0', '0', '1', '0', '0', '0', '1', '0', '0',\n       '1', '0', '1', '0', '1', '0', '1', '1', '0', '0', '1', '0', '0',\n       '1', '1', '0', '1', '1', '0', '0', '1', '1', '0', '1', '0', '1',\n       '1', '0', '0', '0', '0', '0', '0', '0', '0', '0', '1', '1', '1',\n       '1', '1', '0', '0', '1', '1', '0', '1', '1', '1', '0', '0', '0',\n       '1', '0', '1', '0', '0', '0', '1', '0', '0', '0', '0', '1', '0',\n       '0', '1', '1', '0', '0', '0', '1', '0', '0', '1', '1', '1', '0',\n       '0', '1', '0', '0', '1', '0', '0', '1', '0', '0', '1', '1', '0',\n       '0', '0', '0', '1', '0', '0', '1', '0', '1', '0', '0', '1', '0',\n       '0', '0', '0', '0', '1', '0', '1', '1', '1', '0', '1', '0', '1',\n       '0', '1', '0', '1', '0', '0', '0', '0', '0', '0', '1', '0', '0',\n       '0', '1', '0', '0', '0', '0', '1', '1', '0', '0', '1', '0', '0',\n       '0', '1', '0', '1', '0', '1', '0', '0', '0', '0', '0', '0', '0',\n       '1', '1', '1', '1', '0', '0', '0', '0', '1', '0', '0', '1', '1',\n       '0', '0', '0', '0', '1', '1', '1', '1', '1', '0', '1', '0', '0',\n       '0', '1', '1', '0', '0', '1', '0', '0', '0', '1', '0', '1', '1',\n       '0', '0', '1', '0', '0', '0', '0', '0', '0', '1', '0', '0', '1',\n       '0', '1', '0', '1', '0', '0', '1', '0', '0', '1', '1', '0', '0',\n       '1', '1', '0', '0', '0', '1', '0', '0', '1', '1', '0', '1', '0',\n       '0', '0', '0', '0', '0', '0', '0', '1', '0', '0', '1', '0', '1',\n       '1', '1', '0', '0', '0', '0', '1', '0', '1', '0', '0', '0', '0',\n       '0', '0', '0', '1', '1', '0', '0', '0', '1', '1', '1', '1', '0',\n       '0', '0', '0', '1', '0', '0', '0', '0', '0', '0', '0', '0', '0',\n       '0', '1', '1', '0', '1', '0', '0', '0', '1', '1', '1', '1', '1',\n       '0', '0', '0', '1', '0', '0', '1', '1', '0', '0', '1', '0', '0',\n       '0', '0', '0', '0', '1', '0', '0', '0', '1', '0', '1', '1', '1',\n       '1', '0', '0', '0', '1', '0', '0', '1', '1', '0', '0', '1', '0',\n       '1', '0', '0', '1', '1', '0', '0', '0', '1', '1', '0', '0', '0',\n       '0', '0', '0', '1', '0', '1', '0'],\n      dtype='<U82')"
      ]
     },
     "execution_count": 27,
     "metadata": {},
     "output_type": "execute_result"
    }
   ],
   "source": [
    "tuple_test[2]"
   ]
  },
  {
   "cell_type": "code",
   "execution_count": 31,
   "metadata": {
    "collapsed": true
   },
   "outputs": [
    {
     "ename": "FileNotFoundError",
     "evalue": "[Errno 2] No such file or directory: '/Users/nali/IdeaProjects/chengyPython/cy_kaggle/data/test.csv'",
     "traceback": [
      "\u001b[0;31m---------------------------------------------------------------------------\u001b[0m",
      "\u001b[0;31mFileNotFoundError\u001b[0m                         Traceback (most recent call last)",
      "\u001b[0;32m<ipython-input-31-bebce7adde4c>\u001b[0m in \u001b[0;36m<module>\u001b[0;34m()\u001b[0m\n\u001b[1;32m      2\u001b[0m \u001b[0;34m\u001b[0m\u001b[0m\n\u001b[1;32m      3\u001b[0m \u001b[0mreload\u001b[0m\u001b[0;34m(\u001b[0m\u001b[0mcy_titanic\u001b[0m\u001b[0;34m)\u001b[0m\u001b[0;34m\u001b[0m\u001b[0m\n\u001b[0;32m----> 4\u001b[0;31m \u001b[0mtuple_test\u001b[0m\u001b[0;34m=\u001b[0m \u001b[0mcy_titanic\u001b[0m\u001b[0;34m.\u001b[0m\u001b[0mload_testset\u001b[0m\u001b[0;34m(\u001b[0m\u001b[0;34m)\u001b[0m\u001b[0;34m\u001b[0m\u001b[0m\n\u001b[0m",
      "\u001b[0;32m~/IdeaProjects/chengxiaoyPython/cy_kaggle/cy_titanic.py\u001b[0m in \u001b[0;36mload_testset\u001b[0;34m()\u001b[0m\n\u001b[1;32m      7\u001b[0m \u001b[0;32mdef\u001b[0m \u001b[0mload_testset\u001b[0m\u001b[0;34m(\u001b[0m\u001b[0;34m)\u001b[0m\u001b[0;34m:\u001b[0m\u001b[0;34m\u001b[0m\u001b[0m\n\u001b[1;32m      8\u001b[0m     \u001b[0mdataset\u001b[0m \u001b[0;34m=\u001b[0m \u001b[0;34m[\u001b[0m\u001b[0;34m]\u001b[0m\u001b[0;34m\u001b[0m\u001b[0m\n\u001b[0;32m----> 9\u001b[0;31m     \u001b[0;32mwith\u001b[0m \u001b[0mopen\u001b[0m\u001b[0;34m(\u001b[0m\u001b[0;34m'/Users/nali/IdeaProjects/chengyPython/cy_kaggle/data/test.csv'\u001b[0m\u001b[0;34m,\u001b[0m \u001b[0mnewline\u001b[0m\u001b[0;34m=\u001b[0m\u001b[0;34m''\u001b[0m\u001b[0;34m)\u001b[0m \u001b[0;32mas\u001b[0m \u001b[0mcsvfile\u001b[0m\u001b[0;34m:\u001b[0m\u001b[0;34m\u001b[0m\u001b[0m\n\u001b[0m\u001b[1;32m     10\u001b[0m         \u001b[0mreader\u001b[0m \u001b[0;34m=\u001b[0m \u001b[0mcsv\u001b[0m\u001b[0;34m.\u001b[0m\u001b[0mreader\u001b[0m\u001b[0;34m(\u001b[0m\u001b[0mcsvfile\u001b[0m\u001b[0;34m)\u001b[0m\u001b[0;34m\u001b[0m\u001b[0m\n\u001b[1;32m     11\u001b[0m         \u001b[0;32mfor\u001b[0m \u001b[0mrow\u001b[0m \u001b[0;32min\u001b[0m \u001b[0mreader\u001b[0m\u001b[0;34m:\u001b[0m\u001b[0;34m\u001b[0m\u001b[0m\n",
      "\u001b[0;31mFileNotFoundError\u001b[0m: [Errno 2] No such file or directory: '/Users/nali/IdeaProjects/chengyPython/cy_kaggle/data/test.csv'"
     ],
     "output_type": "error"
    }
   ],
   "source": [
    "from imp import reload\n",
    "\n",
    "reload(cy_titanic)\n",
    "tuple_test= cy_titanic.load_testset()"
   ]
  },
  {
   "cell_type": "code",
   "execution_count": 32,
   "metadata": {
    "collapsed": false
   },
   "outputs": [
    {
     "data": {
      "text/plain": [
       "<module 'cy_kaggle.cy_titanic' from '/Users/nali/IdeaProjects/chengxiaoyPython/cy_kaggle/cy_titanic.py'>"
      ]
     },
     "execution_count": 32,
     "metadata": {},
     "output_type": "execute_result"
    }
   ],
   "source": [
    "from imp import reload\n",
    "\n",
    "reload(cy_titanic)"
   ]
  },
  {
   "cell_type": "code",
   "execution_count": 33,
   "metadata": {
    "collapsed": true
   },
   "outputs": [
    {
     "ename": "FileNotFoundError",
     "evalue": "[Errno 2] No such file or directory: '/Users/nali/IdeaProjects/chengyPython/cy_kaggle/data/test.csv'",
     "traceback": [
      "\u001b[0;31m---------------------------------------------------------------------------\u001b[0m",
      "\u001b[0;31mFileNotFoundError\u001b[0m                         Traceback (most recent call last)",
      "\u001b[0;32m<ipython-input-33-ccbb01ebc8e6>\u001b[0m in \u001b[0;36m<module>\u001b[0;34m()\u001b[0m\n\u001b[0;32m----> 1\u001b[0;31m \u001b[0mtuple_test\u001b[0m\u001b[0;34m=\u001b[0m \u001b[0mcy_titanic\u001b[0m\u001b[0;34m.\u001b[0m\u001b[0mload_testset\u001b[0m\u001b[0;34m(\u001b[0m\u001b[0;34m)\u001b[0m\u001b[0;34m\u001b[0m\u001b[0m\n\u001b[0m",
      "\u001b[0;32m~/IdeaProjects/chengxiaoyPython/cy_kaggle/cy_titanic.py\u001b[0m in \u001b[0;36mload_testset\u001b[0;34m()\u001b[0m\n\u001b[1;32m      7\u001b[0m \u001b[0;32mdef\u001b[0m \u001b[0mload_testset\u001b[0m\u001b[0;34m(\u001b[0m\u001b[0;34m)\u001b[0m\u001b[0;34m:\u001b[0m\u001b[0;34m\u001b[0m\u001b[0m\n\u001b[1;32m      8\u001b[0m     \u001b[0mdataset\u001b[0m \u001b[0;34m=\u001b[0m \u001b[0;34m[\u001b[0m\u001b[0;34m]\u001b[0m\u001b[0;34m\u001b[0m\u001b[0m\n\u001b[0;32m----> 9\u001b[0;31m     \u001b[0;32mwith\u001b[0m \u001b[0mopen\u001b[0m\u001b[0;34m(\u001b[0m\u001b[0;34m'/Users/nali/IdeaProjects/chengyPython/cy_kaggle/data/test.csv'\u001b[0m\u001b[0;34m,\u001b[0m \u001b[0mnewline\u001b[0m\u001b[0;34m=\u001b[0m\u001b[0;34m''\u001b[0m\u001b[0;34m)\u001b[0m \u001b[0;32mas\u001b[0m \u001b[0mcsvfile\u001b[0m\u001b[0;34m:\u001b[0m\u001b[0;34m\u001b[0m\u001b[0m\n\u001b[0m\u001b[1;32m     10\u001b[0m         \u001b[0mreader\u001b[0m \u001b[0;34m=\u001b[0m \u001b[0mcsv\u001b[0m\u001b[0;34m.\u001b[0m\u001b[0mreader\u001b[0m\u001b[0;34m(\u001b[0m\u001b[0mcsvfile\u001b[0m\u001b[0;34m)\u001b[0m\u001b[0;34m\u001b[0m\u001b[0m\n\u001b[1;32m     11\u001b[0m         \u001b[0;32mfor\u001b[0m \u001b[0mrow\u001b[0m \u001b[0;32min\u001b[0m \u001b[0mreader\u001b[0m\u001b[0;34m:\u001b[0m\u001b[0;34m\u001b[0m\u001b[0m\n",
      "\u001b[0;31mFileNotFoundError\u001b[0m: [Errno 2] No such file or directory: '/Users/nali/IdeaProjects/chengyPython/cy_kaggle/data/test.csv'"
     ],
     "output_type": "error"
    }
   ],
   "source": [
    "tuple_test= cy_titanic.load_testset()"
   ]
  },
  {
   "cell_type": "code",
   "execution_count": 34,
   "metadata": {},
   "outputs": [
    {
     "data": {
      "text/plain": [
       "<module 'cy_kaggle.cy_titanic' from '/Users/nali/IdeaProjects/chengxiaoyPython/cy_kaggle/cy_titanic.py'>"
      ]
     },
     "execution_count": 34,
     "metadata": {},
     "output_type": "execute_result"
    }
   ],
   "source": [
    "from imp import reload\n",
    "\n",
    "reload(cy_titanic)"
   ]
  },
  {
   "cell_type": "code",
   "execution_count": 35,
   "metadata": {
    "collapsed": true
   },
   "outputs": [
    {
     "ename": "FileNotFoundError",
     "evalue": "[Errno 2] No such file or directory: '/Users/nali/IdeaProjects/chengyPython/cy_kaggle/data/test.csv'",
     "traceback": [
      "\u001b[0;31m---------------------------------------------------------------------------\u001b[0m",
      "\u001b[0;31mFileNotFoundError\u001b[0m                         Traceback (most recent call last)",
      "\u001b[0;32m<ipython-input-35-ccbb01ebc8e6>\u001b[0m in \u001b[0;36m<module>\u001b[0;34m()\u001b[0m\n\u001b[0;32m----> 1\u001b[0;31m \u001b[0mtuple_test\u001b[0m\u001b[0;34m=\u001b[0m \u001b[0mcy_titanic\u001b[0m\u001b[0;34m.\u001b[0m\u001b[0mload_testset\u001b[0m\u001b[0;34m(\u001b[0m\u001b[0;34m)\u001b[0m\u001b[0;34m\u001b[0m\u001b[0m\n\u001b[0m",
      "\u001b[0;32m~/IdeaProjects/chengxiaoyPython/cy_kaggle/cy_titanic.py\u001b[0m in \u001b[0;36mload_testset\u001b[0;34m()\u001b[0m\n\u001b[1;32m      7\u001b[0m \u001b[0;32mdef\u001b[0m \u001b[0mload_testset\u001b[0m\u001b[0;34m(\u001b[0m\u001b[0;34m)\u001b[0m\u001b[0;34m:\u001b[0m\u001b[0;34m\u001b[0m\u001b[0m\n\u001b[1;32m      8\u001b[0m     \u001b[0mdataset\u001b[0m \u001b[0;34m=\u001b[0m \u001b[0;34m[\u001b[0m\u001b[0;34m]\u001b[0m\u001b[0;34m\u001b[0m\u001b[0m\n\u001b[0;32m----> 9\u001b[0;31m     \u001b[0;32mwith\u001b[0m \u001b[0mopen\u001b[0m\u001b[0;34m(\u001b[0m\u001b[0;34m'/Users/nali/IdeaProjects/chengyPython/cy_kaggle/data/test.csv'\u001b[0m\u001b[0;34m,\u001b[0m \u001b[0mnewline\u001b[0m\u001b[0;34m=\u001b[0m\u001b[0;34m''\u001b[0m\u001b[0;34m)\u001b[0m \u001b[0;32mas\u001b[0m \u001b[0mcsvfile\u001b[0m\u001b[0;34m:\u001b[0m\u001b[0;34m\u001b[0m\u001b[0m\n\u001b[0m\u001b[1;32m     10\u001b[0m         \u001b[0mreader\u001b[0m \u001b[0;34m=\u001b[0m \u001b[0mcsv\u001b[0m\u001b[0;34m.\u001b[0m\u001b[0mreader\u001b[0m\u001b[0;34m(\u001b[0m\u001b[0mcsvfile\u001b[0m\u001b[0;34m)\u001b[0m\u001b[0;34m\u001b[0m\u001b[0m\n\u001b[1;32m     11\u001b[0m         \u001b[0;32mfor\u001b[0m \u001b[0mrow\u001b[0m \u001b[0;32min\u001b[0m \u001b[0mreader\u001b[0m\u001b[0;34m:\u001b[0m\u001b[0;34m\u001b[0m\u001b[0m\n",
      "\u001b[0;31mFileNotFoundError\u001b[0m: [Errno 2] No such file or directory: '/Users/nali/IdeaProjects/chengyPython/cy_kaggle/data/test.csv'"
     ],
     "output_type": "error"
    }
   ],
   "source": [
    "tuple_test= cy_titanic.load_testset()"
   ]
  },
  {
   "cell_type": "code",
   "execution_count": 36,
   "metadata": {
    "collapsed": false
   },
   "outputs": [
    {
     "data": {
      "text/plain": [
       "<module 'cy_kaggle.cy_titanic' from '/Users/nali/IdeaProjects/chengxiaoyPython/cy_kaggle/cy_titanic.py'>"
      ]
     },
     "execution_count": 36,
     "metadata": {},
     "output_type": "execute_result"
    }
   ],
   "source": [
    "from imp import reload\n",
    "\n",
    "reload(cy_titanic)"
   ]
  },
  {
   "cell_type": "code",
   "execution_count": 39,
   "metadata": {
    "collapsed": false
   },
   "outputs": [
    {
     "data": {
      "text/plain": [
       "array(['PassengerId', 'Pclass', 'Name', 'Sex', 'Age', 'SibSp', 'Parch',\n       'Ticket', 'Fare', 'Cabin', 'Embarked'],\n      dtype='<U63')"
      ]
     },
     "execution_count": 39,
     "metadata": {},
     "output_type": "execute_result"
    }
   ],
   "source": [
    "test_features, test_set = cy_titanic.load_testset()\n",
    "test_features"
   ]
  },
  {
   "cell_type": "code",
   "execution_count": 40,
   "metadata": {},
   "outputs": [],
   "source": [
    "remove_features_index = [0, 2, 7, 9]\n",
    "test_features= np.delete(test_features, remove_features_index, axis=0)\n",
    "t = np.delete(test_set, remove_features_index, axis=1)\n",
    "\n",
    "params = {'male': '1', 'female': '0', 'S': '0', 'Q': '1', 'C': '2'}\n",
    "col_index = [1, -1]\n",
    "fixed_missing_X = cy_titanic.fix_missing(x_train, col_index, params)"
   ]
  },
  {
   "cell_type": "code",
   "execution_count": 41,
   "metadata": {
    "collapsed": false
   },
   "outputs": [
    {
     "data": {
      "text/plain": [
       "array(['Pclass', 'Sex', 'Age', 'SibSp', 'Parch', 'Fare', 'Embarked'],\n      dtype='<U63')"
      ]
     },
     "execution_count": 41,
     "metadata": {},
     "output_type": "execute_result"
    }
   ],
   "source": [
    "test_features"
   ]
  },
  {
   "cell_type": "code",
   "execution_count": 43,
   "metadata": {},
   "outputs": [],
   "source": [
    "fixed_missing_test_X = cy_titanic.fix_missing(t, col_index, params)"
   ]
  },
  {
   "cell_type": "code",
   "execution_count": 44,
   "metadata": {},
   "outputs": [
    {
     "data": {
      "text/plain": [
       "array([[  3.        ,   1.        ,  34.5       , ...,   0.        ,\n          7.8292    ,   1.        ],\n       [  3.        ,   0.        ,  47.        , ...,   0.        ,\n          7.        ,   0.        ],\n       [  2.        ,   1.        ,  62.        , ...,   0.        ,\n          9.6875    ,   1.        ],\n       ..., \n       [  3.        ,   1.        ,  38.5       , ...,   0.        ,\n          7.25      ,   0.        ],\n       [  3.        ,   1.        ,  30.27259036, ...,   0.        ,\n          8.05      ,   0.        ],\n       [  3.        ,   1.        ,  30.27259036, ...,   1.        ,\n         22.3583    ,   2.        ]])"
      ]
     },
     "execution_count": 44,
     "metadata": {},
     "output_type": "execute_result"
    }
   ],
   "source": [
    "fixed_missing_test_X"
   ]
  },
  {
   "cell_type": "code",
   "execution_count": 46,
   "metadata": {
    "collapsed": true
   },
   "outputs": [],
   "source": [
    "predict_y = clf.predict(fixed_missing_test_X)"
   ]
  },
  {
   "cell_type": "code",
   "execution_count": 47,
   "metadata": {},
   "outputs": [
    {
     "data": {
      "text/plain": [
       "array([ 0.,  0.,  1.,  0.,  0.,  0.,  1.,  1.,  0.,  1.,  0.,  0.,  1.,\n        0.,  0.,  1.,  0.,  0.,  0.,  0.,  1.,  1.,  1.,  1.,  1.,  0.,\n        1.,  0.,  1.,  1.,  1.,  1.,  0.,  0.,  1.,  0.,  1.,  0.,  0.,\n        1.,  0.,  0.,  0.,  1.,  1.,  0.,  0.,  0.,  1.,  0.,  1.,  0.,\n        1.,  1.,  0.,  0.,  0.,  0.,  0.,  1.,  0.,  0.,  0.,  0.,  1.,\n        0.,  1.,  1.,  0.,  0.,  0.,  0.,  1.,  0.,  1.,  1.,  0.,  0.,\n        0.,  0.,  1.,  1.,  1.,  0.,  0.,  0.,  1.,  0.,  1.,  1.,  0.,\n        0.,  1.,  0.,  1.,  0.,  1.,  0.,  0.,  0.,  1.,  0.,  0.,  0.,\n        1.,  0.,  0.,  0.,  0.,  0.,  0.,  1.,  0.,  0.,  1.,  0.,  0.,\n        1.,  1.,  1.,  1.,  0.,  1.,  0.,  0.,  0.,  0.,  1.,  1.,  0.,\n        0.,  0.,  0.,  0.,  0.,  0.,  0.,  0.,  0.,  0.,  0.,  1.,  0.,\n        0.,  0.,  0.,  0.,  0.,  0.,  0.,  1.,  0.,  0.,  0.,  0.,  0.,\n        0.,  0.,  0.,  1.,  1.,  1.,  0.,  0.,  1.,  0.,  1.,  0.,  0.,\n        0.,  0.,  0.,  0.,  0.,  0.,  1.,  0.,  1.,  0.,  1.,  0.,  1.,\n        0.,  0.,  0.,  1.,  1.,  0.,  0.,  0.,  1.,  0.,  1.,  1.,  1.,\n        0.,  1.,  0.,  0.,  1.,  0.,  1.,  1.,  1.,  0.,  0.,  0.,  0.,\n        1.,  0.,  0.,  0.,  0.,  0.,  0.,  1.,  1.,  1.,  1.,  0.,  1.,\n        0.,  0.,  0.,  0.,  0.,  0.,  1.,  0.,  0.,  1.,  1.,  0.,  0.,\n        1.,  0.,  1.,  0.,  0.,  0.,  0.,  0.,  1.,  0.,  0.,  1.,  1.,\n        1.,  1.,  0.,  1.,  0.,  1.,  0.,  0.,  0.,  0.,  0.,  0.,  0.,\n        1.,  0.,  0.,  1.,  0.,  0.,  0.,  0.,  1.,  0.,  1.,  0.,  0.,\n        0.,  0.,  1.,  0.,  0.,  0.,  0.,  0.,  1.,  1.,  0.,  1.,  0.,\n        0.,  1.,  0.,  0.,  0.,  1.,  0.,  0.,  0.,  0.,  1.,  1.,  0.,\n        0.,  0.,  0.,  1.,  0.,  1.,  0.,  1.,  1.,  1.,  0.,  0.,  0.,\n        0.,  0.,  1.,  1.,  1.,  0.,  0.,  1.,  0.,  0.,  0.,  1.,  1.,\n        0.,  0.,  0.,  0.,  0.,  0.,  0.,  0.,  0.,  0.,  0.,  0.,  0.,\n        1.,  0.,  0.,  0.,  1.,  1.,  0.,  1.,  0.,  0.,  0.,  0.,  0.,\n        0.,  0.,  1.,  1.,  1.,  1.,  0.,  0.,  1.,  1.,  1.,  0.,  0.,\n        1.,  1.,  0.,  1.,  1.,  0.,  0.,  1.,  0.,  1.,  1.,  1.,  0.,\n        0.,  0.,  0.,  0.,  0.,  1.,  0.,  0.,  1.,  0.,  0.,  0.,  0.,\n        1.,  1.,  1.,  0.,  0.,  1.,  0.,  1.,  0.,  0.,  1.,  1.,  1.,\n        1.,  0.,  0.,  0.,  1.,  1.,  1.,  1.,  1.,  1.,  0.,  1.,  0.,\n        0.,  1.])"
      ]
     },
     "execution_count": 47,
     "metadata": {},
     "output_type": "execute_result"
    }
   ],
   "source": [
    "predict_y"
   ]
  },
  {
   "cell_type": "code",
   "execution_count": 50,
   "metadata": {},
   "outputs": [
    {
     "data": {
      "text/plain": [
       "array([['892', '3', 'Kelly, Mr. James', ..., '7.8292', '', 'Q'],\n       ['893', '3', 'Wilkes, Mrs. James (Ellen Needs)', ..., '7', '', 'S'],\n       ['894', '2', 'Myles, Mr. Thomas Francis', ..., '9.6875', '', 'Q'],\n       ..., \n       ['1307', '3', 'Saether, Mr. Simon Sivertsen', ..., '7.25', '', 'S'],\n       ['1308', '3', 'Ware, Mr. Frederick', ..., '8.05', '', 'S'],\n       ['1309', '3', 'Peter, Master. Michael J', ..., '22.3583', '', 'C']],\n      dtype='<U63')"
      ]
     },
     "execution_count": 50,
     "metadata": {},
     "output_type": "execute_result"
    }
   ],
   "source": [
    "test_set"
   ]
  },
  {
   "cell_type": "code",
   "execution_count": 53,
   "metadata": {
    "collapsed": false
   },
   "outputs": [],
   "source": [
    "with open('cy_kaggle/data/svc_result.csv', 'w') as result_file:\n",
    "    result_file.write(\"PassengerId,Survived\" + \"\\n\")\n",
    "    for pid, flag in zip(test_set[:, 0], predict_y):\n",
    "        result_file.write(pid + \",\" + str(int(flag)) + \"\\n\")\n"
   ]
  },
  {
   "cell_type": "code",
   "execution_count": null,
   "metadata": {},
   "outputs": [],
   "source": []
  }
 ],
 "metadata": {
  "kernelspec": {
   "display_name": "Python 2",
   "language": "python",
   "name": "python2"
  },
  "language_info": {
   "codemirror_mode": {
    "name": "ipython",
    "version": 2
   },
   "file_extension": ".py",
   "mimetype": "text/x-python",
   "name": "python",
   "nbconvert_exporter": "python",
   "pygments_lexer": "ipython2",
   "version": "2.7.6"
  }
 },
 "nbformat": 4,
 "nbformat_minor": 0
}
