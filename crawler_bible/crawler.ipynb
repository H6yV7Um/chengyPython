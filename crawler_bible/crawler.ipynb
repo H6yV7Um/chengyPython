{
 "cells": [
  {
   "cell_type": "code",
   "execution_count": 1,
   "metadata": {
    "collapsed": true
   },
   "outputs": [],
   "source": [
    "import requests\n",
    "from bs4 import BeautifulSoup\n",
    "from selenium import webdriver\n",
    "\n",
    "\n",
    "\n",
    "proxies = {\n",
    "    \"http\": \"http://127.0.0.1:51263\",\n",
    "    \"https\": \"http://127.0.0.1:51263\",\n",
    "}\n",
    "html = requests.get(\n",
    "    \"https://www.jw.org/ja/%E5%87%BA%E7%89%88%E7%89%A9/%E8%81%96%E6%9B%B8/bi12/%E5%90%84%E6%9B%B8/\").text"
   ]
  },
  {
   "cell_type": "code",
   "execution_count": 2,
   "metadata": {
    "collapsed": true
   },
   "outputs": [
    {
     "name": "stderr",
     "output_type": "stream",
     "text": [
      "/Library/Frameworks/Python.framework/Versions/3.5/lib/python3.5/site-packages/bs4/__init__.py:181: UserWarning: No parser was explicitly specified, so I'm using the best available HTML parser for this system (\"html5lib\"). This usually isn't a problem, but if you run this code on another system, or in a different virtual environment, it may use a different parser and behave differently.\n\nThe code that caused this warning is on line 170 of the file /Library/Frameworks/Python.framework/Versions/3.5/lib/python3.5/runpy.py. To get rid of this warning, change code that looks like this:\n\n BeautifulSoup(YOUR_MARKUP})\n\nto this:\n\n BeautifulSoup(YOUR_MARKUP, \"html5lib\")\n\n  markup_type=markup_type))\n"
     ]
    }
   ],
   "source": [
    "soup=BeautifulSoup(html)"
   ]
  },
  {
   "cell_type": "code",
   "execution_count": 3,
   "metadata": {},
   "outputs": [],
   "source": [
    "book_eles=soup.select(\"#onlineBibleTOCView > div > div.hebrewScriptures.clearfix\")"
   ]
  },
  {
   "cell_type": "code",
   "execution_count": 4,
   "metadata": {},
   "outputs": [
    {
     "data": {
      "text/plain": [
       "1"
      ]
     },
     "execution_count": 4,
     "metadata": {},
     "output_type": "execute_result"
    }
   ],
   "source": [
    "len(book_eles)"
   ]
  },
  {
   "cell_type": "code",
   "execution_count": 6,
   "metadata": {
    "collapsed": true
   },
   "outputs": [],
   "source": [
    "category=book_eles[0].select('h3')[0].text"
   ]
  },
  {
   "cell_type": "code",
   "execution_count": 7,
   "metadata": {},
   "outputs": [],
   "source": [
    "category"
   ]
  },
  {
   "cell_type": "code",
   "execution_count": 8,
   "metadata": {
    "collapsed": false
   },
   "outputs": [
    {
     "data": {
      "text/plain": [
       "'ヘブライ語-アラム語聖書'"
      ]
     },
     "execution_count": 8,
     "metadata": {},
     "output_type": "execute_result"
    }
   ],
   "source": [
    "category"
   ]
  },
  {
   "cell_type": "code",
   "execution_count": 9,
   "metadata": {},
   "outputs": [],
   "source": [
    "book_list=book_eles[0].select('a')"
   ]
  },
  {
   "cell_type": "code",
   "execution_count": 10,
   "metadata": {},
   "outputs": [
    {
     "data": {
      "text/plain": [
       "39"
      ]
     },
     "execution_count": 10,
     "metadata": {},
     "output_type": "execute_result"
    }
   ],
   "source": [
    "len(book_list)"
   ]
  },
  {
   "cell_type": "code",
   "execution_count": 13,
   "metadata": {},
   "outputs": [
    {
     "data": {
      "text/plain": [
       "'創世記'"
      ]
     },
     "execution_count": 13,
     "metadata": {},
     "output_type": "execute_result"
    }
   ],
   "source": [
    "book_list[0].select('.fullName')[0].text"
   ]
  },
  {
   "cell_type": "code",
   "execution_count": 14,
   "metadata": {},
   "outputs": [],
   "source": [
    "book_dict={}\n",
    "for book in book_list:\n",
    "    key=book.select('.fullName')[0].text\n",
    "    value=book['href']\n",
    "    book_dict[key]=value"
   ]
  },
  {
   "cell_type": "code",
   "execution_count": 15,
   "metadata": {
    "collapsed": true
   },
   "outputs": [
    {
     "data": {
      "text/plain": [
       "{'アモス': '/ja/%E5%87%BA%E7%89%88%E7%89%A9/%E8%81%96%E6%9B%B8/bi12/%E5%90%84%E6%9B%B8/%E3%82%A2%E3%83%A2%E3%82%B9/',\n 'イザヤ': '/ja/%E5%87%BA%E7%89%88%E7%89%A9/%E8%81%96%E6%9B%B8/bi12/%E5%90%84%E6%9B%B8/%E3%82%A4%E3%82%B6%E3%83%A4/',\n 'エステル': '/ja/%E5%87%BA%E7%89%88%E7%89%A9/%E8%81%96%E6%9B%B8/bi12/%E5%90%84%E6%9B%B8/%E3%82%A8%E3%82%B9%E3%83%86%E3%83%AB/',\n 'エズラ': '/ja/%E5%87%BA%E7%89%88%E7%89%A9/%E8%81%96%E6%9B%B8/bi12/%E5%90%84%E6%9B%B8/%E3%82%A8%E3%82%BA%E3%83%A9/',\n 'エゼキエル': '/ja/%E5%87%BA%E7%89%88%E7%89%A9/%E8%81%96%E6%9B%B8/bi12/%E5%90%84%E6%9B%B8/%E3%82%A8%E3%82%BC%E3%82%AD%E3%82%A8%E3%83%AB/',\n 'エレミヤ': '/ja/%E5%87%BA%E7%89%88%E7%89%A9/%E8%81%96%E6%9B%B8/bi12/%E5%90%84%E6%9B%B8/%E3%82%A8%E3%83%AC%E3%83%9F%E3%83%A4/',\n 'オバデヤ': '/ja/%E5%87%BA%E7%89%88%E7%89%A9/%E8%81%96%E6%9B%B8/bi12/%E5%90%84%E6%9B%B8/%E3%82%AA%E3%83%90%E3%83%87%E3%83%A4/',\n 'サムエル第一': '/ja/%E5%87%BA%E7%89%88%E7%89%A9/%E8%81%96%E6%9B%B8/bi12/%E5%90%84%E6%9B%B8/%E3%82%B5%E3%83%A0%E3%82%A8%E3%83%AB%E7%AC%AC%E4%B8%80/',\n 'サムエル第二': '/ja/%E5%87%BA%E7%89%88%E7%89%A9/%E8%81%96%E6%9B%B8/bi12/%E5%90%84%E6%9B%B8/%E3%82%B5%E3%83%A0%E3%82%A8%E3%83%AB%E7%AC%AC%E4%BA%8C/',\n 'ゼカリヤ': '/ja/%E5%87%BA%E7%89%88%E7%89%A9/%E8%81%96%E6%9B%B8/bi12/%E5%90%84%E6%9B%B8/%E3%82%BC%E3%82%AB%E3%83%AA%E3%83%A4/',\n 'ゼパニヤ': '/ja/%E5%87%BA%E7%89%88%E7%89%A9/%E8%81%96%E6%9B%B8/bi12/%E5%90%84%E6%9B%B8/%E3%82%BC%E3%83%91%E3%83%8B%E3%83%A4/',\n 'ソロモンの歌': '/ja/%E5%87%BA%E7%89%88%E7%89%A9/%E8%81%96%E6%9B%B8/bi12/%E5%90%84%E6%9B%B8/%E3%82%BD%E3%83%AD%E3%83%A2%E3%83%B3%E3%81%AE%E6%AD%8C/',\n 'ダニエル': '/ja/%E5%87%BA%E7%89%88%E7%89%A9/%E8%81%96%E6%9B%B8/bi12/%E5%90%84%E6%9B%B8/%E3%83%80%E3%83%8B%E3%82%A8%E3%83%AB/',\n 'ナホム': '/ja/%E5%87%BA%E7%89%88%E7%89%A9/%E8%81%96%E6%9B%B8/bi12/%E5%90%84%E6%9B%B8/%E3%83%8A%E3%83%9B%E3%83%A0/',\n 'ネヘミヤ': '/ja/%E5%87%BA%E7%89%88%E7%89%A9/%E8%81%96%E6%9B%B8/bi12/%E5%90%84%E6%9B%B8/%E3%83%8D%E3%83%98%E3%83%9F%E3%83%A4/',\n 'ハガイ': '/ja/%E5%87%BA%E7%89%88%E7%89%A9/%E8%81%96%E6%9B%B8/bi12/%E5%90%84%E6%9B%B8/%E3%83%8F%E3%82%AC%E3%82%A4/',\n 'ハバクク': '/ja/%E5%87%BA%E7%89%88%E7%89%A9/%E8%81%96%E6%9B%B8/bi12/%E5%90%84%E6%9B%B8/%E3%83%8F%E3%83%90%E3%82%AF%E3%82%AF/',\n 'ホセア': '/ja/%E5%87%BA%E7%89%88%E7%89%A9/%E8%81%96%E6%9B%B8/bi12/%E5%90%84%E6%9B%B8/%E3%83%9B%E3%82%BB%E3%82%A2/',\n 'マラキ': '/ja/%E5%87%BA%E7%89%88%E7%89%A9/%E8%81%96%E6%9B%B8/bi12/%E5%90%84%E6%9B%B8/%E3%83%9E%E3%83%A9%E3%82%AD/',\n 'ミカ': '/ja/%E5%87%BA%E7%89%88%E7%89%A9/%E8%81%96%E6%9B%B8/bi12/%E5%90%84%E6%9B%B8/%E3%83%9F%E3%82%AB/',\n 'ヨエル': '/ja/%E5%87%BA%E7%89%88%E7%89%A9/%E8%81%96%E6%9B%B8/bi12/%E5%90%84%E6%9B%B8/%E3%83%A8%E3%82%A8%E3%83%AB/',\n 'ヨシュア': '/ja/%E5%87%BA%E7%89%88%E7%89%A9/%E8%81%96%E6%9B%B8/bi12/%E5%90%84%E6%9B%B8/%E3%83%A8%E3%82%B7%E3%83%A5%E3%82%A2/',\n 'ヨナ': '/ja/%E5%87%BA%E7%89%88%E7%89%A9/%E8%81%96%E6%9B%B8/bi12/%E5%90%84%E6%9B%B8/%E3%83%A8%E3%83%8A/',\n 'ヨブ': '/ja/%E5%87%BA%E7%89%88%E7%89%A9/%E8%81%96%E6%9B%B8/bi12/%E5%90%84%E6%9B%B8/%E3%83%A8%E3%83%96/',\n 'ルツ': '/ja/%E5%87%BA%E7%89%88%E7%89%A9/%E8%81%96%E6%9B%B8/bi12/%E5%90%84%E6%9B%B8/%E3%83%AB%E3%83%84/',\n 'レビ記': '/ja/%E5%87%BA%E7%89%88%E7%89%A9/%E8%81%96%E6%9B%B8/bi12/%E5%90%84%E6%9B%B8/%E3%83%AC%E3%83%93%E8%A8%98/',\n '伝道の書': '/ja/%E5%87%BA%E7%89%88%E7%89%A9/%E8%81%96%E6%9B%B8/bi12/%E5%90%84%E6%9B%B8/%E4%BC%9D%E9%81%93%E3%81%AE%E6%9B%B8/',\n '出エジプト記': '/ja/%E5%87%BA%E7%89%88%E7%89%A9/%E8%81%96%E6%9B%B8/bi12/%E5%90%84%E6%9B%B8/%E5%87%BA%E3%82%A8%E3%82%B8%E3%83%97%E3%83%88%E8%A8%98/',\n '列王第一': '/ja/%E5%87%BA%E7%89%88%E7%89%A9/%E8%81%96%E6%9B%B8/bi12/%E5%90%84%E6%9B%B8/%E5%88%97%E7%8E%8B%E7%AC%AC%E4%B8%80/',\n '列王第二': '/ja/%E5%87%BA%E7%89%88%E7%89%A9/%E8%81%96%E6%9B%B8/bi12/%E5%90%84%E6%9B%B8/%E5%88%97%E7%8E%8B%E7%AC%AC%E4%BA%8C/',\n '創世記': '/ja/%E5%87%BA%E7%89%88%E7%89%A9/%E8%81%96%E6%9B%B8/bi12/%E5%90%84%E6%9B%B8/%E5%89%B5%E4%B8%96%E8%A8%98/',\n '哀歌': '/ja/%E5%87%BA%E7%89%88%E7%89%A9/%E8%81%96%E6%9B%B8/bi12/%E5%90%84%E6%9B%B8/%E5%93%80%E6%AD%8C/',\n '歴代第一': '/ja/%E5%87%BA%E7%89%88%E7%89%A9/%E8%81%96%E6%9B%B8/bi12/%E5%90%84%E6%9B%B8/%E6%AD%B4%E4%BB%A3%E7%AC%AC%E4%B8%80/',\n '歴代第二': '/ja/%E5%87%BA%E7%89%88%E7%89%A9/%E8%81%96%E6%9B%B8/bi12/%E5%90%84%E6%9B%B8/%E6%AD%B4%E4%BB%A3%E7%AC%AC%E4%BA%8C/',\n '民数記': '/ja/%E5%87%BA%E7%89%88%E7%89%A9/%E8%81%96%E6%9B%B8/bi12/%E5%90%84%E6%9B%B8/%E6%B0%91%E6%95%B0%E8%A8%98/',\n '申命記': '/ja/%E5%87%BA%E7%89%88%E7%89%A9/%E8%81%96%E6%9B%B8/bi12/%E5%90%84%E6%9B%B8/%E7%94%B3%E5%91%BD%E8%A8%98/',\n '箴言': '/ja/%E5%87%BA%E7%89%88%E7%89%A9/%E8%81%96%E6%9B%B8/bi12/%E5%90%84%E6%9B%B8/%E7%AE%B4%E8%A8%80/',\n '裁き人': '/ja/%E5%87%BA%E7%89%88%E7%89%A9/%E8%81%96%E6%9B%B8/bi12/%E5%90%84%E6%9B%B8/%E8%A3%81%E3%81%8D%E4%BA%BA/',\n '詩編': '/ja/%E5%87%BA%E7%89%88%E7%89%A9/%E8%81%96%E6%9B%B8/bi12/%E5%90%84%E6%9B%B8/%E8%A9%A9%E7%B7%A8/'}"
      ]
     },
     "execution_count": 15,
     "metadata": {},
     "output_type": "execute_result"
    }
   ],
   "source": [
    "book_dict"
   ]
  },
  {
   "cell_type": "code",
   "execution_count": 17,
   "metadata": {},
   "outputs": [],
   "source": [
    "pre_url='https://www.jw.org'\n",
    "for k,v in book_dict.items():\n",
    "    book_dict[k]=pre_url+v"
   ]
  },
  {
   "cell_type": "code",
   "execution_count": 19,
   "metadata": {
    "collapsed": true
   },
   "outputs": [
    {
     "data": {
      "text/plain": [
       "39"
      ]
     },
     "execution_count": 19,
     "metadata": {},
     "output_type": "execute_result"
    }
   ],
   "source": [
    "len(book_dict)"
   ]
  },
  {
   "cell_type": "code",
   "execution_count": 20,
   "metadata": {
    "collapsed": true
   },
   "outputs": [
    {
     "ename": "TypeError",
     "evalue": "'dict_values' object does not support indexing",
     "traceback": [
      "\u001b[0;31m---------------------------------------------------------------------------\u001b[0m",
      "\u001b[0;31mTypeError\u001b[0m                                 Traceback (most recent call last)",
      "\u001b[0;32m<ipython-input-20-f1adcc70edf8>\u001b[0m in \u001b[0;36m<module>\u001b[0;34m()\u001b[0m\n\u001b[0;32m----> 1\u001b[0;31m \u001b[0mbook_dict\u001b[0m\u001b[0;34m.\u001b[0m\u001b[0mvalues\u001b[0m\u001b[0;34m(\u001b[0m\u001b[0;34m)\u001b[0m\u001b[0;34m[\u001b[0m\u001b[0;36m0\u001b[0m\u001b[0;34m]\u001b[0m\u001b[0;34m\u001b[0m\u001b[0m\n\u001b[0m",
      "\u001b[0;31mTypeError\u001b[0m: 'dict_values' object does not support indexing"
     ],
     "output_type": "error"
    }
   ],
   "source": [
    "book_dict.values()[0]"
   ]
  },
  {
   "cell_type": "code",
   "execution_count": 21,
   "metadata": {},
   "outputs": [
    {
     "data": {
      "text/plain": [
       "dict_values"
      ]
     },
     "execution_count": 21,
     "metadata": {},
     "output_type": "execute_result"
    }
   ],
   "source": [
    "type(book_dict.values())"
   ]
  },
  {
   "cell_type": "code",
   "execution_count": 22,
   "metadata": {},
   "outputs": [
    {
     "data": {
      "text/plain": [
       "'https://www.jw.org/ja/%E5%87%BA%E7%89%88%E7%89%A9/%E8%81%96%E6%9B%B8/bi12/%E5%90%84%E6%9B%B8/%E3%83%A8%E3%82%B7%E3%83%A5%E3%82%A2/'"
      ]
     },
     "execution_count": 22,
     "metadata": {},
     "output_type": "execute_result"
    }
   ],
   "source": [
    "list(book_dict.values())[0]"
   ]
  },
  {
   "cell_type": "code",
   "execution_count": 24,
   "metadata": {
    "collapsed": true
   },
   "outputs": [
    {
     "name": "stderr",
     "output_type": "stream",
     "text": [
      "/Library/Frameworks/Python.framework/Versions/3.5/lib/python3.5/site-packages/bs4/__init__.py:181: UserWarning: No parser was explicitly specified, so I'm using the best available HTML parser for this system (\"html5lib\"). This usually isn't a problem, but if you run this code on another system, or in a different virtual environment, it may use a different parser and behave differently.\n\nThe code that caused this warning is on line 170 of the file /Library/Frameworks/Python.framework/Versions/3.5/lib/python3.5/runpy.py. To get rid of this warning, change code that looks like this:\n\n BeautifulSoup(YOUR_MARKUP})\n\nto this:\n\n BeautifulSoup(YOUR_MARKUP, \"html5lib\")\n\n  markup_type=markup_type))\n"
     ]
    }
   ],
   "source": [
    "import time\n",
    "book_page='https://www.jw.org/ja/%E5%87%BA%E7%89%88%E7%89%A9/%E8%81%96%E6%9B%B8/bi12/%E5%90%84%E6%9B%B8/%E3%83%A8%E3%82%B7%E3%83%A5%E3%82%A2/'\n",
    "html=requests.get(book_page).text\n",
    "soup=BeautifulSoup(html)\n",
    "a_list=soup.select('.chapters')[0].select('a')\n",
    "detal_list=[]\n",
    "for a in a_list:\n",
    "    detal_list.append(a['href'])"
   ]
  },
  {
   "cell_type": "code",
   "execution_count": 38,
   "metadata": {
    "collapsed": true
   },
   "outputs": [
    {
     "name": "stdout",
     "output_type": "stream",
     "text": [
      "{'\\n      ヨシュア 24：1‐33\\n': 'https://download-a.akamaihd.net/files/media_bible/f2/bi12_06_Jos_J_24.mp3', '\\n      ヨシュア 18：1‐28\\n': 'https://download-a.akamaihd.net/files/media_bible/6f/bi12_06_Jos_J_18.mp3', '\\n      ヨシュア 17：1‐18\\n': 'https://download-a.akamaihd.net/files/media_bible/b1/bi12_06_Jos_J_17.mp3', '\\n      ヨシュア 5：1‐15\\n': 'https://download-a.akamaihd.net/files/media_bible/0e/bi12_06_Jos_J_05.mp3', '\\n      ヨシュア 9：1‐27\\n': 'https://download-a.akamaihd.net/files/media_bible/78/bi12_06_Jos_J_09.mp3', '\\n      ヨシュア 1：1‐18\\n': 'https://download-a.akamaihd.net/files/media_bible/38/bi12_06_Jos_J_01.mp3', '\\n      ヨシュア 14：1‐15\\n': 'https://download-a.akamaihd.net/files/media_bible/fc/bi12_06_Jos_J_14.mp3', '\\n      ヨシュア 19：1‐51\\n': 'https://download-a.akamaihd.net/files/media_bible/d4/bi12_06_Jos_J_19.mp3', '\\n      ヨシュア 13：1‐33\\n': 'https://download-a.akamaihd.net/files/media_bible/c3/bi12_06_Jos_J_13.mp3', '\\n      ヨシュア 22：1‐34\\n': 'https://download-a.akamaihd.net/files/media_bible/1b/bi12_06_Jos_J_22.mp3', '\\n      ヨシュア 4：1‐24\\n': 'https://download-a.akamaihd.net/files/media_bible/ec/bi12_06_Jos_J_04.mp3', '\\n      ヨシュア 16：1‐10\\n': 'https://download-a.akamaihd.net/files/media_bible/2d/bi12_06_Jos_J_16.mp3', '\\n      ヨシュア 11：1‐23\\n': 'https://download-a.akamaihd.net/files/media_bible/d2/bi12_06_Jos_J_11.mp3', '\\n      ヨシュア 6：1‐27\\n': 'https://download-a.akamaihd.net/files/media_bible/64/bi12_06_Jos_J_06.mp3', '\\n      ヨシュア 8：1‐35\\n': 'https://download-a.akamaihd.net/files/media_bible/0f/bi12_06_Jos_J_08.mp3', '\\n      ヨシュア 10：1‐43\\n': 'https://download-a.akamaihd.net/files/media_bible/4d/bi12_06_Jos_J_10.mp3', '\\n      ヨシュア 7：1‐26\\n': 'https://download-a.akamaihd.net/files/media_bible/1f/bi12_06_Jos_J_07.mp3', '\\n      ヨシュア 21：1‐45\\n': 'https://download-a.akamaihd.net/files/media_bible/00/bi12_06_Jos_J_21.mp3', '\\n      ヨシュア 20：1‐9\\n': 'https://download-a.akamaihd.net/files/media_bible/a4/bi12_06_Jos_J_20.mp3', '\\n      ヨシュア 12：1‐24\\n': 'https://download-a.akamaihd.net/files/media_bible/62/bi12_06_Jos_J_12.mp3', '\\n      ヨシュア 2：1‐24\\n': 'https://download-a.akamaihd.net/files/media_bible/76/bi12_06_Jos_J_02.mp3', '\\n      ヨシュア 15：1‐63\\n': 'https://download-a.akamaihd.net/files/media_bible/21/bi12_06_Jos_J_15.mp3', '\\n      ヨシュア 23：1‐16\\n': 'https://download-a.akamaihd.net/files/media_bible/b1/bi12_06_Jos_J_23.mp3', '\\n      ヨシュア 3：1‐17\\n': 'https://download-a.akamaihd.net/files/media_bible/6a/bi12_06_Jos_J_03.mp3'}\n"
     ]
    }
   ],
   "source": [
    "browser = webdriver.Chrome()\n",
    "chapter_info={}\n",
    "for chapter_url in detal_list:\n",
    "    browser.get(pre_url+chapter_url)\n",
    "    time.sleep(5)\n",
    "    soup = BeautifulSoup(browser.page_source,'html.parser')\n",
    "    title = soup.select('#article > article > header > h1')[0].text\n",
    "    title = title.strip('\\n').strip('  ').strip('\\n').strip('  ')\n",
    "    title = title.replace(u'\\xa0', u' ')\n",
    "    audio_url=soup.select('audio')[0]['src']\n",
    "    chapter_info[title]=audio_url\n",
    "browser.quit()\n",
    "print(chapter_info)\n"
   ]
  },
  {
   "cell_type": "code",
   "execution_count": 39,
   "metadata": {
    "collapsed": true
   },
   "outputs": [
    {
     "ename": "ValueError",
     "evalue": "too many values to unpack (expected 2)",
     "traceback": [
      "\u001b[0;31m---------------------------------------------------------------------------\u001b[0m",
      "\u001b[0;31mValueError\u001b[0m                                Traceback (most recent call last)",
      "\u001b[0;32m<ipython-input-39-f856b11bea58>\u001b[0m in \u001b[0;36m<module>\u001b[0;34m()\u001b[0m\n\u001b[0;32m----> 1\u001b[0;31m \u001b[0;32mfor\u001b[0m \u001b[0mk\u001b[0m\u001b[0;34m,\u001b[0m\u001b[0mv\u001b[0m \u001b[0;32min\u001b[0m \u001b[0mchapter_info\u001b[0m\u001b[0;34m:\u001b[0m\u001b[0;34m\u001b[0m\u001b[0m\n\u001b[0m\u001b[1;32m      2\u001b[0m     \u001b[0mprint\u001b[0m\u001b[0;34m(\u001b[0m\u001b[0mk\u001b[0m\u001b[0;34m)\u001b[0m\u001b[0;34m\u001b[0m\u001b[0m\n\u001b[1;32m      3\u001b[0m     \u001b[0mprint\u001b[0m\u001b[0;34m(\u001b[0m\u001b[0mv\u001b[0m\u001b[0;34m)\u001b[0m\u001b[0;34m\u001b[0m\u001b[0m\n",
      "\u001b[0;31mValueError\u001b[0m: too many values to unpack (expected 2)"
     ],
     "output_type": "error"
    }
   ],
   "source": [
    "for k,v in chapter_info:\n",
    "    print(k)\n",
    "    print(v)"
   ]
  },
  {
   "cell_type": "code",
   "execution_count": 40,
   "metadata": {
    "collapsed": true
   },
   "outputs": [
    {
     "name": "stdout",
     "output_type": "stream",
     "text": [
      "\n      ヨシュア 24：1‐33\n\nhttps://download-a.akamaihd.net/files/media_bible/f2/bi12_06_Jos_J_24.mp3\n\n      ヨシュア 18：1‐28\n\nhttps://download-a.akamaihd.net/files/media_bible/6f/bi12_06_Jos_J_18.mp3\n\n      ヨシュア 17：1‐18\n\nhttps://download-a.akamaihd.net/files/media_bible/b1/bi12_06_Jos_J_17.mp3\n\n      ヨシュア 5：1‐15\n\nhttps://download-a.akamaihd.net/files/media_bible/0e/bi12_06_Jos_J_05.mp3\n\n      ヨシュア 9：1‐27\n\nhttps://download-a.akamaihd.net/files/media_bible/78/bi12_06_Jos_J_09.mp3\n\n      ヨシュア 1：1‐18\n\nhttps://download-a.akamaihd.net/files/media_bible/38/bi12_06_Jos_J_01.mp3\n\n      ヨシュア 14：1‐15\n\nhttps://download-a.akamaihd.net/files/media_bible/fc/bi12_06_Jos_J_14.mp3\n\n      ヨシュア 19：1‐51\n\nhttps://download-a.akamaihd.net/files/media_bible/d4/bi12_06_Jos_J_19.mp3\n\n      ヨシュア 13：1‐33\n\nhttps://download-a.akamaihd.net/files/media_bible/c3/bi12_06_Jos_J_13.mp3\n\n      ヨシュア 22：1‐34\n\nhttps://download-a.akamaihd.net/files/media_bible/1b/bi12_06_Jos_J_22.mp3\n\n      ヨシュア 4：1‐24\n\nhttps://download-a.akamaihd.net/files/media_bible/ec/bi12_06_Jos_J_04.mp3\n\n      ヨシュア 16：1‐10\n\nhttps://download-a.akamaihd.net/files/media_bible/2d/bi12_06_Jos_J_16.mp3\n\n      ヨシュア 11：1‐23\n\nhttps://download-a.akamaihd.net/files/media_bible/d2/bi12_06_Jos_J_11.mp3\n\n      ヨシュア 6：1‐27\n\nhttps://download-a.akamaihd.net/files/media_bible/64/bi12_06_Jos_J_06.mp3\n\n      ヨシュア 8：1‐35\n\nhttps://download-a.akamaihd.net/files/media_bible/0f/bi12_06_Jos_J_08.mp3\n\n      ヨシュア 10：1‐43\n\nhttps://download-a.akamaihd.net/files/media_bible/4d/bi12_06_Jos_J_10.mp3\n\n      ヨシュア 7：1‐26\n\nhttps://download-a.akamaihd.net/files/media_bible/1f/bi12_06_Jos_J_07.mp3\n\n      ヨシュア 21：1‐45\n\nhttps://download-a.akamaihd.net/files/media_bible/00/bi12_06_Jos_J_21.mp3\n\n      ヨシュア 20：1‐9\n\nhttps://download-a.akamaihd.net/files/media_bible/a4/bi12_06_Jos_J_20.mp3\n\n      ヨシュア 12：1‐24\n\nhttps://download-a.akamaihd.net/files/media_bible/62/bi12_06_Jos_J_12.mp3\n\n      ヨシュア 2：1‐24\n\nhttps://download-a.akamaihd.net/files/media_bible/76/bi12_06_Jos_J_02.mp3\n\n      ヨシュア 15：1‐63\n\nhttps://download-a.akamaihd.net/files/media_bible/21/bi12_06_Jos_J_15.mp3\n\n      ヨシュア 23：1‐16\n\nhttps://download-a.akamaihd.net/files/media_bible/b1/bi12_06_Jos_J_23.mp3\n\n      ヨシュア 3：1‐17\n\nhttps://download-a.akamaihd.net/files/media_bible/6a/bi12_06_Jos_J_03.mp3\n"
     ]
    }
   ],
   "source": [
    "for k,v in chapter_info.items():\n",
    "    print(k)\n",
    "    print(v)"
   ]
  },
  {
   "cell_type": "code",
   "execution_count": 42,
   "metadata": {},
   "outputs": [],
   "source": [
    "proxies\n",
    "import os"
   ]
  },
  {
   "cell_type": "code",
   "execution_count": 52,
   "metadata": {},
   "outputs": [
    {
     "data": {
      "text/plain": [
       "True"
      ]
     },
     "execution_count": 52,
     "metadata": {},
     "output_type": "execute_result"
    }
   ],
   "source": [
    "path='crawler_bible/data/'\n",
    "os.path.exists(path)\n"
   ]
  },
  {
   "cell_type": "code",
   "execution_count": 1,
   "metadata": {},
   "outputs": [
    {
     "ename": "NameError",
     "evalue": "name 'pre_url' is not defined",
     "traceback": [
      "\u001b[0;31m---------------------------------------------------------------------------\u001b[0m",
      "\u001b[0;31mNameError\u001b[0m                                 Traceback (most recent call last)",
      "\u001b[0;32m<ipython-input-1-3865b322b278>\u001b[0m in \u001b[0;36m<module>\u001b[0;34m()\u001b[0m\n\u001b[0;32m----> 1\u001b[0;31m \u001b[0mpre_url\u001b[0m\u001b[0;34m\u001b[0m\u001b[0m\n\u001b[0m",
      "\u001b[0;31mNameError\u001b[0m: name 'pre_url' is not defined"
     ],
     "output_type": "error"
    }
   ],
   "source": [
    "pre_url\n"
   ]
  },
  {
   "cell_type": "code",
   "execution_count": 34,
   "metadata": {
    "collapsed": true
   },
   "outputs": [
    {
     "name": "stderr",
     "output_type": "stream",
     "text": [
      "/Library/Frameworks/Python.framework/Versions/3.5/lib/python3.5/site-packages/bs4/__init__.py:181: UserWarning: No parser was explicitly specified, so I'm using the best available HTML parser for this system (\"lxml\"). This usually isn't a problem, but if you run this code on another system, or in a different virtual environment, it may use a different parser and behave differently.\n\nThe code that caused this warning is on line 170 of the file /Library/Frameworks/Python.framework/Versions/3.5/lib/python3.5/runpy.py. To get rid of this warning, change code that looks like this:\n\n BeautifulSoup(YOUR_MARKUP})\n\nto this:\n\n BeautifulSoup(YOUR_MARKUP, \"lxml\")\n\n  markup_type=markup_type))\n"
     ]
    },
    {
     "ename": "ElementNotVisibleException",
     "evalue": "Message: element not visible: Element is not currently visible and may not be manipulated\n  (Session info: chrome=63.0.3239.132)\n  (Driver info: chromedriver=2.35.528157 (4429ca2590d6988c0745c24c8858745aaaec01ef),platform=Mac OS X 10.12.4 x86_64)\n",
     "traceback": [
      "\u001b[0;31m---------------------------------------------------------------------------\u001b[0m",
      "\u001b[0;31mElementNotVisibleException\u001b[0m                Traceback (most recent call last)",
      "\u001b[0;32m<ipython-input-34-4dc467384f0b>\u001b[0m in \u001b[0;36m<module>\u001b[0;34m()\u001b[0m\n\u001b[1;32m     15\u001b[0m \u001b[0mbrowser\u001b[0m\u001b[0;34m.\u001b[0m\u001b[0mget\u001b[0m\u001b[0;34m(\u001b[0m\u001b[0murl\u001b[0m\u001b[0;34m)\u001b[0m\u001b[0;34m\u001b[0m\u001b[0m\n\u001b[1;32m     16\u001b[0m \u001b[0mbook_dicts\u001b[0m \u001b[0;34m=\u001b[0m \u001b[0mcrawler_auto\u001b[0m\u001b[0;34m.\u001b[0m\u001b[0mget_books\u001b[0m\u001b[0;34m(\u001b[0m\u001b[0;32mNone\u001b[0m\u001b[0;34m,\u001b[0m \u001b[0mbrowser\u001b[0m\u001b[0;34m.\u001b[0m\u001b[0mpage_source\u001b[0m\u001b[0;34m)\u001b[0m\u001b[0;34m\u001b[0m\u001b[0m\n\u001b[0;32m---> 17\u001b[0;31m \u001b[0mbrowser\u001b[0m\u001b[0;34m.\u001b[0m\u001b[0mfind_element_by_xpath\u001b[0m\u001b[0;34m(\u001b[0m\u001b[0;34m'//*[@id=\"otherAvailLangsChooser\"]/option[143]'\u001b[0m\u001b[0;34m)\u001b[0m\u001b[0;34m.\u001b[0m\u001b[0mclick\u001b[0m\u001b[0;34m(\u001b[0m\u001b[0;34m)\u001b[0m\u001b[0;34m\u001b[0m\u001b[0m\n\u001b[0m\u001b[1;32m     18\u001b[0m \u001b[0;34m\u001b[0m\u001b[0m\n",
      "\u001b[0;32m/Library/Frameworks/Python.framework/Versions/3.5/lib/python3.5/site-packages/selenium/webdriver/remote/webelement.py\u001b[0m in \u001b[0;36mclick\u001b[0;34m(self)\u001b[0m\n\u001b[1;32m     78\u001b[0m     \u001b[0;32mdef\u001b[0m \u001b[0mclick\u001b[0m\u001b[0;34m(\u001b[0m\u001b[0mself\u001b[0m\u001b[0;34m)\u001b[0m\u001b[0;34m:\u001b[0m\u001b[0;34m\u001b[0m\u001b[0m\n\u001b[1;32m     79\u001b[0m         \u001b[0;34m\"\"\"Clicks the element.\"\"\"\u001b[0m\u001b[0;34m\u001b[0m\u001b[0m\n\u001b[0;32m---> 80\u001b[0;31m         \u001b[0mself\u001b[0m\u001b[0;34m.\u001b[0m\u001b[0m_execute\u001b[0m\u001b[0;34m(\u001b[0m\u001b[0mCommand\u001b[0m\u001b[0;34m.\u001b[0m\u001b[0mCLICK_ELEMENT\u001b[0m\u001b[0;34m)\u001b[0m\u001b[0;34m\u001b[0m\u001b[0m\n\u001b[0m\u001b[1;32m     81\u001b[0m \u001b[0;34m\u001b[0m\u001b[0m\n\u001b[1;32m     82\u001b[0m     \u001b[0;32mdef\u001b[0m \u001b[0msubmit\u001b[0m\u001b[0;34m(\u001b[0m\u001b[0mself\u001b[0m\u001b[0;34m)\u001b[0m\u001b[0;34m:\u001b[0m\u001b[0;34m\u001b[0m\u001b[0m\n",
      "\u001b[0;32m/Library/Frameworks/Python.framework/Versions/3.5/lib/python3.5/site-packages/selenium/webdriver/remote/webelement.py\u001b[0m in \u001b[0;36m_execute\u001b[0;34m(self, command, params)\u001b[0m\n\u001b[1;32m    626\u001b[0m             \u001b[0mparams\u001b[0m \u001b[0;34m=\u001b[0m \u001b[0;34m{\u001b[0m\u001b[0;34m}\u001b[0m\u001b[0;34m\u001b[0m\u001b[0m\n\u001b[1;32m    627\u001b[0m         \u001b[0mparams\u001b[0m\u001b[0;34m[\u001b[0m\u001b[0;34m'id'\u001b[0m\u001b[0;34m]\u001b[0m \u001b[0;34m=\u001b[0m \u001b[0mself\u001b[0m\u001b[0;34m.\u001b[0m\u001b[0m_id\u001b[0m\u001b[0;34m\u001b[0m\u001b[0m\n\u001b[0;32m--> 628\u001b[0;31m         \u001b[0;32mreturn\u001b[0m \u001b[0mself\u001b[0m\u001b[0;34m.\u001b[0m\u001b[0m_parent\u001b[0m\u001b[0;34m.\u001b[0m\u001b[0mexecute\u001b[0m\u001b[0;34m(\u001b[0m\u001b[0mcommand\u001b[0m\u001b[0;34m,\u001b[0m \u001b[0mparams\u001b[0m\u001b[0;34m)\u001b[0m\u001b[0;34m\u001b[0m\u001b[0m\n\u001b[0m\u001b[1;32m    629\u001b[0m \u001b[0;34m\u001b[0m\u001b[0m\n\u001b[1;32m    630\u001b[0m     \u001b[0;32mdef\u001b[0m \u001b[0mfind_element\u001b[0m\u001b[0;34m(\u001b[0m\u001b[0mself\u001b[0m\u001b[0;34m,\u001b[0m \u001b[0mby\u001b[0m\u001b[0;34m=\u001b[0m\u001b[0mBy\u001b[0m\u001b[0;34m.\u001b[0m\u001b[0mID\u001b[0m\u001b[0;34m,\u001b[0m \u001b[0mvalue\u001b[0m\u001b[0;34m=\u001b[0m\u001b[0;32mNone\u001b[0m\u001b[0;34m)\u001b[0m\u001b[0;34m:\u001b[0m\u001b[0;34m\u001b[0m\u001b[0m\n",
      "\u001b[0;32m/Library/Frameworks/Python.framework/Versions/3.5/lib/python3.5/site-packages/selenium/webdriver/remote/webdriver.py\u001b[0m in \u001b[0;36mexecute\u001b[0;34m(self, driver_command, params)\u001b[0m\n\u001b[1;32m    310\u001b[0m         \u001b[0mresponse\u001b[0m \u001b[0;34m=\u001b[0m \u001b[0mself\u001b[0m\u001b[0;34m.\u001b[0m\u001b[0mcommand_executor\u001b[0m\u001b[0;34m.\u001b[0m\u001b[0mexecute\u001b[0m\u001b[0;34m(\u001b[0m\u001b[0mdriver_command\u001b[0m\u001b[0;34m,\u001b[0m \u001b[0mparams\u001b[0m\u001b[0;34m)\u001b[0m\u001b[0;34m\u001b[0m\u001b[0m\n\u001b[1;32m    311\u001b[0m         \u001b[0;32mif\u001b[0m \u001b[0mresponse\u001b[0m\u001b[0;34m:\u001b[0m\u001b[0;34m\u001b[0m\u001b[0m\n\u001b[0;32m--> 312\u001b[0;31m             \u001b[0mself\u001b[0m\u001b[0;34m.\u001b[0m\u001b[0merror_handler\u001b[0m\u001b[0;34m.\u001b[0m\u001b[0mcheck_response\u001b[0m\u001b[0;34m(\u001b[0m\u001b[0mresponse\u001b[0m\u001b[0;34m)\u001b[0m\u001b[0;34m\u001b[0m\u001b[0m\n\u001b[0m\u001b[1;32m    313\u001b[0m             response['value'] = self._unwrap_value(\n\u001b[1;32m    314\u001b[0m                 response.get('value', None))\n",
      "\u001b[0;32m/Library/Frameworks/Python.framework/Versions/3.5/lib/python3.5/site-packages/selenium/webdriver/remote/errorhandler.py\u001b[0m in \u001b[0;36mcheck_response\u001b[0;34m(self, response)\u001b[0m\n\u001b[1;32m    235\u001b[0m         \u001b[0;32melif\u001b[0m \u001b[0mexception_class\u001b[0m \u001b[0;34m==\u001b[0m \u001b[0mUnexpectedAlertPresentException\u001b[0m \u001b[0;32mand\u001b[0m \u001b[0;34m'alert'\u001b[0m \u001b[0;32min\u001b[0m \u001b[0mvalue\u001b[0m\u001b[0;34m:\u001b[0m\u001b[0;34m\u001b[0m\u001b[0m\n\u001b[1;32m    236\u001b[0m             \u001b[0;32mraise\u001b[0m \u001b[0mexception_class\u001b[0m\u001b[0;34m(\u001b[0m\u001b[0mmessage\u001b[0m\u001b[0;34m,\u001b[0m \u001b[0mscreen\u001b[0m\u001b[0;34m,\u001b[0m \u001b[0mstacktrace\u001b[0m\u001b[0;34m,\u001b[0m \u001b[0mvalue\u001b[0m\u001b[0;34m[\u001b[0m\u001b[0;34m'alert'\u001b[0m\u001b[0;34m]\u001b[0m\u001b[0;34m.\u001b[0m\u001b[0mget\u001b[0m\u001b[0;34m(\u001b[0m\u001b[0;34m'text'\u001b[0m\u001b[0;34m)\u001b[0m\u001b[0;34m)\u001b[0m\u001b[0;34m\u001b[0m\u001b[0m\n\u001b[0;32m--> 237\u001b[0;31m         \u001b[0;32mraise\u001b[0m \u001b[0mexception_class\u001b[0m\u001b[0;34m(\u001b[0m\u001b[0mmessage\u001b[0m\u001b[0;34m,\u001b[0m \u001b[0mscreen\u001b[0m\u001b[0;34m,\u001b[0m \u001b[0mstacktrace\u001b[0m\u001b[0;34m)\u001b[0m\u001b[0;34m\u001b[0m\u001b[0m\n\u001b[0m\u001b[1;32m    238\u001b[0m \u001b[0;34m\u001b[0m\u001b[0m\n\u001b[1;32m    239\u001b[0m     \u001b[0;32mdef\u001b[0m \u001b[0m_value_or_default\u001b[0m\u001b[0;34m(\u001b[0m\u001b[0mself\u001b[0m\u001b[0;34m,\u001b[0m \u001b[0mobj\u001b[0m\u001b[0;34m,\u001b[0m \u001b[0mkey\u001b[0m\u001b[0;34m,\u001b[0m \u001b[0mdefault\u001b[0m\u001b[0;34m)\u001b[0m\u001b[0;34m:\u001b[0m\u001b[0;34m\u001b[0m\u001b[0m\n",
      "\u001b[0;31mElementNotVisibleException\u001b[0m: Message: element not visible: Element is not currently visible and may not be manipulated\n  (Session info: chrome=63.0.3239.132)\n  (Driver info: chromedriver=2.35.528157 (4429ca2590d6988c0745c24c8858745aaaec01ef),platform=Mac OS X 10.12.4 x86_64)\n"
     ],
     "output_type": "error"
    }
   ],
   "source": [
    "from selenium import webdriver\n",
    "\n",
    "from crawler_bible import crawler_auto\n",
    "\n",
    "proxies = {\n",
    "    \"http\": \"http://127.0.0.1:51263\",\n",
    "    \"https\": \"http://127.0.0.1:51263\",\n",
    "}\n",
    "\n",
    "pre_url = 'https://www.jw.org'\n",
    "\n",
    "url = 'https://www.jw.org/ja/%E5%87%BA%E7%89%88%E7%89%A9/%E8%81%96%E6%9B%B8/bi12/%E5%90%84%E6%9B%B8/'\n",
    "\n",
    "browser = webdriver.Chrome()\n",
    "browser.get(url)\n",
    "book_dicts = crawler_auto.get_books(None, browser.page_source)\n",
    "\n"
   ]
  },
  {
   "cell_type": "code",
   "execution_count": 40,
   "metadata": {
    "collapsed": true
   },
   "outputs": [
    {
     "ename": "ElementNotVisibleException",
     "evalue": "Message: element not visible: Element is not currently visible and may not be manipulated\n  (Session info: chrome=63.0.3239.132)\n  (Driver info: chromedriver=2.35.528157 (4429ca2590d6988c0745c24c8858745aaaec01ef),platform=Mac OS X 10.12.4 x86_64)\n",
     "traceback": [
      "\u001b[0;31m---------------------------------------------------------------------------\u001b[0m",
      "\u001b[0;31mElementNotVisibleException\u001b[0m                Traceback (most recent call last)",
      "\u001b[0;32m<ipython-input-40-c820f995460b>\u001b[0m in \u001b[0;36m<module>\u001b[0;34m()\u001b[0m\n\u001b[0;32m----> 1\u001b[0;31m \u001b[0mele\u001b[0m\u001b[0;34m=\u001b[0m\u001b[0mbrowser\u001b[0m\u001b[0;34m.\u001b[0m\u001b[0mfind_element_by_xpath\u001b[0m\u001b[0;34m(\u001b[0m\u001b[0;34m'//*[@id=\"otherAvailLangsChooser\"]/option[143]'\u001b[0m\u001b[0;34m)\u001b[0m\u001b[0;34m.\u001b[0m\u001b[0mclick\u001b[0m\u001b[0;34m(\u001b[0m\u001b[0;34m)\u001b[0m\u001b[0;34m\u001b[0m\u001b[0m\n\u001b[0m",
      "\u001b[0;32m/Library/Frameworks/Python.framework/Versions/3.5/lib/python3.5/site-packages/selenium/webdriver/remote/webelement.py\u001b[0m in \u001b[0;36mclick\u001b[0;34m(self)\u001b[0m\n\u001b[1;32m     78\u001b[0m     \u001b[0;32mdef\u001b[0m \u001b[0mclick\u001b[0m\u001b[0;34m(\u001b[0m\u001b[0mself\u001b[0m\u001b[0;34m)\u001b[0m\u001b[0;34m:\u001b[0m\u001b[0;34m\u001b[0m\u001b[0m\n\u001b[1;32m     79\u001b[0m         \u001b[0;34m\"\"\"Clicks the element.\"\"\"\u001b[0m\u001b[0;34m\u001b[0m\u001b[0m\n\u001b[0;32m---> 80\u001b[0;31m         \u001b[0mself\u001b[0m\u001b[0;34m.\u001b[0m\u001b[0m_execute\u001b[0m\u001b[0;34m(\u001b[0m\u001b[0mCommand\u001b[0m\u001b[0;34m.\u001b[0m\u001b[0mCLICK_ELEMENT\u001b[0m\u001b[0;34m)\u001b[0m\u001b[0;34m\u001b[0m\u001b[0m\n\u001b[0m\u001b[1;32m     81\u001b[0m \u001b[0;34m\u001b[0m\u001b[0m\n\u001b[1;32m     82\u001b[0m     \u001b[0;32mdef\u001b[0m \u001b[0msubmit\u001b[0m\u001b[0;34m(\u001b[0m\u001b[0mself\u001b[0m\u001b[0;34m)\u001b[0m\u001b[0;34m:\u001b[0m\u001b[0;34m\u001b[0m\u001b[0m\n",
      "\u001b[0;32m/Library/Frameworks/Python.framework/Versions/3.5/lib/python3.5/site-packages/selenium/webdriver/remote/webelement.py\u001b[0m in \u001b[0;36m_execute\u001b[0;34m(self, command, params)\u001b[0m\n\u001b[1;32m    626\u001b[0m             \u001b[0mparams\u001b[0m \u001b[0;34m=\u001b[0m \u001b[0;34m{\u001b[0m\u001b[0;34m}\u001b[0m\u001b[0;34m\u001b[0m\u001b[0m\n\u001b[1;32m    627\u001b[0m         \u001b[0mparams\u001b[0m\u001b[0;34m[\u001b[0m\u001b[0;34m'id'\u001b[0m\u001b[0;34m]\u001b[0m \u001b[0;34m=\u001b[0m \u001b[0mself\u001b[0m\u001b[0;34m.\u001b[0m\u001b[0m_id\u001b[0m\u001b[0;34m\u001b[0m\u001b[0m\n\u001b[0;32m--> 628\u001b[0;31m         \u001b[0;32mreturn\u001b[0m \u001b[0mself\u001b[0m\u001b[0;34m.\u001b[0m\u001b[0m_parent\u001b[0m\u001b[0;34m.\u001b[0m\u001b[0mexecute\u001b[0m\u001b[0;34m(\u001b[0m\u001b[0mcommand\u001b[0m\u001b[0;34m,\u001b[0m \u001b[0mparams\u001b[0m\u001b[0;34m)\u001b[0m\u001b[0;34m\u001b[0m\u001b[0m\n\u001b[0m\u001b[1;32m    629\u001b[0m \u001b[0;34m\u001b[0m\u001b[0m\n\u001b[1;32m    630\u001b[0m     \u001b[0;32mdef\u001b[0m \u001b[0mfind_element\u001b[0m\u001b[0;34m(\u001b[0m\u001b[0mself\u001b[0m\u001b[0;34m,\u001b[0m \u001b[0mby\u001b[0m\u001b[0;34m=\u001b[0m\u001b[0mBy\u001b[0m\u001b[0;34m.\u001b[0m\u001b[0mID\u001b[0m\u001b[0;34m,\u001b[0m \u001b[0mvalue\u001b[0m\u001b[0;34m=\u001b[0m\u001b[0;32mNone\u001b[0m\u001b[0;34m)\u001b[0m\u001b[0;34m:\u001b[0m\u001b[0;34m\u001b[0m\u001b[0m\n",
      "\u001b[0;32m/Library/Frameworks/Python.framework/Versions/3.5/lib/python3.5/site-packages/selenium/webdriver/remote/webdriver.py\u001b[0m in \u001b[0;36mexecute\u001b[0;34m(self, driver_command, params)\u001b[0m\n\u001b[1;32m    310\u001b[0m         \u001b[0mresponse\u001b[0m \u001b[0;34m=\u001b[0m \u001b[0mself\u001b[0m\u001b[0;34m.\u001b[0m\u001b[0mcommand_executor\u001b[0m\u001b[0;34m.\u001b[0m\u001b[0mexecute\u001b[0m\u001b[0;34m(\u001b[0m\u001b[0mdriver_command\u001b[0m\u001b[0;34m,\u001b[0m \u001b[0mparams\u001b[0m\u001b[0;34m)\u001b[0m\u001b[0;34m\u001b[0m\u001b[0m\n\u001b[1;32m    311\u001b[0m         \u001b[0;32mif\u001b[0m \u001b[0mresponse\u001b[0m\u001b[0;34m:\u001b[0m\u001b[0;34m\u001b[0m\u001b[0m\n\u001b[0;32m--> 312\u001b[0;31m             \u001b[0mself\u001b[0m\u001b[0;34m.\u001b[0m\u001b[0merror_handler\u001b[0m\u001b[0;34m.\u001b[0m\u001b[0mcheck_response\u001b[0m\u001b[0;34m(\u001b[0m\u001b[0mresponse\u001b[0m\u001b[0;34m)\u001b[0m\u001b[0;34m\u001b[0m\u001b[0m\n\u001b[0m\u001b[1;32m    313\u001b[0m             response['value'] = self._unwrap_value(\n\u001b[1;32m    314\u001b[0m                 response.get('value', None))\n",
      "\u001b[0;32m/Library/Frameworks/Python.framework/Versions/3.5/lib/python3.5/site-packages/selenium/webdriver/remote/errorhandler.py\u001b[0m in \u001b[0;36mcheck_response\u001b[0;34m(self, response)\u001b[0m\n\u001b[1;32m    235\u001b[0m         \u001b[0;32melif\u001b[0m \u001b[0mexception_class\u001b[0m \u001b[0;34m==\u001b[0m \u001b[0mUnexpectedAlertPresentException\u001b[0m \u001b[0;32mand\u001b[0m \u001b[0;34m'alert'\u001b[0m \u001b[0;32min\u001b[0m \u001b[0mvalue\u001b[0m\u001b[0;34m:\u001b[0m\u001b[0;34m\u001b[0m\u001b[0m\n\u001b[1;32m    236\u001b[0m             \u001b[0;32mraise\u001b[0m \u001b[0mexception_class\u001b[0m\u001b[0;34m(\u001b[0m\u001b[0mmessage\u001b[0m\u001b[0;34m,\u001b[0m \u001b[0mscreen\u001b[0m\u001b[0;34m,\u001b[0m \u001b[0mstacktrace\u001b[0m\u001b[0;34m,\u001b[0m \u001b[0mvalue\u001b[0m\u001b[0;34m[\u001b[0m\u001b[0;34m'alert'\u001b[0m\u001b[0;34m]\u001b[0m\u001b[0;34m.\u001b[0m\u001b[0mget\u001b[0m\u001b[0;34m(\u001b[0m\u001b[0;34m'text'\u001b[0m\u001b[0;34m)\u001b[0m\u001b[0;34m)\u001b[0m\u001b[0;34m\u001b[0m\u001b[0m\n\u001b[0;32m--> 237\u001b[0;31m         \u001b[0;32mraise\u001b[0m \u001b[0mexception_class\u001b[0m\u001b[0;34m(\u001b[0m\u001b[0mmessage\u001b[0m\u001b[0;34m,\u001b[0m \u001b[0mscreen\u001b[0m\u001b[0;34m,\u001b[0m \u001b[0mstacktrace\u001b[0m\u001b[0;34m)\u001b[0m\u001b[0;34m\u001b[0m\u001b[0m\n\u001b[0m\u001b[1;32m    238\u001b[0m \u001b[0;34m\u001b[0m\u001b[0m\n\u001b[1;32m    239\u001b[0m     \u001b[0;32mdef\u001b[0m \u001b[0m_value_or_default\u001b[0m\u001b[0;34m(\u001b[0m\u001b[0mself\u001b[0m\u001b[0;34m,\u001b[0m \u001b[0mobj\u001b[0m\u001b[0;34m,\u001b[0m \u001b[0mkey\u001b[0m\u001b[0;34m,\u001b[0m \u001b[0mdefault\u001b[0m\u001b[0;34m)\u001b[0m\u001b[0;34m:\u001b[0m\u001b[0;34m\u001b[0m\u001b[0m\n",
      "\u001b[0;31mElementNotVisibleException\u001b[0m: Message: element not visible: Element is not currently visible and may not be manipulated\n  (Session info: chrome=63.0.3239.132)\n  (Driver info: chromedriver=2.35.528157 (4429ca2590d6988c0745c24c8858745aaaec01ef),platform=Mac OS X 10.12.4 x86_64)\n"
     ],
     "output_type": "error"
    }
   ],
   "source": [
    "ele=browser.find_element_by_xpath('//*[@id=\"otherAvailLangsChooser\"]/option[143]').click()\n"
   ]
  },
  {
   "cell_type": "code",
   "execution_count": 38,
   "metadata": {
    "collapsed": false
   },
   "outputs": [
    {
     "data": {
      "text/plain": [
       "'cmn-hans'"
      ]
     },
     "execution_count": 38,
     "metadata": {},
     "output_type": "execute_result"
    }
   ],
   "source": [
    "ele.get_attribute(\"value\")"
   ]
  },
  {
   "cell_type": "code",
   "execution_count": 39,
   "metadata": {
    "collapsed": true
   },
   "outputs": [
    {
     "ename": "ElementNotVisibleException",
     "evalue": "Message: element not visible: Element is not currently visible and may not be manipulated\n  (Session info: chrome=63.0.3239.132)\n  (Driver info: chromedriver=2.35.528157 (4429ca2590d6988c0745c24c8858745aaaec01ef),platform=Mac OS X 10.12.4 x86_64)\n",
     "traceback": [
      "\u001b[0;31m---------------------------------------------------------------------------\u001b[0m",
      "\u001b[0;31mElementNotVisibleException\u001b[0m                Traceback (most recent call last)",
      "\u001b[0;32m<ipython-input-39-4626e095485f>\u001b[0m in \u001b[0;36m<module>\u001b[0;34m()\u001b[0m\n\u001b[0;32m----> 1\u001b[0;31m \u001b[0mele\u001b[0m\u001b[0;34m.\u001b[0m\u001b[0mclick\u001b[0m\u001b[0;34m(\u001b[0m\u001b[0;34m)\u001b[0m\u001b[0;34m\u001b[0m\u001b[0m\n\u001b[0m",
      "\u001b[0;32m/Library/Frameworks/Python.framework/Versions/3.5/lib/python3.5/site-packages/selenium/webdriver/remote/webelement.py\u001b[0m in \u001b[0;36mclick\u001b[0;34m(self)\u001b[0m\n\u001b[1;32m     78\u001b[0m     \u001b[0;32mdef\u001b[0m \u001b[0mclick\u001b[0m\u001b[0;34m(\u001b[0m\u001b[0mself\u001b[0m\u001b[0;34m)\u001b[0m\u001b[0;34m:\u001b[0m\u001b[0;34m\u001b[0m\u001b[0m\n\u001b[1;32m     79\u001b[0m         \u001b[0;34m\"\"\"Clicks the element.\"\"\"\u001b[0m\u001b[0;34m\u001b[0m\u001b[0m\n\u001b[0;32m---> 80\u001b[0;31m         \u001b[0mself\u001b[0m\u001b[0;34m.\u001b[0m\u001b[0m_execute\u001b[0m\u001b[0;34m(\u001b[0m\u001b[0mCommand\u001b[0m\u001b[0;34m.\u001b[0m\u001b[0mCLICK_ELEMENT\u001b[0m\u001b[0;34m)\u001b[0m\u001b[0;34m\u001b[0m\u001b[0m\n\u001b[0m\u001b[1;32m     81\u001b[0m \u001b[0;34m\u001b[0m\u001b[0m\n\u001b[1;32m     82\u001b[0m     \u001b[0;32mdef\u001b[0m \u001b[0msubmit\u001b[0m\u001b[0;34m(\u001b[0m\u001b[0mself\u001b[0m\u001b[0;34m)\u001b[0m\u001b[0;34m:\u001b[0m\u001b[0;34m\u001b[0m\u001b[0m\n",
      "\u001b[0;32m/Library/Frameworks/Python.framework/Versions/3.5/lib/python3.5/site-packages/selenium/webdriver/remote/webelement.py\u001b[0m in \u001b[0;36m_execute\u001b[0;34m(self, command, params)\u001b[0m\n\u001b[1;32m    626\u001b[0m             \u001b[0mparams\u001b[0m \u001b[0;34m=\u001b[0m \u001b[0;34m{\u001b[0m\u001b[0;34m}\u001b[0m\u001b[0;34m\u001b[0m\u001b[0m\n\u001b[1;32m    627\u001b[0m         \u001b[0mparams\u001b[0m\u001b[0;34m[\u001b[0m\u001b[0;34m'id'\u001b[0m\u001b[0;34m]\u001b[0m \u001b[0;34m=\u001b[0m \u001b[0mself\u001b[0m\u001b[0;34m.\u001b[0m\u001b[0m_id\u001b[0m\u001b[0;34m\u001b[0m\u001b[0m\n\u001b[0;32m--> 628\u001b[0;31m         \u001b[0;32mreturn\u001b[0m \u001b[0mself\u001b[0m\u001b[0;34m.\u001b[0m\u001b[0m_parent\u001b[0m\u001b[0;34m.\u001b[0m\u001b[0mexecute\u001b[0m\u001b[0;34m(\u001b[0m\u001b[0mcommand\u001b[0m\u001b[0;34m,\u001b[0m \u001b[0mparams\u001b[0m\u001b[0;34m)\u001b[0m\u001b[0;34m\u001b[0m\u001b[0m\n\u001b[0m\u001b[1;32m    629\u001b[0m \u001b[0;34m\u001b[0m\u001b[0m\n\u001b[1;32m    630\u001b[0m     \u001b[0;32mdef\u001b[0m \u001b[0mfind_element\u001b[0m\u001b[0;34m(\u001b[0m\u001b[0mself\u001b[0m\u001b[0;34m,\u001b[0m \u001b[0mby\u001b[0m\u001b[0;34m=\u001b[0m\u001b[0mBy\u001b[0m\u001b[0;34m.\u001b[0m\u001b[0mID\u001b[0m\u001b[0;34m,\u001b[0m \u001b[0mvalue\u001b[0m\u001b[0;34m=\u001b[0m\u001b[0;32mNone\u001b[0m\u001b[0;34m)\u001b[0m\u001b[0;34m:\u001b[0m\u001b[0;34m\u001b[0m\u001b[0m\n",
      "\u001b[0;32m/Library/Frameworks/Python.framework/Versions/3.5/lib/python3.5/site-packages/selenium/webdriver/remote/webdriver.py\u001b[0m in \u001b[0;36mexecute\u001b[0;34m(self, driver_command, params)\u001b[0m\n\u001b[1;32m    310\u001b[0m         \u001b[0mresponse\u001b[0m \u001b[0;34m=\u001b[0m \u001b[0mself\u001b[0m\u001b[0;34m.\u001b[0m\u001b[0mcommand_executor\u001b[0m\u001b[0;34m.\u001b[0m\u001b[0mexecute\u001b[0m\u001b[0;34m(\u001b[0m\u001b[0mdriver_command\u001b[0m\u001b[0;34m,\u001b[0m \u001b[0mparams\u001b[0m\u001b[0;34m)\u001b[0m\u001b[0;34m\u001b[0m\u001b[0m\n\u001b[1;32m    311\u001b[0m         \u001b[0;32mif\u001b[0m \u001b[0mresponse\u001b[0m\u001b[0;34m:\u001b[0m\u001b[0;34m\u001b[0m\u001b[0m\n\u001b[0;32m--> 312\u001b[0;31m             \u001b[0mself\u001b[0m\u001b[0;34m.\u001b[0m\u001b[0merror_handler\u001b[0m\u001b[0;34m.\u001b[0m\u001b[0mcheck_response\u001b[0m\u001b[0;34m(\u001b[0m\u001b[0mresponse\u001b[0m\u001b[0;34m)\u001b[0m\u001b[0;34m\u001b[0m\u001b[0m\n\u001b[0m\u001b[1;32m    313\u001b[0m             response['value'] = self._unwrap_value(\n\u001b[1;32m    314\u001b[0m                 response.get('value', None))\n",
      "\u001b[0;32m/Library/Frameworks/Python.framework/Versions/3.5/lib/python3.5/site-packages/selenium/webdriver/remote/errorhandler.py\u001b[0m in \u001b[0;36mcheck_response\u001b[0;34m(self, response)\u001b[0m\n\u001b[1;32m    235\u001b[0m         \u001b[0;32melif\u001b[0m \u001b[0mexception_class\u001b[0m \u001b[0;34m==\u001b[0m \u001b[0mUnexpectedAlertPresentException\u001b[0m \u001b[0;32mand\u001b[0m \u001b[0;34m'alert'\u001b[0m \u001b[0;32min\u001b[0m \u001b[0mvalue\u001b[0m\u001b[0;34m:\u001b[0m\u001b[0;34m\u001b[0m\u001b[0m\n\u001b[1;32m    236\u001b[0m             \u001b[0;32mraise\u001b[0m \u001b[0mexception_class\u001b[0m\u001b[0;34m(\u001b[0m\u001b[0mmessage\u001b[0m\u001b[0;34m,\u001b[0m \u001b[0mscreen\u001b[0m\u001b[0;34m,\u001b[0m \u001b[0mstacktrace\u001b[0m\u001b[0;34m,\u001b[0m \u001b[0mvalue\u001b[0m\u001b[0;34m[\u001b[0m\u001b[0;34m'alert'\u001b[0m\u001b[0;34m]\u001b[0m\u001b[0;34m.\u001b[0m\u001b[0mget\u001b[0m\u001b[0;34m(\u001b[0m\u001b[0;34m'text'\u001b[0m\u001b[0;34m)\u001b[0m\u001b[0;34m)\u001b[0m\u001b[0;34m\u001b[0m\u001b[0m\n\u001b[0;32m--> 237\u001b[0;31m         \u001b[0;32mraise\u001b[0m \u001b[0mexception_class\u001b[0m\u001b[0;34m(\u001b[0m\u001b[0mmessage\u001b[0m\u001b[0;34m,\u001b[0m \u001b[0mscreen\u001b[0m\u001b[0;34m,\u001b[0m \u001b[0mstacktrace\u001b[0m\u001b[0;34m)\u001b[0m\u001b[0;34m\u001b[0m\u001b[0m\n\u001b[0m\u001b[1;32m    238\u001b[0m \u001b[0;34m\u001b[0m\u001b[0m\n\u001b[1;32m    239\u001b[0m     \u001b[0;32mdef\u001b[0m \u001b[0m_value_or_default\u001b[0m\u001b[0;34m(\u001b[0m\u001b[0mself\u001b[0m\u001b[0;34m,\u001b[0m \u001b[0mobj\u001b[0m\u001b[0;34m,\u001b[0m \u001b[0mkey\u001b[0m\u001b[0;34m,\u001b[0m \u001b[0mdefault\u001b[0m\u001b[0;34m)\u001b[0m\u001b[0;34m:\u001b[0m\u001b[0;34m\u001b[0m\u001b[0m\n",
      "\u001b[0;31mElementNotVisibleException\u001b[0m: Message: element not visible: Element is not currently visible and may not be manipulated\n  (Session info: chrome=63.0.3239.132)\n  (Driver info: chromedriver=2.35.528157 (4429ca2590d6988c0745c24c8858745aaaec01ef),platform=Mac OS X 10.12.4 x86_64)\n"
     ],
     "output_type": "error"
    }
   ],
   "source": [
    "ele.click()"
   ]
  },
  {
   "cell_type": "code",
   "execution_count": 44,
   "metadata": {
    "collapsed": true
   },
   "outputs": [
    {
     "ename": "ElementNotVisibleException",
     "evalue": "Message: element not visible: Element is not currently visible and may not be manipulated\n  (Session info: chrome=63.0.3239.132)\n  (Driver info: chromedriver=2.35.528157 (4429ca2590d6988c0745c24c8858745aaaec01ef),platform=Mac OS X 10.12.4 x86_64)\n",
     "traceback": [
      "\u001b[0;31m---------------------------------------------------------------------------\u001b[0m",
      "\u001b[0;31mElementNotVisibleException\u001b[0m                Traceback (most recent call last)",
      "\u001b[0;32m<ipython-input-44-4d01a1f1ab67>\u001b[0m in \u001b[0;36m<module>\u001b[0;34m()\u001b[0m\n\u001b[1;32m      1\u001b[0m \u001b[0;32mfrom\u001b[0m \u001b[0mselenium\u001b[0m\u001b[0;34m.\u001b[0m\u001b[0mwebdriver\u001b[0m\u001b[0;34m.\u001b[0m\u001b[0msupport\u001b[0m\u001b[0;34m.\u001b[0m\u001b[0mselect\u001b[0m \u001b[0;32mimport\u001b[0m \u001b[0mSelect\u001b[0m\u001b[0;34m\u001b[0m\u001b[0m\n\u001b[1;32m      2\u001b[0m \u001b[0mele\u001b[0m\u001b[0;34m=\u001b[0m\u001b[0mbrowser\u001b[0m\u001b[0;34m.\u001b[0m\u001b[0mfind_element_by_xpath\u001b[0m\u001b[0;34m(\u001b[0m\u001b[0;34m'//*[@id=\"otherAvailLangsChooser\"]'\u001b[0m\u001b[0;34m)\u001b[0m\u001b[0;34m\u001b[0m\u001b[0m\n\u001b[0;32m----> 3\u001b[0;31m \u001b[0moption\u001b[0m\u001b[0;34m=\u001b[0m\u001b[0mSelect\u001b[0m\u001b[0;34m(\u001b[0m\u001b[0mele\u001b[0m\u001b[0;34m)\u001b[0m\u001b[0;34m.\u001b[0m\u001b[0mselect_by_index\u001b[0m\u001b[0;34m(\u001b[0m\u001b[0;36m143\u001b[0m\u001b[0;34m)\u001b[0m\u001b[0;34m\u001b[0m\u001b[0m\n\u001b[0m\u001b[1;32m      4\u001b[0m \u001b[0;34m\u001b[0m\u001b[0m\n",
      "\u001b[0;32m/Library/Frameworks/Python.framework/Versions/3.5/lib/python3.5/site-packages/selenium/webdriver/support/select.py\u001b[0m in \u001b[0;36mselect_by_index\u001b[0;34m(self, index)\u001b[0m\n\u001b[1;32m     99\u001b[0m         \u001b[0;32mfor\u001b[0m \u001b[0mopt\u001b[0m \u001b[0;32min\u001b[0m \u001b[0mself\u001b[0m\u001b[0;34m.\u001b[0m\u001b[0moptions\u001b[0m\u001b[0;34m:\u001b[0m\u001b[0;34m\u001b[0m\u001b[0m\n\u001b[1;32m    100\u001b[0m             \u001b[0;32mif\u001b[0m \u001b[0mopt\u001b[0m\u001b[0;34m.\u001b[0m\u001b[0mget_attribute\u001b[0m\u001b[0;34m(\u001b[0m\u001b[0;34m\"index\"\u001b[0m\u001b[0;34m)\u001b[0m \u001b[0;34m==\u001b[0m \u001b[0mmatch\u001b[0m\u001b[0;34m:\u001b[0m\u001b[0;34m\u001b[0m\u001b[0m\n\u001b[0;32m--> 101\u001b[0;31m                 \u001b[0mself\u001b[0m\u001b[0;34m.\u001b[0m\u001b[0m_setSelected\u001b[0m\u001b[0;34m(\u001b[0m\u001b[0mopt\u001b[0m\u001b[0;34m)\u001b[0m\u001b[0;34m\u001b[0m\u001b[0m\n\u001b[0m\u001b[1;32m    102\u001b[0m                 \u001b[0;32mreturn\u001b[0m\u001b[0;34m\u001b[0m\u001b[0m\n\u001b[1;32m    103\u001b[0m         \u001b[0;32mraise\u001b[0m \u001b[0mNoSuchElementException\u001b[0m\u001b[0;34m(\u001b[0m\u001b[0;34m\"Could not locate element with index %d\"\u001b[0m \u001b[0;34m%\u001b[0m \u001b[0mindex\u001b[0m\u001b[0;34m)\u001b[0m\u001b[0;34m\u001b[0m\u001b[0m\n",
      "\u001b[0;32m/Library/Frameworks/Python.framework/Versions/3.5/lib/python3.5/site-packages/selenium/webdriver/support/select.py\u001b[0m in \u001b[0;36m_setSelected\u001b[0;34m(self, option)\u001b[0m\n\u001b[1;32m    210\u001b[0m     \u001b[0;32mdef\u001b[0m \u001b[0m_setSelected\u001b[0m\u001b[0;34m(\u001b[0m\u001b[0mself\u001b[0m\u001b[0;34m,\u001b[0m \u001b[0moption\u001b[0m\u001b[0;34m)\u001b[0m\u001b[0;34m:\u001b[0m\u001b[0;34m\u001b[0m\u001b[0m\n\u001b[1;32m    211\u001b[0m         \u001b[0;32mif\u001b[0m \u001b[0;32mnot\u001b[0m \u001b[0moption\u001b[0m\u001b[0;34m.\u001b[0m\u001b[0mis_selected\u001b[0m\u001b[0;34m(\u001b[0m\u001b[0;34m)\u001b[0m\u001b[0;34m:\u001b[0m\u001b[0;34m\u001b[0m\u001b[0m\n\u001b[0;32m--> 212\u001b[0;31m             \u001b[0moption\u001b[0m\u001b[0;34m.\u001b[0m\u001b[0mclick\u001b[0m\u001b[0;34m(\u001b[0m\u001b[0;34m)\u001b[0m\u001b[0;34m\u001b[0m\u001b[0m\n\u001b[0m\u001b[1;32m    213\u001b[0m \u001b[0;34m\u001b[0m\u001b[0m\n\u001b[1;32m    214\u001b[0m     \u001b[0;32mdef\u001b[0m \u001b[0m_unsetSelected\u001b[0m\u001b[0;34m(\u001b[0m\u001b[0mself\u001b[0m\u001b[0;34m,\u001b[0m \u001b[0moption\u001b[0m\u001b[0;34m)\u001b[0m\u001b[0;34m:\u001b[0m\u001b[0;34m\u001b[0m\u001b[0m\n",
      "\u001b[0;32m/Library/Frameworks/Python.framework/Versions/3.5/lib/python3.5/site-packages/selenium/webdriver/remote/webelement.py\u001b[0m in \u001b[0;36mclick\u001b[0;34m(self)\u001b[0m\n\u001b[1;32m     78\u001b[0m     \u001b[0;32mdef\u001b[0m \u001b[0mclick\u001b[0m\u001b[0;34m(\u001b[0m\u001b[0mself\u001b[0m\u001b[0;34m)\u001b[0m\u001b[0;34m:\u001b[0m\u001b[0;34m\u001b[0m\u001b[0m\n\u001b[1;32m     79\u001b[0m         \u001b[0;34m\"\"\"Clicks the element.\"\"\"\u001b[0m\u001b[0;34m\u001b[0m\u001b[0m\n\u001b[0;32m---> 80\u001b[0;31m         \u001b[0mself\u001b[0m\u001b[0;34m.\u001b[0m\u001b[0m_execute\u001b[0m\u001b[0;34m(\u001b[0m\u001b[0mCommand\u001b[0m\u001b[0;34m.\u001b[0m\u001b[0mCLICK_ELEMENT\u001b[0m\u001b[0;34m)\u001b[0m\u001b[0;34m\u001b[0m\u001b[0m\n\u001b[0m\u001b[1;32m     81\u001b[0m \u001b[0;34m\u001b[0m\u001b[0m\n\u001b[1;32m     82\u001b[0m     \u001b[0;32mdef\u001b[0m \u001b[0msubmit\u001b[0m\u001b[0;34m(\u001b[0m\u001b[0mself\u001b[0m\u001b[0;34m)\u001b[0m\u001b[0;34m:\u001b[0m\u001b[0;34m\u001b[0m\u001b[0m\n",
      "\u001b[0;32m/Library/Frameworks/Python.framework/Versions/3.5/lib/python3.5/site-packages/selenium/webdriver/remote/webelement.py\u001b[0m in \u001b[0;36m_execute\u001b[0;34m(self, command, params)\u001b[0m\n\u001b[1;32m    626\u001b[0m             \u001b[0mparams\u001b[0m \u001b[0;34m=\u001b[0m \u001b[0;34m{\u001b[0m\u001b[0;34m}\u001b[0m\u001b[0;34m\u001b[0m\u001b[0m\n\u001b[1;32m    627\u001b[0m         \u001b[0mparams\u001b[0m\u001b[0;34m[\u001b[0m\u001b[0;34m'id'\u001b[0m\u001b[0;34m]\u001b[0m \u001b[0;34m=\u001b[0m \u001b[0mself\u001b[0m\u001b[0;34m.\u001b[0m\u001b[0m_id\u001b[0m\u001b[0;34m\u001b[0m\u001b[0m\n\u001b[0;32m--> 628\u001b[0;31m         \u001b[0;32mreturn\u001b[0m \u001b[0mself\u001b[0m\u001b[0;34m.\u001b[0m\u001b[0m_parent\u001b[0m\u001b[0;34m.\u001b[0m\u001b[0mexecute\u001b[0m\u001b[0;34m(\u001b[0m\u001b[0mcommand\u001b[0m\u001b[0;34m,\u001b[0m \u001b[0mparams\u001b[0m\u001b[0;34m)\u001b[0m\u001b[0;34m\u001b[0m\u001b[0m\n\u001b[0m\u001b[1;32m    629\u001b[0m \u001b[0;34m\u001b[0m\u001b[0m\n\u001b[1;32m    630\u001b[0m     \u001b[0;32mdef\u001b[0m \u001b[0mfind_element\u001b[0m\u001b[0;34m(\u001b[0m\u001b[0mself\u001b[0m\u001b[0;34m,\u001b[0m \u001b[0mby\u001b[0m\u001b[0;34m=\u001b[0m\u001b[0mBy\u001b[0m\u001b[0;34m.\u001b[0m\u001b[0mID\u001b[0m\u001b[0;34m,\u001b[0m \u001b[0mvalue\u001b[0m\u001b[0;34m=\u001b[0m\u001b[0;32mNone\u001b[0m\u001b[0;34m)\u001b[0m\u001b[0;34m:\u001b[0m\u001b[0;34m\u001b[0m\u001b[0m\n",
      "\u001b[0;32m/Library/Frameworks/Python.framework/Versions/3.5/lib/python3.5/site-packages/selenium/webdriver/remote/webdriver.py\u001b[0m in \u001b[0;36mexecute\u001b[0;34m(self, driver_command, params)\u001b[0m\n\u001b[1;32m    310\u001b[0m         \u001b[0mresponse\u001b[0m \u001b[0;34m=\u001b[0m \u001b[0mself\u001b[0m\u001b[0;34m.\u001b[0m\u001b[0mcommand_executor\u001b[0m\u001b[0;34m.\u001b[0m\u001b[0mexecute\u001b[0m\u001b[0;34m(\u001b[0m\u001b[0mdriver_command\u001b[0m\u001b[0;34m,\u001b[0m \u001b[0mparams\u001b[0m\u001b[0;34m)\u001b[0m\u001b[0;34m\u001b[0m\u001b[0m\n\u001b[1;32m    311\u001b[0m         \u001b[0;32mif\u001b[0m \u001b[0mresponse\u001b[0m\u001b[0;34m:\u001b[0m\u001b[0;34m\u001b[0m\u001b[0m\n\u001b[0;32m--> 312\u001b[0;31m             \u001b[0mself\u001b[0m\u001b[0;34m.\u001b[0m\u001b[0merror_handler\u001b[0m\u001b[0;34m.\u001b[0m\u001b[0mcheck_response\u001b[0m\u001b[0;34m(\u001b[0m\u001b[0mresponse\u001b[0m\u001b[0;34m)\u001b[0m\u001b[0;34m\u001b[0m\u001b[0m\n\u001b[0m\u001b[1;32m    313\u001b[0m             response['value'] = self._unwrap_value(\n\u001b[1;32m    314\u001b[0m                 response.get('value', None))\n",
      "\u001b[0;32m/Library/Frameworks/Python.framework/Versions/3.5/lib/python3.5/site-packages/selenium/webdriver/remote/errorhandler.py\u001b[0m in \u001b[0;36mcheck_response\u001b[0;34m(self, response)\u001b[0m\n\u001b[1;32m    235\u001b[0m         \u001b[0;32melif\u001b[0m \u001b[0mexception_class\u001b[0m \u001b[0;34m==\u001b[0m \u001b[0mUnexpectedAlertPresentException\u001b[0m \u001b[0;32mand\u001b[0m \u001b[0;34m'alert'\u001b[0m \u001b[0;32min\u001b[0m \u001b[0mvalue\u001b[0m\u001b[0;34m:\u001b[0m\u001b[0;34m\u001b[0m\u001b[0m\n\u001b[1;32m    236\u001b[0m             \u001b[0;32mraise\u001b[0m \u001b[0mexception_class\u001b[0m\u001b[0;34m(\u001b[0m\u001b[0mmessage\u001b[0m\u001b[0;34m,\u001b[0m \u001b[0mscreen\u001b[0m\u001b[0;34m,\u001b[0m \u001b[0mstacktrace\u001b[0m\u001b[0;34m,\u001b[0m \u001b[0mvalue\u001b[0m\u001b[0;34m[\u001b[0m\u001b[0;34m'alert'\u001b[0m\u001b[0;34m]\u001b[0m\u001b[0;34m.\u001b[0m\u001b[0mget\u001b[0m\u001b[0;34m(\u001b[0m\u001b[0;34m'text'\u001b[0m\u001b[0;34m)\u001b[0m\u001b[0;34m)\u001b[0m\u001b[0;34m\u001b[0m\u001b[0m\n\u001b[0;32m--> 237\u001b[0;31m         \u001b[0;32mraise\u001b[0m \u001b[0mexception_class\u001b[0m\u001b[0;34m(\u001b[0m\u001b[0mmessage\u001b[0m\u001b[0;34m,\u001b[0m \u001b[0mscreen\u001b[0m\u001b[0;34m,\u001b[0m \u001b[0mstacktrace\u001b[0m\u001b[0;34m)\u001b[0m\u001b[0;34m\u001b[0m\u001b[0m\n\u001b[0m\u001b[1;32m    238\u001b[0m \u001b[0;34m\u001b[0m\u001b[0m\n\u001b[1;32m    239\u001b[0m     \u001b[0;32mdef\u001b[0m \u001b[0m_value_or_default\u001b[0m\u001b[0;34m(\u001b[0m\u001b[0mself\u001b[0m\u001b[0;34m,\u001b[0m \u001b[0mobj\u001b[0m\u001b[0;34m,\u001b[0m \u001b[0mkey\u001b[0m\u001b[0;34m,\u001b[0m \u001b[0mdefault\u001b[0m\u001b[0;34m)\u001b[0m\u001b[0;34m:\u001b[0m\u001b[0;34m\u001b[0m\u001b[0m\n",
      "\u001b[0;31mElementNotVisibleException\u001b[0m: Message: element not visible: Element is not currently visible and may not be manipulated\n  (Session info: chrome=63.0.3239.132)\n  (Driver info: chromedriver=2.35.528157 (4429ca2590d6988c0745c24c8858745aaaec01ef),platform=Mac OS X 10.12.4 x86_64)\n"
     ],
     "output_type": "error"
    }
   ],
   "source": [
    "from selenium.webdriver.support.select import Select\n",
    "ele=browser.find_element_by_xpath('//*[@id=\"otherAvailLangsChooser\"]')\n",
    "option=Select(ele).select_by_index(143)\n",
    "\n"
   ]
  },
  {
   "cell_type": "code",
   "execution_count": 45,
   "metadata": {},
   "outputs": [],
   "source": [
    "browser.execute_script(\"document.getElementById('otherAvailLangsChooser').value='cmn-hans'\")"
   ]
  },
  {
   "cell_type": "code",
   "execution_count": 46,
   "metadata": {},
   "outputs": [],
   "source": [
    "browser.quit()"
   ]
  },
  {
   "cell_type": "code",
   "execution_count": 47,
   "metadata": {},
   "outputs": [],
   "source": [
    "from selenium import webdriver\n",
    "\n",
    "from crawler_bible import crawler_auto\n",
    "\n",
    "proxies = {\n",
    "    \"http\": \"http://127.0.0.1:51263\",\n",
    "    \"https\": \"http://127.0.0.1:51263\",\n",
    "}\n",
    "\n",
    "pre_url = 'https://www.jw.org'\n",
    "\n",
    "url = 'https://www.jw.org/ja/%E5%87%BA%E7%89%88%E7%89%A9/%E8%81%96%E6%9B%B8/bi12/%E5%90%84%E6%9B%B8/'\n",
    "\n",
    "browser = webdriver.Chrome()\n",
    "browser.get(url)\n"
   ]
  },
  {
   "cell_type": "code",
   "execution_count": 48,
   "metadata": {},
   "outputs": [],
   "source": [
    "browser.execute_script(\"document.getElementById('otherAvailLangsChooser').value='cmn-hans'\")"
   ]
  },
  {
   "cell_type": "code",
   "execution_count": 49,
   "metadata": {},
   "outputs": [],
   "source": [
    "browser.quit()"
   ]
  },
  {
   "cell_type": "code",
   "execution_count": 6,
   "metadata": {
    "collapsed": true
   },
   "outputs": [
    {
     "name": "stderr",
     "output_type": "stream",
     "text": [
      "/Library/Frameworks/Python.framework/Versions/3.5/lib/python3.5/site-packages/bs4/__init__.py:181: UserWarning: No parser was explicitly specified, so I'm using the best available HTML parser for this system (\"lxml\"). This usually isn't a problem, but if you run this code on another system, or in a different virtual environment, it may use a different parser and behave differently.\n\nThe code that caused this warning is on line 170 of the file /Library/Frameworks/Python.framework/Versions/3.5/lib/python3.5/runpy.py. To get rid of this warning, change code that looks like this:\n\n BeautifulSoup(YOUR_MARKUP})\n\nto this:\n\n BeautifulSoup(YOUR_MARKUP, \"lxml\")\n\n  markup_type=markup_type))\n"
     ]
    }
   ],
   "source": [
    "import requests\n",
    "from bs4 import BeautifulSoup\n",
    "\n",
    "base_url = \"https://www.wordproject.org/bibles/audio/12_japanese/index.htm\"\n",
    "\n",
    "html = requests.get(base_url).text\n",
    "soup = BeautifulSoup(html)\n",
    "book_dict = {}\n",
    "key1 = soup.select(\"#main > div > div > div > div.ym-grid.linearize-level-2 > div.ym-g50.ym-gl > h3\")[0].text\n",
    "book_dict1 = {}\n",
    "li_list = soup.select('#main > div > div > div > div.ym-grid.linearize-level-2 > div.ym-g50.ym-gl > ul')[0].select('li')\n",
    "for li in li_list:\n",
    "    a = li.select('a')[0]\n",
    "    value = a.text.strip()\n",
    "    book_dict1[value] = a['href']\n",
    "book_dict[key1] = book_dict1\n",
    "key2 = soup.select('#main > div > div > div > div.ym-grid.linearize-level-2 > div.ym-g50.ym-gr > h3')[0].text\n",
    "book_dict2 = {}\n",
    "li_list = soup.select('#main > div > div > div > div.ym-grid.linearize-level-2 > div.ym-g50.ym-gr > ul')[0].select('li')\n",
    "for li in li_list:\n",
    "    a = li.select('a')[0]\n",
    "    value = a.text.strip()\n",
    "    book_dict2[value] = a['href']\n",
    "book_dict[key2] = book_dict2\n",
    "\n",
    "with open(\"data/new_bible.txt\",'w') as openfile:\n",
    "    for k, v in book_dict.items():\n",
    "        for chapter, url in v.items():\n",
    "            openfile.write(k + \"\\t\" + chapter + \"\\t\" + url + \"\\n\")\n",
    "            \n"
   ]
  },
  {
   "cell_type": "code",
   "execution_count": 17,
   "metadata": {
    "collapsed": false
   },
   "outputs": [
    {
     "data": {
      "text/plain": [
       "<bound method Tag.get_text of <h3>æ°ç´èæ¸ - <span class=\"dimmed\">O.T.</span></h3>>"
      ]
     },
     "execution_count": 17,
     "metadata": {},
     "output_type": "execute_result"
    }
   ],
   "source": [
    "soup.select('#main > div > div > div > div.ym-grid.linearize-level-2 > div.ym-g50.ym-gr > h3')[0]."
   ]
  },
  {
   "cell_type": "code",
   "execution_count": 20,
   "metadata": {
    "collapsed": true
   },
   "outputs": [],
   "source": [
    "base_url = \"https://www.wordproject.org/bibles/audio/12_japanese/index.htm\"\n",
    "\n",
    "html = requests.get(base_url).text"
   ]
  },
  {
   "cell_type": "code",
   "execution_count": 21,
   "metadata": {
    "collapsed": true
   },
   "outputs": [
    {
     "data": {
      "text/plain": [
       "'ï»¿<!DOCTYPE html PUBLIC \"-//W3C//DTD XHTML 1.0 Transitional//EN\" \"http://www.w3.org/TR/xhtml1/DTD/xhtml1-transitional.dtd\">\\n<html xmlns=\"http://www.w3.org/1999/xhtml\" lang=\"jp\" xml:lang=\"jp\">\\n<head>\\n<meta http-equiv=\"Content-Type\" content=\"text/html; charset=UTF-8\" />\\n<title>æ\\x97¥æ\\x9c¬èª\\x9eã\\x81®è\\x81\\x96æ\\x9b¸ã\\x81®é\\x9f³å£°ã\\x83\\x8aã\\x83¬ã\\x83¼ã\\x82·ã\\x83§ã\\x83³ - Japanese Audio Bible</title>\\n<meta name=\"title\" content=\"æ\\x97¥æ\\x9c¬èª\\x9eã\\x81®è\\x81\\x96æ\\x9b¸ã\\x81®é\\x9f³å£°ã\\x83\\x8aã\\x83¬ã\\x83¼ã\\x82·ã\\x83§ã\\x83³ - Japanese Audio Bible\" />\\n<meta name=\"description\" content=\"æ\\x97¥æ\\x9c¬èª\\x9eã\\x81®è\\x81\\x96æ\\x9b¸ã\\x81®é\\x9f³å£°ã\\x83\\x8aã\\x83¬ã\\x83¼ã\\x82·ã\\x83§ã\\x83³ - ã\\x82ªã\\x83¼ã\\x83\\x87ã\\x82£ã\\x82ªè\\x81\\x96æ\\x9b¸æ\\x9b¸ç±\\x8dã\\x81®ã\\x82¤ã\\x83³ã\\x83\\x87ã\\x83\\x83ã\\x82¯ã\\x82¹ - ã\\x81\\x82ã\\x81ªã\\x81\\x9fã\\x81\\x8cè\\x81´ã\\x81\\x8dã\\x81\\x9fã\\x81\\x84æ\\x9c¬ã\\x82\\x92é\\x81¸ã\\x81¶\" />\\n<meta name=\"keywords\" content=\"æ\\x97¥æ\\x9c¬ã\\x80\\x81ã\\x82ªã\\x83¼ã\\x83\\x87ã\\x82£ã\\x82ªã\\x80\\x81è\\x81\\x96æ\\x9b¸ã\\x80\\x81è\\x81\\x96ã\\x80\\x81æ\\x96°ç´\\x84è\\x81\\x96æ\\x9b¸ã\\x80\\x81æ\\x97§ç´\\x84è\\x81\\x96æ\\x9b¸ã\\x80\\x81è\\x81\\x96æ\\x9b¸ã\\x80\\x81ç¥\\x9eã\\x80\\x81ã\\x82¤ã\\x82¨ã\\x82¹\" />\\n<link rel=\"shortcut icon\" href=\"http://www.wordproject.org/favicon.ico\">\\n<meta name=\"robots\" content=\"index, follow\">\\n\\n<meta name=\"viewport\" content=\"width=device-width, initial-scale=1.0\" />\\n<link rel=\"stylesheet\" type=\"text/css\" href=\"../../_assets/css/css.css\" />\\n<link rel=\"stylesheet\" type=\"text/css\" href=\"../../_assets/css/style.css\" />\\n<link rel=\"stylesheet\" type=\"text/css\" href=\"../../_assets/css/page-player.css\" />\\n<link rel=\"stylesheet\" type=\"text/css\" href=\"../../_assets/css/tables_bibles.css\" />\\n<!--[if lte IE 7]>\\r\\n<link href=\"../../_assets/css/iehacks.css\" rel=\"stylesheet\" type=\"text/css\" />\\r\\n<![endif]-->\\n<!--[if lt IE 9]>\\r\\n<script src=\"http://html5shim.googlecode.com/svn/trunk/html5.js\"></script>\\r\\n<![endif]-->\\n\\n<script type=\"text/javascript\">\\r\\nvar _gaq = _gaq || [];\\r\\n_gaq.push([\\'_setAccount\\', \\'UA-39700598-1\\']);\\r\\n_gaq.push([\\'_trackPageview\\']);\\r\\n(function() {\\r\\nvar ga = document.createElement(\\'script\\'); ga.type = \\'text/javascript\\'; ga.async = true;\\r\\nga.src = (\\'https:\\' == document.location.protocol ? \\'https://ssl\\' : \\'http://www\\') + \\'.google-analytics.com/ga.js\\';\\r\\nvar s = document.getElementsByTagName(\\'script\\')[0]; s.parentNode.insertBefore(ga, s);\\r\\n})();\\r\\n</script>\\n</head>\\n<body>\\n<a name=\"top\" id=\"top\"></a>\\n<header class=\"ym-noprint\">\\n<div class=\"ym-wrapper\">\\n<div class=\"ym-wbox\">\\n<h1><strong>Word</strong><em>Project</em></h1>\\n</div>\\n</div>\\n</header>\\n\\n<nav id=\"nav\">\\n<div class=\"ym-wrapper\">\\n<div class=\"ym-hlist\">\\n<ul>\\n<li><a title=\"Home\" href=\"../../../index.htm\" target=\"_top\">ã\\x83¡ã\\x82¤ã\\x83³ã\\x83\\x9aã\\x83¼ã\\x82¸</a></li>\\n<li><a title=\" Bible text - opens new tab\" href=\"../../jp/index.htm\" target=\"_blank\">è\\x81\\x96æ\\x9b¸</a></li>\\n<li><a class=\"selected\" href=\"../../../bibles/audio/index.htm\" target=\"_top\">ã\\x82ªã\\x83¼ã\\x83\\x87ã\\x82£ã\\x82ª</a></li>\\n<li><a title=\"Selected Bible Verses\" href=\"../../../bibles/verses/index.htm\" target=\"_top\">è©©</a></li>\\n<li><a title=\"Parallel Bibles\" href=\"../../../bibles/parallel/d/japanese.htm\" target=\"_top\">å¤\\x9a</a></li>\\n<li><a title=\"Resourcces\" href=\"../../../bibles/resources/index.htm\" target=\"_top\">ã\\x83ªã\\x82½ã\\x83¼ã\\x82¹</a></li>\\n<li><a title=\"Search\" href=\"../../../bibles/search/index.htm\" target=\"_top\">æ¤\\x9cç´¢</a></li>\\n</ul>\\n</div>\\n</div>\\n</nav>\\n<div class=\"ym-wrapper ym-noprint\">\\n<div class=\"ym-wbox\">\\n\\n<div style=\"margin: 10px 1px 60px 20px;\" align=\"right\">\\n\\n<a title=\"Click to share on Facebook\" href=\"http://www.facebook.com/sharer.php?u=http://wordproject.org/bibles/audio/29_japanese/index.htm\" target=\"_blank\"><div class=\"facebook-hover_2 social-slide_2\"></div></a>\\n\\n<a title=\"Click to share on Twitter\" href=\"http://twitter.com/share?url=http://wordproject.org/bibles/audio/29_japanese/index.htm&text=Listen to this audio &hashtags=wordproject\" target=\"_blank\"><div class=\"twitter-hover_2 social-slide_2\"></div></a>\\n\\n<a title=\"Click to share on Google plus\" href=\"https://plus.google.com/share?url=http://wordproject.org/bibles/audio/29_japanese/index.htm\" target=\"_blank\"><div class=\"google-hover_2 social-slide_2\"></div></a>\\n\\n<a title=\"Click to share on Linkedin\" href=\"http://www.linkedin.com/shareArticle?mini=true&url=http://www.wordproject.org\" target=\"_blank\"><div class=\"linkedin-hover_2 social-slide_2\"></div></a>\\n</div>\\n\\n\\n<div style=\"margin: 10px 1px 20px 20px;\" align=\"right\"><a class=\"decreaseFont ym-button\">-</a><a class=\"resetFont ym-button\">Reset</a><a class=\"increaseFont ym-button\">+</a>\\n</div>\\n\\n<div class=\" ym-grid\">\\n<div class=\"ym-g62 ym-gl breadCrumbs\"><a title=\"Home\" href=\"../../index.htm\" target=\"_top\">ã\\x83¡ã\\x82¤ã\\x83³ã\\x83\\x9aã\\x83¼ã\\x82¸</a> / <a title=\"Audio Bible\" href=\"../index.htm\" target=\"_self\">ã\\x82ªã\\x83¼ã\\x83\\x87ã\\x82£ã\\x82ª</a> / </div>\\n</div>\\n</div>\\n</div>\\n<div id=\"main\" class=\"ym-clearfix\" role=\"main\">\\n<div class=\"ym-wrapper\">\\n<div class=\"ym-wbox\">\\n<div class=\"textOptions\">\\n<div class=\"textHeader\">\\n<h2>æ\\x97¥æ\\x9c¬ã\\x81®ã\\x82ªã\\x83¼ã\\x83\\x87ã\\x82£ã\\x82ªè\\x81\\x96æ\\x9b¸</h2>\\n<span class=\"dimmed\">[Japanese Audio Bible - Playlist]</span>\\n<p class=\"faded\">ã\\x82¢ã\\x83³ã\\x83\\x89ã\\x83\\xadã\\x82¤ã\\x83\\x89ã\\x81®ã\\x81\\x9fã\\x82\\x81ã\\x81®ç§\\x81ã\\x81\\x9fã\\x81¡ã\\x81®ã\\x82¢ã\\x83\\x97ã\\x83ªã\\x82\\x92ã\\x83\\x80ã\\x82¦ã\\x83³ã\\x83\\xadã\\x83¼ã\\x83\\x89; <br />\\nã\\x80\\x8cã\\x82¢ã\\x83³ã\\x83\\x89ã\\x83\\xadã\\x82¤ã\\x83\\x89ã\\x80\\x8dã\\x81®æ\\x88\\x91ã\\x80\\x85ã\\x81®ã\\x82¢ã\\x83\\x97ã\\x83ªã\\x82\\x92è©¦ã\\x81\\x97ã\\x81¦ã\\x81¿ã\\x81¦ã\\x81\\x8fã\\x81\\xa0ã\\x81\\x95ã\\x81\\x84ã\\x80\\x82ã\\x82ªã\\x83¼ã\\x83\\x87ã\\x82£ã\\x82ªæ\\x97¥æ\\x9c¬èª\\x9eã\\x81§è\\x81\\x96æ\\x9b¸ã\\x81¨36ä»\\x96ã\\x81®è¨\\x80èª\\x9eã\\x80\\x82</p>\\n\\n<p class=\"centered\"><a title=\"Try our App - text and audio Bibles in 36 languages\" href=\"https://play.google.com/store/apps/details?id=com.WordProject.HolyBible&hl=en\" target=\"_blank\"><img src=\"../../_assets/img/app-store-google.jpg\" width=\"130\" height=\"auto\" alt=\"Wordproject on Google Play\"></a>\\n<a title=\"Try our IOS App - text and audio Bibles in 36 languages\" href=\"https://itunes.apple.com/us/app/wordproject-audio-bible/id1149289190?ls=1&mt=8\" target=\"_blank\"><img src=\"../../_assets/img/app-store-apple.jpg\" width=\"130\" height=\"auto\" alt=\"Wordproject on iTunes\"></a></p>\\n\\n<p class=\"faded\">ä¸\\x8bã\\x81®æ\\x9c¬ã\\x82\\x92ã\\x82¯ã\\x83ªã\\x83\\x83ã\\x82¯ã\\x81\\x97ã\\x81¦ã\\x81\\x8fã\\x81\\xa0ã\\x81\\x95ã\\x81\\x84: </p>\\n</div>\\n<div class=\"ym-grid linearize-level-2\">\\n<div class=\"ym-g50 ym-gl\">\\n<h3>æ\\x97§ç´\\x84è\\x81\\x96æ\\x9b¸ - <span class=\"dimmed\">O.T.<br />\\n<a title=\"Index with English Book References\" href=\"index_en.htm#1\" class=\"special\">[English Book Refs.]</a></span></h3>\\n<ul class=\"nav nav-tabs nav-stacked list-audio\">\\n<li><a title=\"Gn [1]\" href=\"b01.htm\"> å\\x89µä¸\\x96è¨\\x98 </a></li>\\n<li><a title=\"Ex [2]\" href=\"b02.htm\"> å\\x87ºã\\x82¨ã\\x82¸ã\\x83\\x97ã\\x83\\x88è¨\\x98 </a></li>\\n<li><a title=\"Lv [3]\" href=\"b03.htm\"> ã\\x83¬ã\\x83\\x93è¨\\x98 </a></li>\\n<li><a title=\"Nm [4]\" href=\"b04.htm\"> æ°\\x91æ\\x95°è¨\\x98 </a></li>\\n<li><a title=\"Dt [5]\" href=\"b05.htm\"> ç\\x94³å\\x91½è¨\\x98</a></li>\\n<li><a title=\"Js [6]\" href=\"b06.htm\"> ã\\x83¨ã\\x82·ã\\x83¥ã\\x82¢è¨\\x98 </a></li>\\n<li><a title=\"Jg [7]\" href=\"b07.htm\"> å£«å¸«è¨\\x98 </a></li>\\n<li><a title=\"Rt [8]\" href=\"b08.htm\"> ã\\x83«ã\\x83\\x84è¨\\x98 </a></li>\\n<li><a title=\"1Sm [9]\" href=\"b09.htm\"> ã\\x82µã\\x83\\xa0ã\\x82¨ã\\x83«è¨\\x98ä¸\\x8a </a></li>\\n<li><a title=\"2Sm [10]\" href=\"b10.htm\"> ã\\x82µã\\x83\\xa0ã\\x82¨ã\\x83«è¨\\x98ä¸\\x8b </a></li>\\n<li><a title=\"1Kn [11]\" href=\"b11.htm\"> å\\x88\\x97ç\\x8e\\x8bè¨\\x98ä¸\\x8a </a></li>\\n<li><a title=\"2Kn [12]\" href=\"b12.htm\"> å\\x88\\x97ç\\x8e\\x8bè¨\\x98ä¸\\x8b </a></li>\\n<li><a title=\"1Ch [13]\" href=\"b13.htm\"> ä»£èª\\x8cä¸\\x8a </a></li>\\n<li><a title=\"2Ch [14]\" href=\"b14.htm\"> æ\\xad´ä»£èª\\x8cä¸\\x8b</a></li>\\n<li><a title=\"Ez [15]\" href=\"b15.htm\"> ã\\x82¨ã\\x82ºã\\x83©è¨\\x98 </a></li>\\n<li><a title=\"Nh [16]\" href=\"b16.htm\"> ã\\x83\\x8dã\\x83\\x98ã\\x83\\x9fã\\x83¤è¨\\x98</a></li>\\n<li><a title=\"Es [17]\" href=\"b17.htm\"> ã\\x82¨ã\\x82¹ã\\x83\\x86ã\\x83«è¨\\x98</a></li>\\n<li><a title=\"Jb [18]\" href=\"b18.htm\"> ã\\x83¨ã\\x83\\x96è¨\\x98</a></li>\\n<li><a title=\"Ps [19]\" href=\"b19.htm\"> è©©ç·¨ </a></li>\\n<li><a title=\"Pr [20]\" href=\"b20.htm\"> ç®´è¨\\x80 </a></li>\\n<li><a title=\"Ec [21]\" href=\"b21.htm\"> ã\\x82³ã\\x83\\x98ã\\x83¬ã\\x83\\x88ã\\x81®è¨\\x80è\\x91\\x89 </a></li>\\n<li><a title=\"Sn [22]\" href=\"b22.htm\"> é\\x9b\\x85æ\\xad\\x8c</a></li>\\n<li><a title=\"Is [23]\" href=\"b23.htm\"> ã\\x82¤ã\\x82¶ã\\x83¤è¨\\x98 </a></li>\\n<li><a title=\"Jr [24]\" href=\"b24.htm\"> ã\\x82¨ã\\x83¬ã\\x83\\x9fã\\x83¤è¨\\x98 </a></li>\\n<li><a title=\"Lm [25]\" href=\"b25.htm\"> å\\x93\\x80æ\\xad\\x8c </a></li>\\n<li><a title=\"Ek [26]\" href=\"b26.htm\"> ã\\x82¨ã\\x82¼ã\\x82\\xadã\\x82¨ã\\x83«è¨\\x98</a></li>\\n<li><a title=\"Dn [27]\" href=\"b27.htm\"> ã\\x83\\x80ã\\x83\\x8bã\\x82¨ã\\x83«è¨\\x98</a></li>\\n<li><a title=\"Hs [28]\" href=\"b28.htm\"> ã\\x83\\x9bã\\x82»ã\\x82¢è¨\\x98 </a></li>\\n<li><a title=\"Jl [29]\" href=\"b29.htm\"> ã\\x83¨ã\\x82¨ã\\x83«è¨\\x98 </a></li>\\n<li><a title=\"Am [30]\" href=\"b30.htm\"> ã\\x82¢ã\\x83¢ã\\x82¹è¨\\x98</a></li>\\n<li><a title=\"Ob [31]\" href=\"b31.htm\"> ã\\x82ªã\\x83\\x90ã\\x83\\x87ã\\x82¢è¨\\x98</a></li>\\n<li><a title=\"Jn [32]\" href=\"b32.htm\"> ã\\x83¨ã\\x83\\x8aè¨\\x98 </a></li>\\n<li><a title=\"Mc [33]\" href=\"b33.htm\"> ã\\x83\\x9fã\\x82«è¨\\x98 </a></li>\\n<li><a title=\"Na [34]\" href=\"b34.htm\"> ã\\x83\\x8aã\\x83\\x9bã\\x83\\xa0è¨\\x98 </a></li>\\n<li><a title=\"Hk [35]\" href=\"b35.htm\"> ã\\x83\\x8fã\\x83\\x90ã\\x82¯ã\\x82¯è¨\\x98 </a></li>\\n<li><a title=\"Zp [36]\" href=\"b36.htm\"> ã\\x82¼ã\\x83\\x95ã\\x82¡ã\\x83\\x8bã\\x83¤è¨\\x98 </a></li>\\n<li><a title=\"Hg [37]\" href=\"b37.htm\"> ã\\x83\\x8fã\\x82¬ã\\x82¤è¨\\x98 </a></li>\\n<li><a title=\"Zc [38]\" href=\"b38.htm\"> ã\\x82¼ã\\x82«ã\\x83ªã\\x83¤è¨\\x98 </a></li>\\n<li><a title=\"Ml [39]\" href=\"b39.htm\"> ã\\x83\\x9eã\\x83©ã\\x82\\xadè¨\\x98</a></li>\\n</ul>\\n</div>\\n<div class=\"ym-g50 ym-gr\">\\n<h3>æ\\x96°ç´\\x84è\\x81\\x96æ\\x9b¸ - <span class=\"dimmed\">O.T.</span></h3>\\n<ul class=\"nav nav-tabs nav-stacked list-audio\">\\n<li><a title=\"Mt [40]\" href=\"b40.htm\"> ã\\x83\\x9eã\\x82¿ã\\x82¤ã\\x81«ã\\x82\\x88ã\\x82\\x8bç¦\\x8fé\\x9f³æ\\x9b¸ </a></li>\\n<li><a title=\"Mr [41]\" href=\"b41.htm\"> ã\\x83\\x9eã\\x83«ã\\x82³ã\\x81«ã\\x82\\x88ã\\x82\\x8bç¦\\x8fé\\x9f³æ\\x9b¸ </a></li>\\n<li><a title=\"Lk [42]\" href=\"b42.htm\"> ã\\x83«ã\\x82«ã\\x81«ã\\x82\\x88ã\\x82\\x8bç¦\\x8fé\\x9f³æ\\x9b¸ </a></li>\\n<li><a title=\"Jh [43]\" href=\"b43.htm\"> ã\\x83¨ã\\x83\\x8fã\\x83\\x8dã\\x81«ã\\x82\\x88ã\\x82\\x8bç¦\\x8fé\\x9f³æ\\x9b¸ </a></li>\\n<li><a title=\"Ac [44]\" href=\"b44.htm\"> ä½¿å¾\\x92è¨\\x80è¡\\x8cé\\x8c²</a></li>\\n<li><a title=\"Rm [45]\" href=\"b45.htm\"> ã\\x83\\xadã\\x83¼ã\\x83\\x9eã\\x81®ä¿¡å¾\\x92ã\\x81¸ã\\x81®æ\\x89\\x8bç´\\x99 </a></li>\\n<li><a title=\"1Cr [46]\" href=\"b46.htm\"> ã\\x82³ã\\x83ªã\\x83³ã\\x83\\x88ã\\x81®ä¿¡å¾\\x92ã\\x81¸ã\\x81®æ\\x89\\x8bç´\\x99ä¸\\x80 </a></li>\\n<li><a title=\"2Cr [47]\" href=\"b47.htm\"> ã\\x82³ã\\x83ªã\\x83³ã\\x83\\x88ã\\x81®ä¿¡å¾\\x92ã\\x81¸ã\\x81®æ\\x89\\x8bç´\\x99äº\\x8c </a></li>\\n<li><a title=\"Gl [48]\" href=\"b48.htm\"> ã\\x82¬ã\\x83©ã\\x83\\x86ã\\x83¤ã\\x81®ä¿¡å¾\\x92ã\\x81¸ã\\x81®æ\\x89\\x8bç´\\x99 </a></li>\\n<li><a title=\"Ep [49]\" href=\"b49.htm\"> ã\\x82¨ã\\x83\\x95ã\\x82§ã\\x82½ã\\x81®ä¿¡å¾\\x92ã\\x81¸ã\\x81®æ\\x89\\x8bç´\\x99 </a></li>\\n<li><a title=\"Ph [50]\" href=\"b50.htm\"> ã\\x83\\x95ã\\x82£ã\\x83ªã\\x83\\x94ã\\x81®ä¿¡å¾\\x92ã\\x81¸ã\\x81®æ\\x89\\x8bç´\\x99 </a></li>\\n<li><a title=\"Cl [51]\" href=\"b51.htm\"> ã\\x82³ã\\x83\\xadã\\x82µã\\x82¤ã\\x81®ä¿¡å¾\\x92ã\\x81¸ã\\x81®æ\\x89\\x8bç´\\x99 </a></li>\\n<li><a title=\"1Th [52]\" href=\"b52.htm\"> ã\\x83\\x86ã\\x82µã\\x83\\xadã\\x83\\x8bã\\x82±ã\\x81®ä¿¡å¾\\x92ã\\x81¸ã\\x81®æ\\x89\\x8bç´\\x99ä¸\\x80 </a></li>\\n<li><a title=\"2Th [53]\" href=\"b53.htm\"> ã\\x83\\x86ã\\x82µã\\x83\\xadã\\x83\\x8bã\\x82±ã\\x81®ä¿¡å¾\\x92ã\\x81¸ã\\x81®æ\\x89\\x8bç´\\x99äº\\x8c </a></li>\\n<li><a title=\"1Tm [54]\" href=\"b54.htm\"> ã\\x83\\x86ã\\x83¢ã\\x83\\x86ã\\x81¸ã\\x81®æ\\x89\\x8bç´\\x99ä¸\\x80 </a></li>\\n<li><a title=\"2Tm [55]\" href=\"b55.htm\"> ã\\x83\\x86ã\\x83¢ã\\x83\\x86ã\\x81¸ã\\x81®æ\\x89\\x8bç´\\x99äº\\x8c </a></li>\\n<li><a title=\"Tt [56]\" href=\"b56.htm\"> ã\\x83\\x86ã\\x83\\x88ã\\x82¹ã\\x81¸ã\\x81®æ\\x89\\x8bç´\\x99 </a></li>\\n<li><a title=\"Pl [57]\" href=\"b57.htm\"> ã\\x83\\x95ã\\x82£ã\\x83¬ã\\x83¢ã\\x83³ã\\x81¸ã\\x81®æ\\x89\\x8bç´\\x99</a></li>\\n<li><a title=\"Hb [58]\" href=\"b58.htm\"> ã\\x83\\x98ã\\x83\\x96ã\\x83©ã\\x82¤äººã\\x81¸ã\\x81®æ\\x89\\x8bç´\\x99 </a></li>\\n<li><a title=\"Jm [59]\" href=\"b59.htm\"> ã\\x83¤ã\\x82³ã\\x83\\x96ã\\x81®æ\\x89\\x8bç´\\x99 </a></li>\\n<li><a title=\"1Pt [60]\" href=\"b60.htm\"> ã\\x83\\x9aã\\x83\\x88ã\\x83\\xadã\\x81®æ\\x89\\x8bç´\\x99ä¸\\x80 </a></li>\\n<li><a title=\"2Pt [61]\" href=\"b61.htm\"> ã\\x83\\x9aã\\x83\\x88ã\\x83\\xadã\\x81®æ\\x89\\x8bç´\\x99äº\\x8c </a></li>\\n<li><a title=\"1Jh [62]\" href=\"b62.htm\"> ã\\x83¨ã\\x83\\x8fã\\x83\\x8dã\\x81®æ\\x89\\x8bç´\\x99ä¸\\x80 </a></li>\\n<li><a title=\"2Jh [63]\" href=\"b63.htm\"> ã\\x83¨ã\\x83\\x8fã\\x83\\x8dã\\x81®æ\\x89\\x8bç´\\x99äº\\x8c </a></li>\\n<li><a title=\"3Jh [64]\" href=\"b64.htm\"> ã\\x83¨ã\\x83\\x8fã\\x83\\x8dã\\x81®æ\\x89\\x8bç´\\x99ä¸\\x89 </a></li>\\n<li><a title=\"Jd [65]\" href=\"b65.htm\"> ã\\x83¦ã\\x83\\x80ã\\x81®æ\\x89\\x8bç´\\x99</a></li>\\n<li><a title=\"Rv [66]\" href=\"b66.htm\"> ã\\x83¨ã\\x83\\x8fã\\x83\\x8dã\\x81®é»\\x99ç¤ºé\\x8c² </a></li>\\n</ul>\\n</div>\\n</div>\\n</div>\\n<p class=\"textWarning\"><span class=\"label\">Important</span> Without proper rendering <a href=\"http://en.wikipedia.org/wiki/Help:Multilingual_support_(East_Asian)\">support</a>, you may see question marks, boxes, or other symbols instead of characters. </p>\\n</div>\\n</div>\\n</div>\\n<div class=\"ym-wrapper\">\\n<div class=\"ym-wbox\">\\n<div class=\"alignRight ym-noprint\">\\n<p><a class=\"ym-button\" href=\"#top\"><i class=\"icon-circle-arrow-up icon-white\"></i> Top</a>\\n</p>\\n</div>\\n</div>\\n</div>\\n<footer>\\n<div class=\"ym-wrapper\">\\n<div class=\"ym-wbox\">\\n<p class=\"alignCenter\">WordprojectÂ® is a registered name of the <a href=\"http://www.wordproject.org/#\">International Biblical Association</a>, a non-profit organization registered in Macau, China.\\t</p>\\n<p class=\"alignCenter\"><a href=\"http://www.wordproject.org/contact/new/index.htm\">Contact</a> | <a href=\"http://www.wordproject.org/contact/new/disclaim.htm\"> Disclaimer</a> |\\n<a href=\"http://www.wordproject.org/contact/new/state.htm\">Statement of Faith</a> |\\n<a href=\"http://www.wordproject.org/contact/new/mstate.htm\">Mission</a> |\\n<a href=\"http://www.wordproject.org/contact/new/copyrights.htm\">Copyrights</a></p>\\n</div>\\n</div>\\n</footer>\\n</body>\\n</script><script type=\"text/javascript\" src=\"../../_assets/js/jquery-1.8.0.min.js\"></script>\\n<script type=\"text/javascript\" src=\"../../_assets/js/soundmanager2.js\"></script>\\n<script type=\"text/javascript\" src=\"../../_assets/js/script.js\"></script>\\n<script type=\"text/javascript\" src=\"../../_assets/js/jquery.waypoints.js\"></script>\\n<script type=\"text/javascript\" src=\"../../_assets/js/sticky.js\"></script>\\n<script src=\"../../_assets/js/bar-ui.js\"></script>\\n<script type=\"text/javascript\">\\r\\nvar sticky = new Waypoint.Sticky({\\r\\nelement: $(\\'.textAudio\\')[0],\\r\\n});\\r\\nsoundManager.setup({\\r\\nurl: \\'../../swf/\\',\\r\\nonready: function() {\\r\\n}\\r\\n});\\r\\n</script>\\n<script src=\"../../_assets/js/jquery.dropotron.min.js\"></script>\\n<script src=\"../../_assets/js/skel.min.js\"></script>\\n<script src=\"../../_assets/js/skel-viewport.min.js\"></script>\\n<script src=\"../../_assets/js/util.js\"></script>\\n<script src=\"../../_assets/js/main.js\"></script>\\n</html>\\n'"
      ]
     },
     "execution_count": 21,
     "metadata": {},
     "output_type": "execute_result"
    }
   ],
   "source": [
    "html"
   ]
  },
  {
   "cell_type": "code",
   "execution_count": 46,
   "metadata": {
    "collapsed": true
   },
   "outputs": [
    {
     "name": "stderr",
     "output_type": "stream",
     "text": [
      "/Library/Frameworks/Python.framework/Versions/3.5/lib/python3.5/site-packages/bs4/__init__.py:181: UserWarning: No parser was explicitly specified, so I'm using the best available HTML parser for this system (\"lxml\"). This usually isn't a problem, but if you run this code on another system, or in a different virtual environment, it may use a different parser and behave differently.\n\nThe code that caused this warning is on line 170 of the file /Library/Frameworks/Python.framework/Versions/3.5/lib/python3.5/runpy.py. To get rid of this warning, change code that looks like this:\n\n BeautifulSoup(YOUR_MARKUP})\n\nto this:\n\n BeautifulSoup(YOUR_MARKUP, \"lxml\")\n\n  markup_type=markup_type))\n"
     ]
    },
    {
     "ename": "AttributeError",
     "evalue": "'str' object has no attribute 'stripped_strings'",
     "traceback": [
      "\u001b[0;31m---------------------------------------------------------------------------\u001b[0m",
      "\u001b[0;31mAttributeError\u001b[0m                            Traceback (most recent call last)",
      "\u001b[0;32m<ipython-input-46-fdb0961441b2>\u001b[0m in \u001b[0;36m<module>\u001b[0;34m()\u001b[0m\n\u001b[1;32m     26\u001b[0m \u001b[0mbook_dict\u001b[0m\u001b[0;34m[\u001b[0m\u001b[0mkey1\u001b[0m\u001b[0;34m]\u001b[0m \u001b[0;34m=\u001b[0m \u001b[0mbook_dict1\u001b[0m\u001b[0;34m\u001b[0m\u001b[0m\n\u001b[1;32m     27\u001b[0m \u001b[0mh3\u001b[0m \u001b[0;34m=\u001b[0m \u001b[0msoup\u001b[0m\u001b[0;34m.\u001b[0m\u001b[0mselect\u001b[0m\u001b[0;34m(\u001b[0m\u001b[0;34m'#main > div > div > div > div.ym-grid.linearize-level-2 > div.ym-g50.ym-gr > h3'\u001b[0m\u001b[0;34m)\u001b[0m\u001b[0;34m[\u001b[0m\u001b[0;36m0\u001b[0m\u001b[0;34m]\u001b[0m\u001b[0;34m.\u001b[0m\u001b[0mtext\u001b[0m\u001b[0;34m\u001b[0m\u001b[0m\n\u001b[0;32m---> 28\u001b[0;31m \u001b[0mkey2\u001b[0m\u001b[0;34m,\u001b[0m \u001b[0mb\u001b[0m\u001b[0;34m,\u001b[0m \u001b[0mc\u001b[0m \u001b[0;34m=\u001b[0m \u001b[0mh3\u001b[0m\u001b[0;34m.\u001b[0m\u001b[0mstripped_strings\u001b[0m\u001b[0;34m\u001b[0m\u001b[0m\n\u001b[0m\u001b[1;32m     29\u001b[0m \u001b[0mbook_dict2\u001b[0m \u001b[0;34m=\u001b[0m \u001b[0;34m{\u001b[0m\u001b[0;34m}\u001b[0m\u001b[0;34m\u001b[0m\u001b[0m\n\u001b[1;32m     30\u001b[0m \u001b[0mli_list\u001b[0m \u001b[0;34m=\u001b[0m \u001b[0msoup\u001b[0m\u001b[0;34m.\u001b[0m\u001b[0mselect\u001b[0m\u001b[0;34m(\u001b[0m\u001b[0;34m'#main > div > div > div > div.ym-grid.linearize-level-2 > div.ym-g50.ym-gr > ul'\u001b[0m\u001b[0;34m)\u001b[0m\u001b[0;34m[\u001b[0m\u001b[0;36m0\u001b[0m\u001b[0;34m]\u001b[0m\u001b[0;34m.\u001b[0m\u001b[0mselect\u001b[0m\u001b[0;34m(\u001b[0m\u001b[0;34m'li'\u001b[0m\u001b[0;34m)\u001b[0m\u001b[0;34m\u001b[0m\u001b[0m\n",
      "\u001b[0;31mAttributeError\u001b[0m: 'str' object has no attribute 'stripped_strings'"
     ],
     "output_type": "error"
    }
   ],
   "source": [
    "import time\n",
    "\n",
    "from bs4 import BeautifulSoup\n",
    "from selenium import webdriver\n",
    "from selenium.webdriver.chrome.options import Options\n",
    "\n",
    "base_url = \"https://www.wordproject.org/bibles/audio/12_japanese/index.htm\"\n",
    "\n",
    "chrome_options = Options()\n",
    "chrome_options.add_argument('--headless')\n",
    "chrome_options.add_argument('--disable-gpu')\n",
    "browser = webdriver.Chrome(chrome_options=chrome_options)\n",
    "browser.get(base_url)\n",
    "time.sleep(3)\n",
    "html = browser.page_source\n",
    "soup = BeautifulSoup(html)\n",
    "book_dict = {}\n",
    "h3 = soup.select(\"#main > div > div > div > div.ym-grid.linearize-level-2 > div.ym-g50.ym-gl > h3\")[0]\n",
    "key1, b, c = h3.stripped_strings\n",
    "book_dict1 = {}\n",
    "li_list = soup.select('#main > div > div > div > div.ym-grid.linearize-level-2 > div.ym-g50.ym-gl > ul')[0].select('li')\n",
    "for li in li_list:\n",
    "    a = li.select('a')[0]\n",
    "    value = a.text.strip()\n",
    "    book_dict1[value] = a['href']\n",
    "book_dict[key1] = book_dict1\n",
    "h3 = soup.select('#main > div > div > div > div.ym-grid.linearize-level-2 > div.ym-g50.ym-gr > h3')[0].text\n",
    "key2, b, c = h3.stripped_strings\n",
    "book_dict2 = {}\n",
    "li_list = soup.select('#main > div > div > div > div.ym-grid.linearize-level-2 > div.ym-g50.ym-gr > ul')[0].select('li')\n",
    "for li in li_list:\n",
    "    a = li.select('a')[0]\n",
    "    value = a.text.strip()\n",
    "    book_dict2[value] = a['href']\n",
    "book_dict[key2] = book_dict2\n",
    "\n",
    "with open(\"data/new_bible.txt\", 'w') as openfile:\n",
    "    for k, v in book_dict.items():\n",
    "        for chapter, url in v.items():\n",
    "            openfile.write(k + \"\\t\" + chapter + \"\\t\" + url + \"\\n\")\n"
   ]
  },
  {
   "cell_type": "code",
   "execution_count": 33,
   "metadata": {
    "collapsed": true
   },
   "outputs": [
    {
     "ename": "IndexError",
     "evalue": "list index out of range",
     "traceback": [
      "\u001b[0;31m---------------------------------------------------------------------------\u001b[0m",
      "\u001b[0;31mIndexError\u001b[0m                                Traceback (most recent call last)",
      "\u001b[0;32m<ipython-input-33-f1f26c247802>\u001b[0m in \u001b[0;36m<module>\u001b[0;34m()\u001b[0m\n\u001b[0;32m----> 1\u001b[0;31m \u001b[0msoup\u001b[0m\u001b[0;34m.\u001b[0m\u001b[0mselect\u001b[0m\u001b[0;34m(\u001b[0m\u001b[0;34m\"#main > div > div > div > div.ym-grid.linearize-level-2 > div.ym-g50.ym-gl > h3\"\u001b[0m\u001b[0;34m)\u001b[0m\u001b[0;34m[\u001b[0m\u001b[0;36m0\u001b[0m\u001b[0;34m]\u001b[0m\u001b[0;34m.\u001b[0m\u001b[0mtext\u001b[0m\u001b[0;34m\u001b[0m\u001b[0m\n\u001b[0m",
      "\u001b[0;31mIndexError\u001b[0m: list index out of range"
     ],
     "output_type": "error"
    }
   ],
   "source": [
    "soup.select(\"#main > div > div > div > div.ym-grid.linearize-level-2 > div.ym-g50.ym-gl > h3\")[0].text"
   ]
  },
  {
   "cell_type": "code",
   "execution_count": 34,
   "metadata": {
    "collapsed": true
   },
   "outputs": [
    {
     "name": "stderr",
     "output_type": "stream",
     "text": [
      "/Library/Frameworks/Python.framework/Versions/3.5/lib/python3.5/site-packages/bs4/__init__.py:181: UserWarning: No parser was explicitly specified, so I'm using the best available HTML parser for this system (\"lxml\"). This usually isn't a problem, but if you run this code on another system, or in a different virtual environment, it may use a different parser and behave differently.\n\nThe code that caused this warning is on line 170 of the file /Library/Frameworks/Python.framework/Versions/3.5/lib/python3.5/runpy.py. To get rid of this warning, change code that looks like this:\n\n BeautifulSoup(YOUR_MARKUP})\n\nto this:\n\n BeautifulSoup(YOUR_MARKUP, \"lxml\")\n\n  markup_type=markup_type))\n"
     ]
    }
   ],
   "source": [
    "base_url = \"https://www.wordproject.org/bibles/audio/12_japanese/index.htm\"\n",
    "\n",
    "chrome_options = Options()\n",
    "chrome_options.add_argument('--headless')\n",
    "chrome_options.add_argument('--disable-gpu')\n",
    "browser = webdriver.Chrome(chrome_options=chrome_options)\n",
    "browser.get(base_url)\n",
    "time.sleep(3)\n",
    "html = browser.page_source\n",
    "soup = BeautifulSoup(html)"
   ]
  },
  {
   "cell_type": "code",
   "execution_count": 48,
   "metadata": {},
   "outputs": [],
   "source": [
    "h3=soup.select('#main > div > div > div > div.ym-grid.linearize-level-2 > div.ym-g50.ym-gl > h3')[0]"
   ]
  },
  {
   "cell_type": "code",
   "execution_count": 49,
   "metadata": {},
   "outputs": [],
   "source": [
    "a,b,c= h3.stripped_strings\n"
   ]
  },
  {
   "cell_type": "code",
   "execution_count": 50,
   "metadata": {},
   "outputs": [
    {
     "data": {
      "text/plain": [
       "'旧約聖書 -'"
      ]
     },
     "execution_count": 50,
     "metadata": {},
     "output_type": "execute_result"
    }
   ],
   "source": [
    "a"
   ]
  },
  {
   "cell_type": "code",
   "execution_count": 56,
   "metadata": {
    "collapsed": true
   },
   "outputs": [
    {
     "ename": "NotImplementedError",
     "evalue": "Only the following pseudo-classes are implemented: nth-of-type.",
     "traceback": [
      "\u001b[0;31m---------------------------------------------------------------------------\u001b[0m",
      "\u001b[0;31mNotImplementedError\u001b[0m                       Traceback (most recent call last)",
      "\u001b[0;32m<ipython-input-56-3b27dfd34839>\u001b[0m in \u001b[0;36m<module>\u001b[0;34m()\u001b[0m\n\u001b[1;32m      4\u001b[0m \u001b[0mhtml\u001b[0m \u001b[0;34m=\u001b[0m \u001b[0mbrowser\u001b[0m\u001b[0;34m.\u001b[0m\u001b[0mpage_source\u001b[0m\u001b[0;34m\u001b[0m\u001b[0m\n\u001b[1;32m      5\u001b[0m \u001b[0msoup\u001b[0m \u001b[0;34m=\u001b[0m \u001b[0mBeautifulSoup\u001b[0m\u001b[0;34m(\u001b[0m\u001b[0mhtml\u001b[0m\u001b[0;34m,\u001b[0m \u001b[0;34m'html.parser'\u001b[0m\u001b[0;34m)\u001b[0m\u001b[0;34m\u001b[0m\u001b[0m\n\u001b[0;32m----> 6\u001b[0;31m \u001b[0mfile_url\u001b[0m \u001b[0;34m=\u001b[0m \u001b[0msoup\u001b[0m\u001b[0;34m.\u001b[0m\u001b[0mselect\u001b[0m\u001b[0;34m(\u001b[0m\u001b[0;34m'#main > div > div > div > div:nth-child(2) > p:nth-child(3) > a'\u001b[0m\u001b[0;34m)\u001b[0m\u001b[0;34m[\u001b[0m\u001b[0;36m0\u001b[0m\u001b[0;34m]\u001b[0m\u001b[0;34m[\u001b[0m\u001b[0;34m'href'\u001b[0m\u001b[0;34m]\u001b[0m\u001b[0;34m\u001b[0m\u001b[0m\n\u001b[0m\u001b[1;32m      7\u001b[0m \u001b[0mfile_url\u001b[0m\u001b[0;34m\u001b[0m\u001b[0m\n",
      "\u001b[0;32m/Library/Frameworks/Python.framework/Versions/3.5/lib/python3.5/site-packages/bs4/element.py\u001b[0m in \u001b[0;36mselect\u001b[0;34m(self, selector, _candidate_generator, limit)\u001b[0m\n\u001b[1;32m   1530\u001b[0m                     print(\"    Running candidate generator on %s %s\" % (\n\u001b[1;32m   1531\u001b[0m                         tag.name, repr(tag.attrs)))\n\u001b[0;32m-> 1532\u001b[0;31m                 \u001b[0;32mfor\u001b[0m \u001b[0mcandidate\u001b[0m \u001b[0;32min\u001b[0m \u001b[0m_use_candidate_generator\u001b[0m\u001b[0;34m(\u001b[0m\u001b[0mtag\u001b[0m\u001b[0;34m)\u001b[0m\u001b[0;34m:\u001b[0m\u001b[0;34m\u001b[0m\u001b[0m\n\u001b[0m\u001b[1;32m   1533\u001b[0m                     \u001b[0;32mif\u001b[0m \u001b[0;32mnot\u001b[0m \u001b[0misinstance\u001b[0m\u001b[0;34m(\u001b[0m\u001b[0mcandidate\u001b[0m\u001b[0;34m,\u001b[0m \u001b[0mTag\u001b[0m\u001b[0;34m)\u001b[0m\u001b[0;34m:\u001b[0m\u001b[0;34m\u001b[0m\u001b[0m\n\u001b[1;32m   1534\u001b[0m                         \u001b[0;32mcontinue\u001b[0m\u001b[0;34m\u001b[0m\u001b[0m\n",
      "\u001b[0;32m/Library/Frameworks/Python.framework/Versions/3.5/lib/python3.5/site-packages/bs4/element.py\u001b[0m in \u001b[0;36mrecursive_select\u001b[0;34m(tag)\u001b[0m\n\u001b[1;32m   1491\u001b[0m                         \u001b[0mprint\u001b[0m\u001b[0;34m(\u001b[0m\u001b[0;34m'    Calling select(\"%s\") recursively on %s %s'\u001b[0m \u001b[0;34m%\u001b[0m \u001b[0;34m(\u001b[0m\u001b[0mnext_token\u001b[0m\u001b[0;34m,\u001b[0m \u001b[0mtag\u001b[0m\u001b[0;34m.\u001b[0m\u001b[0mname\u001b[0m\u001b[0;34m,\u001b[0m \u001b[0mtag\u001b[0m\u001b[0;34m.\u001b[0m\u001b[0mattrs\u001b[0m\u001b[0;34m)\u001b[0m\u001b[0;34m)\u001b[0m\u001b[0;34m\u001b[0m\u001b[0m\n\u001b[1;32m   1492\u001b[0m                         \u001b[0mprint\u001b[0m\u001b[0;34m(\u001b[0m\u001b[0;34m'-'\u001b[0m \u001b[0;34m*\u001b[0m \u001b[0;36m40\u001b[0m\u001b[0;34m)\u001b[0m\u001b[0;34m\u001b[0m\u001b[0m\n\u001b[0;32m-> 1493\u001b[0;31m                     \u001b[0;32mfor\u001b[0m \u001b[0mi\u001b[0m \u001b[0;32min\u001b[0m \u001b[0mtag\u001b[0m\u001b[0;34m.\u001b[0m\u001b[0mselect\u001b[0m\u001b[0;34m(\u001b[0m\u001b[0mnext_token\u001b[0m\u001b[0;34m,\u001b[0m \u001b[0mrecursive_candidate_generator\u001b[0m\u001b[0;34m)\u001b[0m\u001b[0;34m:\u001b[0m\u001b[0;34m\u001b[0m\u001b[0m\n\u001b[0m\u001b[1;32m   1494\u001b[0m                         \u001b[0;32mif\u001b[0m \u001b[0mself\u001b[0m\u001b[0;34m.\u001b[0m\u001b[0m_select_debug\u001b[0m\u001b[0;34m:\u001b[0m\u001b[0;34m\u001b[0m\u001b[0m\n\u001b[1;32m   1495\u001b[0m                             \u001b[0mprint\u001b[0m\u001b[0;34m(\u001b[0m\u001b[0;34m'(Recursive select picked up candidate %s %s)'\u001b[0m \u001b[0;34m%\u001b[0m \u001b[0;34m(\u001b[0m\u001b[0mi\u001b[0m\u001b[0;34m.\u001b[0m\u001b[0mname\u001b[0m\u001b[0;34m,\u001b[0m \u001b[0mi\u001b[0m\u001b[0;34m.\u001b[0m\u001b[0mattrs\u001b[0m\u001b[0;34m)\u001b[0m\u001b[0;34m)\u001b[0m\u001b[0;34m\u001b[0m\u001b[0m\n",
      "\u001b[0;32m/Library/Frameworks/Python.framework/Versions/3.5/lib/python3.5/site-packages/bs4/element.py\u001b[0m in \u001b[0;36mselect\u001b[0;34m(self, selector, _candidate_generator, limit)\u001b[0m\n\u001b[1;32m   1449\u001b[0m                 \u001b[0;32melse\u001b[0m\u001b[0;34m:\u001b[0m\u001b[0;34m\u001b[0m\u001b[0m\n\u001b[1;32m   1450\u001b[0m                     raise NotImplementedError(\n\u001b[0;32m-> 1451\u001b[0;31m                         'Only the following pseudo-classes are implemented: nth-of-type.')\n\u001b[0m\u001b[1;32m   1452\u001b[0m \u001b[0;34m\u001b[0m\u001b[0m\n\u001b[1;32m   1453\u001b[0m             \u001b[0;32melif\u001b[0m \u001b[0mtoken\u001b[0m \u001b[0;34m==\u001b[0m \u001b[0;34m'*'\u001b[0m\u001b[0;34m:\u001b[0m\u001b[0;34m\u001b[0m\u001b[0m\n",
      "\u001b[0;31mNotImplementedError\u001b[0m: Only the following pseudo-classes are implemented: nth-of-type."
     ],
     "output_type": "error"
    }
   ],
   "source": [
    "url = 'https://www.wordproject.org/bibles/audio/12_japanese/b01.htm'\n",
    "browser.get(url)\n",
    "time.sleep(2)\n",
    "html = browser.page_source\n",
    "soup = BeautifulSoup(html, 'html.parser')\n",
    "file_url = soup.select('#main > div > div > div > div:nth-child(2) > p:nth-child(3) > a')[0]['href']\n",
    "file_url\n"
   ]
  },
  {
   "cell_type": "code",
   "execution_count": 54,
   "metadata": {
    "collapsed": true
   },
   "outputs": [
    {
     "ename": "NotImplementedError",
     "evalue": "Only the following pseudo-classes are implemented: nth-of-type.",
     "traceback": [
      "\u001b[0;31m---------------------------------------------------------------------------\u001b[0m",
      "\u001b[0;31mNotImplementedError\u001b[0m                       Traceback (most recent call last)",
      "\u001b[0;32m<ipython-input-54-0435b4c5222a>\u001b[0m in \u001b[0;36m<module>\u001b[0;34m()\u001b[0m\n\u001b[0;32m----> 1\u001b[0;31m \u001b[0msoup\u001b[0m\u001b[0;34m.\u001b[0m\u001b[0mselect\u001b[0m\u001b[0;34m(\u001b[0m\u001b[0;34m'#main > div > div > div > div:nth-child(2) > p:nth-child(3) > a'\u001b[0m\u001b[0;34m)\u001b[0m\u001b[0;34m\u001b[0m\u001b[0m\n\u001b[0m",
      "\u001b[0;32m/Library/Frameworks/Python.framework/Versions/3.5/lib/python3.5/site-packages/bs4/element.py\u001b[0m in \u001b[0;36mselect\u001b[0;34m(self, selector, _candidate_generator, limit)\u001b[0m\n\u001b[1;32m   1530\u001b[0m                     print(\"    Running candidate generator on %s %s\" % (\n\u001b[1;32m   1531\u001b[0m                         tag.name, repr(tag.attrs)))\n\u001b[0;32m-> 1532\u001b[0;31m                 \u001b[0;32mfor\u001b[0m \u001b[0mcandidate\u001b[0m \u001b[0;32min\u001b[0m \u001b[0m_use_candidate_generator\u001b[0m\u001b[0;34m(\u001b[0m\u001b[0mtag\u001b[0m\u001b[0;34m)\u001b[0m\u001b[0;34m:\u001b[0m\u001b[0;34m\u001b[0m\u001b[0m\n\u001b[0m\u001b[1;32m   1533\u001b[0m                     \u001b[0;32mif\u001b[0m \u001b[0;32mnot\u001b[0m \u001b[0misinstance\u001b[0m\u001b[0;34m(\u001b[0m\u001b[0mcandidate\u001b[0m\u001b[0;34m,\u001b[0m \u001b[0mTag\u001b[0m\u001b[0;34m)\u001b[0m\u001b[0;34m:\u001b[0m\u001b[0;34m\u001b[0m\u001b[0m\n\u001b[1;32m   1534\u001b[0m                         \u001b[0;32mcontinue\u001b[0m\u001b[0;34m\u001b[0m\u001b[0m\n",
      "\u001b[0;32m/Library/Frameworks/Python.framework/Versions/3.5/lib/python3.5/site-packages/bs4/element.py\u001b[0m in \u001b[0;36mrecursive_select\u001b[0;34m(tag)\u001b[0m\n\u001b[1;32m   1491\u001b[0m                         \u001b[0mprint\u001b[0m\u001b[0;34m(\u001b[0m\u001b[0;34m'    Calling select(\"%s\") recursively on %s %s'\u001b[0m \u001b[0;34m%\u001b[0m \u001b[0;34m(\u001b[0m\u001b[0mnext_token\u001b[0m\u001b[0;34m,\u001b[0m \u001b[0mtag\u001b[0m\u001b[0;34m.\u001b[0m\u001b[0mname\u001b[0m\u001b[0;34m,\u001b[0m \u001b[0mtag\u001b[0m\u001b[0;34m.\u001b[0m\u001b[0mattrs\u001b[0m\u001b[0;34m)\u001b[0m\u001b[0;34m)\u001b[0m\u001b[0;34m\u001b[0m\u001b[0m\n\u001b[1;32m   1492\u001b[0m                         \u001b[0mprint\u001b[0m\u001b[0;34m(\u001b[0m\u001b[0;34m'-'\u001b[0m \u001b[0;34m*\u001b[0m \u001b[0;36m40\u001b[0m\u001b[0;34m)\u001b[0m\u001b[0;34m\u001b[0m\u001b[0m\n\u001b[0;32m-> 1493\u001b[0;31m                     \u001b[0;32mfor\u001b[0m \u001b[0mi\u001b[0m \u001b[0;32min\u001b[0m \u001b[0mtag\u001b[0m\u001b[0;34m.\u001b[0m\u001b[0mselect\u001b[0m\u001b[0;34m(\u001b[0m\u001b[0mnext_token\u001b[0m\u001b[0;34m,\u001b[0m \u001b[0mrecursive_candidate_generator\u001b[0m\u001b[0;34m)\u001b[0m\u001b[0;34m:\u001b[0m\u001b[0;34m\u001b[0m\u001b[0m\n\u001b[0m\u001b[1;32m   1494\u001b[0m                         \u001b[0;32mif\u001b[0m \u001b[0mself\u001b[0m\u001b[0;34m.\u001b[0m\u001b[0m_select_debug\u001b[0m\u001b[0;34m:\u001b[0m\u001b[0;34m\u001b[0m\u001b[0m\n\u001b[1;32m   1495\u001b[0m                             \u001b[0mprint\u001b[0m\u001b[0;34m(\u001b[0m\u001b[0;34m'(Recursive select picked up candidate %s %s)'\u001b[0m \u001b[0;34m%\u001b[0m \u001b[0;34m(\u001b[0m\u001b[0mi\u001b[0m\u001b[0;34m.\u001b[0m\u001b[0mname\u001b[0m\u001b[0;34m,\u001b[0m \u001b[0mi\u001b[0m\u001b[0;34m.\u001b[0m\u001b[0mattrs\u001b[0m\u001b[0;34m)\u001b[0m\u001b[0;34m)\u001b[0m\u001b[0;34m\u001b[0m\u001b[0m\n",
      "\u001b[0;32m/Library/Frameworks/Python.framework/Versions/3.5/lib/python3.5/site-packages/bs4/element.py\u001b[0m in \u001b[0;36mselect\u001b[0;34m(self, selector, _candidate_generator, limit)\u001b[0m\n\u001b[1;32m   1449\u001b[0m                 \u001b[0;32melse\u001b[0m\u001b[0;34m:\u001b[0m\u001b[0;34m\u001b[0m\u001b[0m\n\u001b[1;32m   1450\u001b[0m                     raise NotImplementedError(\n\u001b[0;32m-> 1451\u001b[0;31m                         'Only the following pseudo-classes are implemented: nth-of-type.')\n\u001b[0m\u001b[1;32m   1452\u001b[0m \u001b[0;34m\u001b[0m\u001b[0m\n\u001b[1;32m   1453\u001b[0m             \u001b[0;32melif\u001b[0m \u001b[0mtoken\u001b[0m \u001b[0;34m==\u001b[0m \u001b[0;34m'*'\u001b[0m\u001b[0;34m:\u001b[0m\u001b[0;34m\u001b[0m\u001b[0m\n",
      "\u001b[0;31mNotImplementedError\u001b[0m: Only the following pseudo-classes are implemented: nth-of-type."
     ],
     "output_type": "error"
    }
   ],
   "source": [
    ""
   ]
  },
  {
   "cell_type": "code",
   "execution_count": 67,
   "metadata": {
    "collapsed": false
   },
   "outputs": [
    {
     "ename": "NotImplementedError",
     "evalue": "Only the following pseudo-classes are implemented: nth-of-type.",
     "traceback": [
      "\u001b[0;31m---------------------------------------------------------------------------\u001b[0m",
      "\u001b[0;31mNotImplementedError\u001b[0m                       Traceback (most recent call last)",
      "\u001b[0;32m<ipython-input-67-fe1c7ab5b94a>\u001b[0m in \u001b[0;36m<module>\u001b[0;34m()\u001b[0m\n\u001b[1;32m      4\u001b[0m \u001b[0mhtml\u001b[0m \u001b[0;34m=\u001b[0m \u001b[0mbrowser\u001b[0m\u001b[0;34m.\u001b[0m\u001b[0mpage_source\u001b[0m\u001b[0;34m\u001b[0m\u001b[0m\n\u001b[1;32m      5\u001b[0m \u001b[0msoup\u001b[0m \u001b[0;34m=\u001b[0m \u001b[0mBeautifulSoup\u001b[0m\u001b[0;34m(\u001b[0m\u001b[0mhtml\u001b[0m\u001b[0;34m,\u001b[0m \u001b[0;34m'lxml'\u001b[0m\u001b[0;34m)\u001b[0m\u001b[0;34m\u001b[0m\u001b[0m\n\u001b[0;32m----> 6\u001b[0;31m \u001b[0msoup\u001b[0m\u001b[0;34m.\u001b[0m\u001b[0mselect\u001b[0m\u001b[0;34m(\u001b[0m\u001b[0;34m'#main > div > div > div > div:nth-child(2) > p:nth-child(3) > a'\u001b[0m\u001b[0;34m)\u001b[0m\u001b[0;34m\u001b[0m\u001b[0m\n\u001b[0m",
      "\u001b[0;32m/Library/Frameworks/Python.framework/Versions/3.5/lib/python3.5/site-packages/bs4/element.py\u001b[0m in \u001b[0;36mselect\u001b[0;34m(self, selector, _candidate_generator, limit)\u001b[0m\n\u001b[1;32m   1530\u001b[0m                     print(\"    Running candidate generator on %s %s\" % (\n\u001b[1;32m   1531\u001b[0m                         tag.name, repr(tag.attrs)))\n\u001b[0;32m-> 1532\u001b[0;31m                 \u001b[0;32mfor\u001b[0m \u001b[0mcandidate\u001b[0m \u001b[0;32min\u001b[0m \u001b[0m_use_candidate_generator\u001b[0m\u001b[0;34m(\u001b[0m\u001b[0mtag\u001b[0m\u001b[0;34m)\u001b[0m\u001b[0;34m:\u001b[0m\u001b[0;34m\u001b[0m\u001b[0m\n\u001b[0m\u001b[1;32m   1533\u001b[0m                     \u001b[0;32mif\u001b[0m \u001b[0;32mnot\u001b[0m \u001b[0misinstance\u001b[0m\u001b[0;34m(\u001b[0m\u001b[0mcandidate\u001b[0m\u001b[0;34m,\u001b[0m \u001b[0mTag\u001b[0m\u001b[0;34m)\u001b[0m\u001b[0;34m:\u001b[0m\u001b[0;34m\u001b[0m\u001b[0m\n\u001b[1;32m   1534\u001b[0m                         \u001b[0;32mcontinue\u001b[0m\u001b[0;34m\u001b[0m\u001b[0m\n",
      "\u001b[0;32m/Library/Frameworks/Python.framework/Versions/3.5/lib/python3.5/site-packages/bs4/element.py\u001b[0m in \u001b[0;36mrecursive_select\u001b[0;34m(tag)\u001b[0m\n\u001b[1;32m   1491\u001b[0m                         \u001b[0mprint\u001b[0m\u001b[0;34m(\u001b[0m\u001b[0;34m'    Calling select(\"%s\") recursively on %s %s'\u001b[0m \u001b[0;34m%\u001b[0m \u001b[0;34m(\u001b[0m\u001b[0mnext_token\u001b[0m\u001b[0;34m,\u001b[0m \u001b[0mtag\u001b[0m\u001b[0;34m.\u001b[0m\u001b[0mname\u001b[0m\u001b[0;34m,\u001b[0m \u001b[0mtag\u001b[0m\u001b[0;34m.\u001b[0m\u001b[0mattrs\u001b[0m\u001b[0;34m)\u001b[0m\u001b[0;34m)\u001b[0m\u001b[0;34m\u001b[0m\u001b[0m\n\u001b[1;32m   1492\u001b[0m                         \u001b[0mprint\u001b[0m\u001b[0;34m(\u001b[0m\u001b[0;34m'-'\u001b[0m \u001b[0;34m*\u001b[0m \u001b[0;36m40\u001b[0m\u001b[0;34m)\u001b[0m\u001b[0;34m\u001b[0m\u001b[0m\n\u001b[0;32m-> 1493\u001b[0;31m                     \u001b[0;32mfor\u001b[0m \u001b[0mi\u001b[0m \u001b[0;32min\u001b[0m \u001b[0mtag\u001b[0m\u001b[0;34m.\u001b[0m\u001b[0mselect\u001b[0m\u001b[0;34m(\u001b[0m\u001b[0mnext_token\u001b[0m\u001b[0;34m,\u001b[0m \u001b[0mrecursive_candidate_generator\u001b[0m\u001b[0;34m)\u001b[0m\u001b[0;34m:\u001b[0m\u001b[0;34m\u001b[0m\u001b[0m\n\u001b[0m\u001b[1;32m   1494\u001b[0m                         \u001b[0;32mif\u001b[0m \u001b[0mself\u001b[0m\u001b[0;34m.\u001b[0m\u001b[0m_select_debug\u001b[0m\u001b[0;34m:\u001b[0m\u001b[0;34m\u001b[0m\u001b[0m\n\u001b[1;32m   1495\u001b[0m                             \u001b[0mprint\u001b[0m\u001b[0;34m(\u001b[0m\u001b[0;34m'(Recursive select picked up candidate %s %s)'\u001b[0m \u001b[0;34m%\u001b[0m \u001b[0;34m(\u001b[0m\u001b[0mi\u001b[0m\u001b[0;34m.\u001b[0m\u001b[0mname\u001b[0m\u001b[0;34m,\u001b[0m \u001b[0mi\u001b[0m\u001b[0;34m.\u001b[0m\u001b[0mattrs\u001b[0m\u001b[0;34m)\u001b[0m\u001b[0;34m)\u001b[0m\u001b[0;34m\u001b[0m\u001b[0m\n",
      "\u001b[0;32m/Library/Frameworks/Python.framework/Versions/3.5/lib/python3.5/site-packages/bs4/element.py\u001b[0m in \u001b[0;36mselect\u001b[0;34m(self, selector, _candidate_generator, limit)\u001b[0m\n\u001b[1;32m   1449\u001b[0m                 \u001b[0;32melse\u001b[0m\u001b[0;34m:\u001b[0m\u001b[0;34m\u001b[0m\u001b[0m\n\u001b[1;32m   1450\u001b[0m                     raise NotImplementedError(\n\u001b[0;32m-> 1451\u001b[0;31m                         'Only the following pseudo-classes are implemented: nth-of-type.')\n\u001b[0m\u001b[1;32m   1452\u001b[0m \u001b[0;34m\u001b[0m\u001b[0m\n\u001b[1;32m   1453\u001b[0m             \u001b[0;32melif\u001b[0m \u001b[0mtoken\u001b[0m \u001b[0;34m==\u001b[0m \u001b[0;34m'*'\u001b[0m\u001b[0;34m:\u001b[0m\u001b[0;34m\u001b[0m\u001b[0m\n",
      "\u001b[0;31mNotImplementedError\u001b[0m: Only the following pseudo-classes are implemented: nth-of-type."
     ],
     "output_type": "error"
    }
   ],
   "source": [
    "url = 'https://www.wordproject.org/bibles/audio/12_japanese/b01.htm'\n",
    "chrome_options = Options()\n",
    "chrome_options.add_argument('--headless')\n",
    "chrome_options.add_argument('--disable-gpu')\n",
    "browser = webdriver.Chrome(chrome_options=chrome_options)\n",
    "browser.get(url)\n",
    "time.sleep(2)\n",
    "html = browser.page_source\n",
    "soup = BeautifulSoup(html, 'lxml')\n",
    "soup.select('#main > div > div > div > div:nth-child(2) > p:nth-child(3) > a')\n"
   ]
  },
  {
   "cell_type": "code",
   "execution_count": 65,
   "metadata": {
    "collapsed": true
   },
   "outputs": [
    {
     "ename": "NotImplementedError",
     "evalue": "Only the following pseudo-classes are implemented: nth-of-type.",
     "traceback": [
      "\u001b[0;31m---------------------------------------------------------------------------\u001b[0m",
      "\u001b[0;31mNotImplementedError\u001b[0m                       Traceback (most recent call last)",
      "\u001b[0;32m<ipython-input-65-0435b4c5222a>\u001b[0m in \u001b[0;36m<module>\u001b[0;34m()\u001b[0m\n\u001b[0;32m----> 1\u001b[0;31m \u001b[0msoup\u001b[0m\u001b[0;34m.\u001b[0m\u001b[0mselect\u001b[0m\u001b[0;34m(\u001b[0m\u001b[0;34m'#main > div > div > div > div:nth-child(2) > p:nth-child(3) > a'\u001b[0m\u001b[0;34m)\u001b[0m\u001b[0;34m\u001b[0m\u001b[0m\n\u001b[0m",
      "\u001b[0;32m/Library/Frameworks/Python.framework/Versions/3.5/lib/python3.5/site-packages/bs4/element.py\u001b[0m in \u001b[0;36mselect\u001b[0;34m(self, selector, _candidate_generator, limit)\u001b[0m\n\u001b[1;32m   1530\u001b[0m                     print(\"    Running candidate generator on %s %s\" % (\n\u001b[1;32m   1531\u001b[0m                         tag.name, repr(tag.attrs)))\n\u001b[0;32m-> 1532\u001b[0;31m                 \u001b[0;32mfor\u001b[0m \u001b[0mcandidate\u001b[0m \u001b[0;32min\u001b[0m \u001b[0m_use_candidate_generator\u001b[0m\u001b[0;34m(\u001b[0m\u001b[0mtag\u001b[0m\u001b[0;34m)\u001b[0m\u001b[0;34m:\u001b[0m\u001b[0;34m\u001b[0m\u001b[0m\n\u001b[0m\u001b[1;32m   1533\u001b[0m                     \u001b[0;32mif\u001b[0m \u001b[0;32mnot\u001b[0m \u001b[0misinstance\u001b[0m\u001b[0;34m(\u001b[0m\u001b[0mcandidate\u001b[0m\u001b[0;34m,\u001b[0m \u001b[0mTag\u001b[0m\u001b[0;34m)\u001b[0m\u001b[0;34m:\u001b[0m\u001b[0;34m\u001b[0m\u001b[0m\n\u001b[1;32m   1534\u001b[0m                         \u001b[0;32mcontinue\u001b[0m\u001b[0;34m\u001b[0m\u001b[0m\n",
      "\u001b[0;32m/Library/Frameworks/Python.framework/Versions/3.5/lib/python3.5/site-packages/bs4/element.py\u001b[0m in \u001b[0;36mrecursive_select\u001b[0;34m(tag)\u001b[0m\n\u001b[1;32m   1491\u001b[0m                         \u001b[0mprint\u001b[0m\u001b[0;34m(\u001b[0m\u001b[0;34m'    Calling select(\"%s\") recursively on %s %s'\u001b[0m \u001b[0;34m%\u001b[0m \u001b[0;34m(\u001b[0m\u001b[0mnext_token\u001b[0m\u001b[0;34m,\u001b[0m \u001b[0mtag\u001b[0m\u001b[0;34m.\u001b[0m\u001b[0mname\u001b[0m\u001b[0;34m,\u001b[0m \u001b[0mtag\u001b[0m\u001b[0;34m.\u001b[0m\u001b[0mattrs\u001b[0m\u001b[0;34m)\u001b[0m\u001b[0;34m)\u001b[0m\u001b[0;34m\u001b[0m\u001b[0m\n\u001b[1;32m   1492\u001b[0m                         \u001b[0mprint\u001b[0m\u001b[0;34m(\u001b[0m\u001b[0;34m'-'\u001b[0m \u001b[0;34m*\u001b[0m \u001b[0;36m40\u001b[0m\u001b[0;34m)\u001b[0m\u001b[0;34m\u001b[0m\u001b[0m\n\u001b[0;32m-> 1493\u001b[0;31m                     \u001b[0;32mfor\u001b[0m \u001b[0mi\u001b[0m \u001b[0;32min\u001b[0m \u001b[0mtag\u001b[0m\u001b[0;34m.\u001b[0m\u001b[0mselect\u001b[0m\u001b[0;34m(\u001b[0m\u001b[0mnext_token\u001b[0m\u001b[0;34m,\u001b[0m \u001b[0mrecursive_candidate_generator\u001b[0m\u001b[0;34m)\u001b[0m\u001b[0;34m:\u001b[0m\u001b[0;34m\u001b[0m\u001b[0m\n\u001b[0m\u001b[1;32m   1494\u001b[0m                         \u001b[0;32mif\u001b[0m \u001b[0mself\u001b[0m\u001b[0;34m.\u001b[0m\u001b[0m_select_debug\u001b[0m\u001b[0;34m:\u001b[0m\u001b[0;34m\u001b[0m\u001b[0m\n\u001b[1;32m   1495\u001b[0m                             \u001b[0mprint\u001b[0m\u001b[0;34m(\u001b[0m\u001b[0;34m'(Recursive select picked up candidate %s %s)'\u001b[0m \u001b[0;34m%\u001b[0m \u001b[0;34m(\u001b[0m\u001b[0mi\u001b[0m\u001b[0;34m.\u001b[0m\u001b[0mname\u001b[0m\u001b[0;34m,\u001b[0m \u001b[0mi\u001b[0m\u001b[0;34m.\u001b[0m\u001b[0mattrs\u001b[0m\u001b[0;34m)\u001b[0m\u001b[0;34m)\u001b[0m\u001b[0;34m\u001b[0m\u001b[0m\n",
      "\u001b[0;32m/Library/Frameworks/Python.framework/Versions/3.5/lib/python3.5/site-packages/bs4/element.py\u001b[0m in \u001b[0;36mselect\u001b[0;34m(self, selector, _candidate_generator, limit)\u001b[0m\n\u001b[1;32m   1449\u001b[0m                 \u001b[0;32melse\u001b[0m\u001b[0;34m:\u001b[0m\u001b[0;34m\u001b[0m\u001b[0m\n\u001b[1;32m   1450\u001b[0m                     raise NotImplementedError(\n\u001b[0;32m-> 1451\u001b[0;31m                         'Only the following pseudo-classes are implemented: nth-of-type.')\n\u001b[0m\u001b[1;32m   1452\u001b[0m \u001b[0;34m\u001b[0m\u001b[0m\n\u001b[1;32m   1453\u001b[0m             \u001b[0;32melif\u001b[0m \u001b[0mtoken\u001b[0m \u001b[0;34m==\u001b[0m \u001b[0;34m'*'\u001b[0m\u001b[0;34m:\u001b[0m\u001b[0;34m\u001b[0m\u001b[0m\n",
      "\u001b[0;31mNotImplementedError\u001b[0m: Only the following pseudo-classes are implemented: nth-of-type."
     ],
     "output_type": "error"
    }
   ],
   "source": [
    "soup.select('#main > div > div > div > div:nth-child(2) > p:nth-child(3) > a')"
   ]
  },
  {
   "cell_type": "code",
   "execution_count": 71,
   "metadata": {},
   "outputs": [],
   "source": [
    "url = 'https://www.wordproject.org/bibles/audio/12_japanese/b01.htm'\n",
    "chrome_options = Options()\n",
    "chrome_options.add_argument('--headless')\n",
    "chrome_options.add_argument('--disable-gpu')\n",
    "browser = webdriver.Chrome(chrome_options=chrome_options)\n",
    "browser.get(url)\n",
    "time.sleep(2)\n",
    "html = browser.page_source\n",
    "soup = BeautifulSoup(html, 'lxml')\n",
    "botton = soup.select('.textOptions')[0].select('.ym-button')\n"
   ]
  },
  {
   "cell_type": "code",
   "execution_count": 77,
   "metadata": {
    "collapsed": true
   },
   "outputs": [],
   "source": [
    "soup = BeautifulSoup(html, 'lxml')\n",
    "botton = soup.select('.textOptions')[0].select('.ym-button')"
   ]
  },
  {
   "cell_type": "code",
   "execution_count": 78,
   "metadata": {},
   "outputs": [
    {
     "data": {
      "text/plain": [
       "'http://wpaorg.wordproject.com/bibles/app/audio/12_1.zip'"
      ]
     },
     "execution_count": 78,
     "metadata": {},
     "output_type": "execute_result"
    }
   ],
   "source": [
    "botton[0]['href']"
   ]
  },
  {
   "cell_type": "code",
   "execution_count": null,
   "metadata": {},
   "outputs": [],
   "source": []
  }
 ],
 "metadata": {
  "kernelspec": {
   "display_name": "Python 2",
   "language": "python",
   "name": "python2"
  },
  "language_info": {
   "codemirror_mode": {
    "name": "ipython",
    "version": 2
   },
   "file_extension": ".py",
   "mimetype": "text/x-python",
   "name": "python",
   "nbconvert_exporter": "python",
   "pygments_lexer": "ipython2",
   "version": "2.7.6"
  }
 },
 "nbformat": 4,
 "nbformat_minor": 0
}
